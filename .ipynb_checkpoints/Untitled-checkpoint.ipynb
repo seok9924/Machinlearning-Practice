{
 "cells": [
  {
   "cell_type": "code",
   "execution_count": 1,
   "metadata": {},
   "outputs": [],
   "source": [
    "from collections import defaultdict"
   ]
  },
  {
   "cell_type": "code",
   "execution_count": 2,
   "metadata": {},
   "outputs": [
    {
     "name": "stdout",
     "output_type": "stream",
     "text": [
      "{'A': 0, 'B': 0, 'C': 0}\n"
     ]
    }
   ],
   "source": [
    "normalDict = {}\n",
    " \n",
    "normalKey =[\"A\",\"B\",\"C\"]\n",
    " \n",
    "for item in normalKey:\n",
    " \n",
    "    normalDict.setdefault(item, 0)\n",
    " \n",
    "print(normalDict)"
   ]
  },
  {
   "cell_type": "code",
   "execution_count": 15,
   "metadata": {
    "scrolled": true
   },
   "outputs": [
    {
     "data": {
      "text/plain": [
       "defaultdict(float, {'dog': 0.0})"
      ]
     },
     "execution_count": 15,
     "metadata": {},
     "output_type": "execute_result"
    }
   ],
   "source": [
    "animals = ['dog', 'cat', 'rabbit', 'tiger', 'cat', 'cat', 'rabbit']\n",
    "dic = defaultdict(float)\n",
    "\n",
    "# for animal in animals:\n",
    "#     dic[animal] += 1\n",
    "\n",
    "# print(dic)\n",
    "# print(dic['door'])\n",
    "# print(dic)\n",
    "# for i,v in dic.items():\n",
    "#     print(i+':'+str(v))\n",
    "dic['dog']\n",
    "dic"
   ]
  },
  {
   "cell_type": "code",
   "execution_count": null,
   "metadata": {},
   "outputs": [],
   "source": []
  }
 ],
 "metadata": {
  "kernelspec": {
   "display_name": "Python 3 (ipykernel)",
   "language": "python",
   "name": "python3"
  },
  "language_info": {
   "codemirror_mode": {
    "name": "ipython",
    "version": 3
   },
   "file_extension": ".py",
   "mimetype": "text/x-python",
   "name": "python",
   "nbconvert_exporter": "python",
   "pygments_lexer": "ipython3",
   "version": "3.8.15"
  }
 },
 "nbformat": 4,
 "nbformat_minor": 4
}
