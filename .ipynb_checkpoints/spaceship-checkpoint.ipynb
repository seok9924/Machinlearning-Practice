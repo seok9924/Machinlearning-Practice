{
 "cells": [
  {
   "cell_type": "markdown",
   "id": "be96dd95",
   "metadata": {},
   "source": [
    "# Spaceship Titanic"
   ]
  },
  {
   "cell_type": "code",
   "execution_count": 448,
   "id": "7e343bb2",
   "metadata": {},
   "outputs": [],
   "source": [
    "import pandas as pd\n",
    "import warnings\n",
    "import matplotlib.pyplot as plt\n",
    "import numpy as np\n",
    "import seaborn as sns\n",
    "import warnings\n",
    "warnings.filterwarnings('ignore')\n",
    "import time"
   ]
  },
  {
   "cell_type": "code",
   "execution_count": 449,
   "id": "7b1b6646",
   "metadata": {},
   "outputs": [],
   "source": [
    "X_train=pd.read_csv('./spaceship-titanic/train.csv')\n",
    "X_test=pd.read_csv('./spaceship-titanic/test.csv')\n",
    "submission=pd.read_csv('./spaceship-titanic/sample_submission.csv')"
   ]
  },
  {
   "cell_type": "markdown",
   "id": "1e47069e",
   "metadata": {},
   "source": [
    "- 데이터확인\n",
    "- 데이터전처리\n",
    "- ML모델링\n",
    "- 최적화 및 성능평가"
   ]
  },
  {
   "cell_type": "code",
   "execution_count": 450,
   "id": "e622d66e",
   "metadata": {},
   "outputs": [
    {
     "data": {
      "text/plain": [
       "((8693, 14), (4277, 13), (4277, 2))"
      ]
     },
     "execution_count": 450,
     "metadata": {},
     "output_type": "execute_result"
    }
   ],
   "source": [
    "X_train.shape, X_test.shape, submission.shape"
   ]
  },
  {
   "cell_type": "code",
   "execution_count": 451,
   "id": "2fdf3425",
   "metadata": {},
   "outputs": [
    {
     "data": {
      "text/html": [
       "<div>\n",
       "<style scoped>\n",
       "    .dataframe tbody tr th:only-of-type {\n",
       "        vertical-align: middle;\n",
       "    }\n",
       "\n",
       "    .dataframe tbody tr th {\n",
       "        vertical-align: top;\n",
       "    }\n",
       "\n",
       "    .dataframe thead th {\n",
       "        text-align: right;\n",
       "    }\n",
       "</style>\n",
       "<table border=\"1\" class=\"dataframe\">\n",
       "  <thead>\n",
       "    <tr style=\"text-align: right;\">\n",
       "      <th></th>\n",
       "      <th>PassengerId</th>\n",
       "      <th>HomePlanet</th>\n",
       "      <th>CryoSleep</th>\n",
       "      <th>Cabin</th>\n",
       "      <th>Destination</th>\n",
       "      <th>Age</th>\n",
       "      <th>VIP</th>\n",
       "      <th>RoomService</th>\n",
       "      <th>FoodCourt</th>\n",
       "      <th>ShoppingMall</th>\n",
       "      <th>Spa</th>\n",
       "      <th>VRDeck</th>\n",
       "      <th>Name</th>\n",
       "      <th>Transported</th>\n",
       "    </tr>\n",
       "  </thead>\n",
       "  <tbody>\n",
       "    <tr>\n",
       "      <th>0</th>\n",
       "      <td>0001_01</td>\n",
       "      <td>Europa</td>\n",
       "      <td>False</td>\n",
       "      <td>B/0/P</td>\n",
       "      <td>TRAPPIST-1e</td>\n",
       "      <td>39.0</td>\n",
       "      <td>False</td>\n",
       "      <td>0.0</td>\n",
       "      <td>0.0</td>\n",
       "      <td>0.0</td>\n",
       "      <td>0.0</td>\n",
       "      <td>0.0</td>\n",
       "      <td>Maham Ofracculy</td>\n",
       "      <td>False</td>\n",
       "    </tr>\n",
       "    <tr>\n",
       "      <th>1</th>\n",
       "      <td>0002_01</td>\n",
       "      <td>Earth</td>\n",
       "      <td>False</td>\n",
       "      <td>F/0/S</td>\n",
       "      <td>TRAPPIST-1e</td>\n",
       "      <td>24.0</td>\n",
       "      <td>False</td>\n",
       "      <td>109.0</td>\n",
       "      <td>9.0</td>\n",
       "      <td>25.0</td>\n",
       "      <td>549.0</td>\n",
       "      <td>44.0</td>\n",
       "      <td>Juanna Vines</td>\n",
       "      <td>True</td>\n",
       "    </tr>\n",
       "    <tr>\n",
       "      <th>2</th>\n",
       "      <td>0003_01</td>\n",
       "      <td>Europa</td>\n",
       "      <td>False</td>\n",
       "      <td>A/0/S</td>\n",
       "      <td>TRAPPIST-1e</td>\n",
       "      <td>58.0</td>\n",
       "      <td>True</td>\n",
       "      <td>43.0</td>\n",
       "      <td>3576.0</td>\n",
       "      <td>0.0</td>\n",
       "      <td>6715.0</td>\n",
       "      <td>49.0</td>\n",
       "      <td>Altark Susent</td>\n",
       "      <td>False</td>\n",
       "    </tr>\n",
       "    <tr>\n",
       "      <th>3</th>\n",
       "      <td>0003_02</td>\n",
       "      <td>Europa</td>\n",
       "      <td>False</td>\n",
       "      <td>A/0/S</td>\n",
       "      <td>TRAPPIST-1e</td>\n",
       "      <td>33.0</td>\n",
       "      <td>False</td>\n",
       "      <td>0.0</td>\n",
       "      <td>1283.0</td>\n",
       "      <td>371.0</td>\n",
       "      <td>3329.0</td>\n",
       "      <td>193.0</td>\n",
       "      <td>Solam Susent</td>\n",
       "      <td>False</td>\n",
       "    </tr>\n",
       "    <tr>\n",
       "      <th>4</th>\n",
       "      <td>0004_01</td>\n",
       "      <td>Earth</td>\n",
       "      <td>False</td>\n",
       "      <td>F/1/S</td>\n",
       "      <td>TRAPPIST-1e</td>\n",
       "      <td>16.0</td>\n",
       "      <td>False</td>\n",
       "      <td>303.0</td>\n",
       "      <td>70.0</td>\n",
       "      <td>151.0</td>\n",
       "      <td>565.0</td>\n",
       "      <td>2.0</td>\n",
       "      <td>Willy Santantines</td>\n",
       "      <td>True</td>\n",
       "    </tr>\n",
       "  </tbody>\n",
       "</table>\n",
       "</div>"
      ],
      "text/plain": [
       "  PassengerId HomePlanet CryoSleep  Cabin  Destination   Age    VIP  \\\n",
       "0     0001_01     Europa     False  B/0/P  TRAPPIST-1e  39.0  False   \n",
       "1     0002_01      Earth     False  F/0/S  TRAPPIST-1e  24.0  False   \n",
       "2     0003_01     Europa     False  A/0/S  TRAPPIST-1e  58.0   True   \n",
       "3     0003_02     Europa     False  A/0/S  TRAPPIST-1e  33.0  False   \n",
       "4     0004_01      Earth     False  F/1/S  TRAPPIST-1e  16.0  False   \n",
       "\n",
       "   RoomService  FoodCourt  ShoppingMall     Spa  VRDeck               Name  \\\n",
       "0          0.0        0.0           0.0     0.0     0.0    Maham Ofracculy   \n",
       "1        109.0        9.0          25.0   549.0    44.0       Juanna Vines   \n",
       "2         43.0     3576.0           0.0  6715.0    49.0      Altark Susent   \n",
       "3          0.0     1283.0         371.0  3329.0   193.0       Solam Susent   \n",
       "4        303.0       70.0         151.0   565.0     2.0  Willy Santantines   \n",
       "\n",
       "   Transported  \n",
       "0        False  \n",
       "1         True  \n",
       "2        False  \n",
       "3        False  \n",
       "4         True  "
      ]
     },
     "execution_count": 451,
     "metadata": {},
     "output_type": "execute_result"
    }
   ],
   "source": [
    "X_train.head(5)"
   ]
  },
  {
   "cell_type": "code",
   "execution_count": 452,
   "id": "d240f50a",
   "metadata": {
    "scrolled": true
   },
   "outputs": [
    {
     "data": {
      "text/html": [
       "<div>\n",
       "<style scoped>\n",
       "    .dataframe tbody tr th:only-of-type {\n",
       "        vertical-align: middle;\n",
       "    }\n",
       "\n",
       "    .dataframe tbody tr th {\n",
       "        vertical-align: top;\n",
       "    }\n",
       "\n",
       "    .dataframe thead th {\n",
       "        text-align: right;\n",
       "    }\n",
       "</style>\n",
       "<table border=\"1\" class=\"dataframe\">\n",
       "  <thead>\n",
       "    <tr style=\"text-align: right;\">\n",
       "      <th></th>\n",
       "      <th>PassengerId</th>\n",
       "      <th>HomePlanet</th>\n",
       "      <th>CryoSleep</th>\n",
       "      <th>Cabin</th>\n",
       "      <th>Destination</th>\n",
       "      <th>Age</th>\n",
       "      <th>VIP</th>\n",
       "      <th>RoomService</th>\n",
       "      <th>FoodCourt</th>\n",
       "      <th>ShoppingMall</th>\n",
       "      <th>Spa</th>\n",
       "      <th>VRDeck</th>\n",
       "      <th>Name</th>\n",
       "    </tr>\n",
       "  </thead>\n",
       "  <tbody>\n",
       "    <tr>\n",
       "      <th>0</th>\n",
       "      <td>0013_01</td>\n",
       "      <td>Earth</td>\n",
       "      <td>True</td>\n",
       "      <td>G/3/S</td>\n",
       "      <td>TRAPPIST-1e</td>\n",
       "      <td>27.0</td>\n",
       "      <td>False</td>\n",
       "      <td>0.0</td>\n",
       "      <td>0.0</td>\n",
       "      <td>0.0</td>\n",
       "      <td>0.0</td>\n",
       "      <td>0.0</td>\n",
       "      <td>Nelly Carsoning</td>\n",
       "    </tr>\n",
       "    <tr>\n",
       "      <th>1</th>\n",
       "      <td>0018_01</td>\n",
       "      <td>Earth</td>\n",
       "      <td>False</td>\n",
       "      <td>F/4/S</td>\n",
       "      <td>TRAPPIST-1e</td>\n",
       "      <td>19.0</td>\n",
       "      <td>False</td>\n",
       "      <td>0.0</td>\n",
       "      <td>9.0</td>\n",
       "      <td>0.0</td>\n",
       "      <td>2823.0</td>\n",
       "      <td>0.0</td>\n",
       "      <td>Lerome Peckers</td>\n",
       "    </tr>\n",
       "    <tr>\n",
       "      <th>2</th>\n",
       "      <td>0019_01</td>\n",
       "      <td>Europa</td>\n",
       "      <td>True</td>\n",
       "      <td>C/0/S</td>\n",
       "      <td>55 Cancri e</td>\n",
       "      <td>31.0</td>\n",
       "      <td>False</td>\n",
       "      <td>0.0</td>\n",
       "      <td>0.0</td>\n",
       "      <td>0.0</td>\n",
       "      <td>0.0</td>\n",
       "      <td>0.0</td>\n",
       "      <td>Sabih Unhearfus</td>\n",
       "    </tr>\n",
       "    <tr>\n",
       "      <th>3</th>\n",
       "      <td>0021_01</td>\n",
       "      <td>Europa</td>\n",
       "      <td>False</td>\n",
       "      <td>C/1/S</td>\n",
       "      <td>TRAPPIST-1e</td>\n",
       "      <td>38.0</td>\n",
       "      <td>False</td>\n",
       "      <td>0.0</td>\n",
       "      <td>6652.0</td>\n",
       "      <td>0.0</td>\n",
       "      <td>181.0</td>\n",
       "      <td>585.0</td>\n",
       "      <td>Meratz Caltilter</td>\n",
       "    </tr>\n",
       "    <tr>\n",
       "      <th>4</th>\n",
       "      <td>0023_01</td>\n",
       "      <td>Earth</td>\n",
       "      <td>False</td>\n",
       "      <td>F/5/S</td>\n",
       "      <td>TRAPPIST-1e</td>\n",
       "      <td>20.0</td>\n",
       "      <td>False</td>\n",
       "      <td>10.0</td>\n",
       "      <td>0.0</td>\n",
       "      <td>635.0</td>\n",
       "      <td>0.0</td>\n",
       "      <td>0.0</td>\n",
       "      <td>Brence Harperez</td>\n",
       "    </tr>\n",
       "  </tbody>\n",
       "</table>\n",
       "</div>"
      ],
      "text/plain": [
       "  PassengerId HomePlanet CryoSleep  Cabin  Destination   Age    VIP  \\\n",
       "0     0013_01      Earth      True  G/3/S  TRAPPIST-1e  27.0  False   \n",
       "1     0018_01      Earth     False  F/4/S  TRAPPIST-1e  19.0  False   \n",
       "2     0019_01     Europa      True  C/0/S  55 Cancri e  31.0  False   \n",
       "3     0021_01     Europa     False  C/1/S  TRAPPIST-1e  38.0  False   \n",
       "4     0023_01      Earth     False  F/5/S  TRAPPIST-1e  20.0  False   \n",
       "\n",
       "   RoomService  FoodCourt  ShoppingMall     Spa  VRDeck              Name  \n",
       "0          0.0        0.0           0.0     0.0     0.0   Nelly Carsoning  \n",
       "1          0.0        9.0           0.0  2823.0     0.0    Lerome Peckers  \n",
       "2          0.0        0.0           0.0     0.0     0.0   Sabih Unhearfus  \n",
       "3          0.0     6652.0           0.0   181.0   585.0  Meratz Caltilter  \n",
       "4         10.0        0.0         635.0     0.0     0.0   Brence Harperez  "
      ]
     },
     "execution_count": 452,
     "metadata": {},
     "output_type": "execute_result"
    }
   ],
   "source": [
    "X_test.head(5)"
   ]
  },
  {
   "cell_type": "markdown",
   "id": "f1f20dee",
   "metadata": {},
   "source": [
    "- train.csv - Personal records for about two-thirds (~8700) of the passengers, to be used as training data.\n",
    "- PassengerId - A unique Id for each passenger. Each Id takes the form gggg_pp where gggg indicates a group the passenger is travelling with and pp is their number within the group. People in a group are often family members, but not always.\n",
    "- HomePlanet - The planet the passenger departed from, typically their planet of permanent residence.\n",
    "- CryoSleep - Indicates whether the passenger elected to be put into suspended animation for the duration of the voyage. Passengers in cryosleep are confined to their cabins.\n",
    "- Cabin - The cabin number where the passenger is staying. Takes the form deck/num/side, where side can be either P for Port or S for Starboard.\n",
    "- Destination - The planet the passenger will be debarking to.\n",
    "- Age - The age of the passenger.\n",
    "- VIP - Whether the passenger has paid for special VIP service during the voyage.\n",
    "- RoomService, FoodCourt, ShoppingMall, Spa, VRDeck - Amount the passenger has billed at each of the Spaceship Titanic's many luxury amenities.\n",
    "- Name - The first and last names of the passenger.\n",
    "- Transported - Whether the passenger was transported to another dimension. This is the target, the column you are trying to predict.\n",
    "\n",
    "- PassengerId - Id for each passenger in the test set.\n",
    "- Transported - The target. For each passenger, predict either True or False.\n",
    "\n"
   ]
  },
  {
   "cell_type": "markdown",
   "id": "4d99c435",
   "metadata": {},
   "source": [
    "- PassengerId : gggg-pp 형식 gggg는 여행객 그룹 pp는 그 그룹 안 숫자, 종종 가족 아닐경우도 존재\n",
    "- HomePlanet : 고향\n",
    "- CryoSleep : 동면 시키기 그들의 캐빈 안에 갇힘\n",
    "- Cabin : deck/num/side/  side_P side_S 가 존재\n",
    "- Destination 목적지\n",
    "- Age 나이\n",
    "- VIP vip 여부 \n",
    "- RoomService,FoodCourt,ShoppingMall,Spa,VRDeck 각 구역 사용금액 총합\n",
    "- Name 이름\n",
    "- Transported 전송"
   ]
  },
  {
   "cell_type": "code",
   "execution_count": 453,
   "id": "c48e1a81",
   "metadata": {
    "scrolled": true
   },
   "outputs": [
    {
     "name": "stdout",
     "output_type": "stream",
     "text": [
      "<class 'pandas.core.frame.DataFrame'>\n",
      "RangeIndex: 8693 entries, 0 to 8692\n",
      "Data columns (total 14 columns):\n",
      " #   Column        Non-Null Count  Dtype  \n",
      "---  ------        --------------  -----  \n",
      " 0   PassengerId   8693 non-null   object \n",
      " 1   HomePlanet    8492 non-null   object \n",
      " 2   CryoSleep     8476 non-null   object \n",
      " 3   Cabin         8494 non-null   object \n",
      " 4   Destination   8511 non-null   object \n",
      " 5   Age           8514 non-null   float64\n",
      " 6   VIP           8490 non-null   object \n",
      " 7   RoomService   8512 non-null   float64\n",
      " 8   FoodCourt     8510 non-null   float64\n",
      " 9   ShoppingMall  8485 non-null   float64\n",
      " 10  Spa           8510 non-null   float64\n",
      " 11  VRDeck        8505 non-null   float64\n",
      " 12  Name          8493 non-null   object \n",
      " 13  Transported   8693 non-null   bool   \n",
      "dtypes: bool(1), float64(6), object(7)\n",
      "memory usage: 891.5+ KB\n"
     ]
    }
   ],
   "source": [
    "X_train.info()"
   ]
  },
  {
   "cell_type": "markdown",
   "id": "923c965a",
   "metadata": {},
   "source": [
    "**수치형 특성 탐색**"
   ]
  },
  {
   "cell_type": "code",
   "execution_count": 454,
   "id": "9f24dfab",
   "metadata": {
    "scrolled": false
   },
   "outputs": [
    {
     "data": {
      "text/html": [
       "<div>\n",
       "<style scoped>\n",
       "    .dataframe tbody tr th:only-of-type {\n",
       "        vertical-align: middle;\n",
       "    }\n",
       "\n",
       "    .dataframe tbody tr th {\n",
       "        vertical-align: top;\n",
       "    }\n",
       "\n",
       "    .dataframe thead th {\n",
       "        text-align: right;\n",
       "    }\n",
       "</style>\n",
       "<table border=\"1\" class=\"dataframe\">\n",
       "  <thead>\n",
       "    <tr style=\"text-align: right;\">\n",
       "      <th></th>\n",
       "      <th>Age</th>\n",
       "      <th>RoomService</th>\n",
       "      <th>FoodCourt</th>\n",
       "      <th>ShoppingMall</th>\n",
       "      <th>Spa</th>\n",
       "      <th>VRDeck</th>\n",
       "    </tr>\n",
       "  </thead>\n",
       "  <tbody>\n",
       "    <tr>\n",
       "      <th>count</th>\n",
       "      <td>8514.000000</td>\n",
       "      <td>8512.000000</td>\n",
       "      <td>8510.000000</td>\n",
       "      <td>8485.000000</td>\n",
       "      <td>8510.000000</td>\n",
       "      <td>8505.000000</td>\n",
       "    </tr>\n",
       "    <tr>\n",
       "      <th>mean</th>\n",
       "      <td>28.827930</td>\n",
       "      <td>224.687617</td>\n",
       "      <td>458.077203</td>\n",
       "      <td>173.729169</td>\n",
       "      <td>311.138778</td>\n",
       "      <td>304.854791</td>\n",
       "    </tr>\n",
       "    <tr>\n",
       "      <th>std</th>\n",
       "      <td>14.489021</td>\n",
       "      <td>666.717663</td>\n",
       "      <td>1611.489240</td>\n",
       "      <td>604.696458</td>\n",
       "      <td>1136.705535</td>\n",
       "      <td>1145.717189</td>\n",
       "    </tr>\n",
       "    <tr>\n",
       "      <th>min</th>\n",
       "      <td>0.000000</td>\n",
       "      <td>0.000000</td>\n",
       "      <td>0.000000</td>\n",
       "      <td>0.000000</td>\n",
       "      <td>0.000000</td>\n",
       "      <td>0.000000</td>\n",
       "    </tr>\n",
       "    <tr>\n",
       "      <th>25%</th>\n",
       "      <td>19.000000</td>\n",
       "      <td>0.000000</td>\n",
       "      <td>0.000000</td>\n",
       "      <td>0.000000</td>\n",
       "      <td>0.000000</td>\n",
       "      <td>0.000000</td>\n",
       "    </tr>\n",
       "    <tr>\n",
       "      <th>50%</th>\n",
       "      <td>27.000000</td>\n",
       "      <td>0.000000</td>\n",
       "      <td>0.000000</td>\n",
       "      <td>0.000000</td>\n",
       "      <td>0.000000</td>\n",
       "      <td>0.000000</td>\n",
       "    </tr>\n",
       "    <tr>\n",
       "      <th>75%</th>\n",
       "      <td>38.000000</td>\n",
       "      <td>47.000000</td>\n",
       "      <td>76.000000</td>\n",
       "      <td>27.000000</td>\n",
       "      <td>59.000000</td>\n",
       "      <td>46.000000</td>\n",
       "    </tr>\n",
       "    <tr>\n",
       "      <th>max</th>\n",
       "      <td>79.000000</td>\n",
       "      <td>14327.000000</td>\n",
       "      <td>29813.000000</td>\n",
       "      <td>23492.000000</td>\n",
       "      <td>22408.000000</td>\n",
       "      <td>24133.000000</td>\n",
       "    </tr>\n",
       "  </tbody>\n",
       "</table>\n",
       "</div>"
      ],
      "text/plain": [
       "               Age   RoomService     FoodCourt  ShoppingMall           Spa  \\\n",
       "count  8514.000000   8512.000000   8510.000000   8485.000000   8510.000000   \n",
       "mean     28.827930    224.687617    458.077203    173.729169    311.138778   \n",
       "std      14.489021    666.717663   1611.489240    604.696458   1136.705535   \n",
       "min       0.000000      0.000000      0.000000      0.000000      0.000000   \n",
       "25%      19.000000      0.000000      0.000000      0.000000      0.000000   \n",
       "50%      27.000000      0.000000      0.000000      0.000000      0.000000   \n",
       "75%      38.000000     47.000000     76.000000     27.000000     59.000000   \n",
       "max      79.000000  14327.000000  29813.000000  23492.000000  22408.000000   \n",
       "\n",
       "             VRDeck  \n",
       "count   8505.000000  \n",
       "mean     304.854791  \n",
       "std     1145.717189  \n",
       "min        0.000000  \n",
       "25%        0.000000  \n",
       "50%        0.000000  \n",
       "75%       46.000000  \n",
       "max    24133.000000  "
      ]
     },
     "execution_count": 454,
     "metadata": {},
     "output_type": "execute_result"
    }
   ],
   "source": [
    "X_train.describe()"
   ]
  },
  {
   "cell_type": "markdown",
   "id": "657642e5",
   "metadata": {},
   "source": [
    "**범주형 특성 탐색**"
   ]
  },
  {
   "cell_type": "code",
   "execution_count": 455,
   "id": "cdf4a183",
   "metadata": {
    "scrolled": true
   },
   "outputs": [
    {
     "data": {
      "text/html": [
       "<div>\n",
       "<style scoped>\n",
       "    .dataframe tbody tr th:only-of-type {\n",
       "        vertical-align: middle;\n",
       "    }\n",
       "\n",
       "    .dataframe tbody tr th {\n",
       "        vertical-align: top;\n",
       "    }\n",
       "\n",
       "    .dataframe thead th {\n",
       "        text-align: right;\n",
       "    }\n",
       "</style>\n",
       "<table border=\"1\" class=\"dataframe\">\n",
       "  <thead>\n",
       "    <tr style=\"text-align: right;\">\n",
       "      <th></th>\n",
       "      <th>PassengerId</th>\n",
       "      <th>HomePlanet</th>\n",
       "      <th>CryoSleep</th>\n",
       "      <th>Cabin</th>\n",
       "      <th>Destination</th>\n",
       "      <th>VIP</th>\n",
       "      <th>Name</th>\n",
       "      <th>Transported</th>\n",
       "    </tr>\n",
       "  </thead>\n",
       "  <tbody>\n",
       "    <tr>\n",
       "      <th>count</th>\n",
       "      <td>8693</td>\n",
       "      <td>8492</td>\n",
       "      <td>8476</td>\n",
       "      <td>8494</td>\n",
       "      <td>8511</td>\n",
       "      <td>8490</td>\n",
       "      <td>8493</td>\n",
       "      <td>8693</td>\n",
       "    </tr>\n",
       "    <tr>\n",
       "      <th>unique</th>\n",
       "      <td>8693</td>\n",
       "      <td>3</td>\n",
       "      <td>2</td>\n",
       "      <td>6560</td>\n",
       "      <td>3</td>\n",
       "      <td>2</td>\n",
       "      <td>8473</td>\n",
       "      <td>2</td>\n",
       "    </tr>\n",
       "    <tr>\n",
       "      <th>top</th>\n",
       "      <td>0001_01</td>\n",
       "      <td>Earth</td>\n",
       "      <td>False</td>\n",
       "      <td>G/734/S</td>\n",
       "      <td>TRAPPIST-1e</td>\n",
       "      <td>False</td>\n",
       "      <td>Gollux Reedall</td>\n",
       "      <td>True</td>\n",
       "    </tr>\n",
       "    <tr>\n",
       "      <th>freq</th>\n",
       "      <td>1</td>\n",
       "      <td>4602</td>\n",
       "      <td>5439</td>\n",
       "      <td>8</td>\n",
       "      <td>5915</td>\n",
       "      <td>8291</td>\n",
       "      <td>2</td>\n",
       "      <td>4378</td>\n",
       "    </tr>\n",
       "  </tbody>\n",
       "</table>\n",
       "</div>"
      ],
      "text/plain": [
       "       PassengerId HomePlanet CryoSleep    Cabin  Destination    VIP  \\\n",
       "count         8693       8492      8476     8494         8511   8490   \n",
       "unique        8693          3         2     6560            3      2   \n",
       "top        0001_01      Earth     False  G/734/S  TRAPPIST-1e  False   \n",
       "freq             1       4602      5439        8         5915   8291   \n",
       "\n",
       "                  Name Transported  \n",
       "count             8493        8693  \n",
       "unique            8473           2  \n",
       "top     Gollux Reedall        True  \n",
       "freq                 2        4378  "
      ]
     },
     "execution_count": 455,
     "metadata": {},
     "output_type": "execute_result"
    }
   ],
   "source": [
    "X_train.describe(include=('object','bool'))"
   ]
  },
  {
   "cell_type": "code",
   "execution_count": 456,
   "id": "b86fd8ec",
   "metadata": {},
   "outputs": [
    {
     "data": {
      "text/plain": [
       "False    4198\n",
       "True       76\n",
       "Name: VIP, dtype: int64"
      ]
     },
     "execution_count": 456,
     "metadata": {},
     "output_type": "execute_result"
    }
   ],
   "source": [
    "X_train[X_train.Transported==True]['VIP'].value_counts()"
   ]
  },
  {
   "cell_type": "code",
   "execution_count": 457,
   "id": "739e34d9",
   "metadata": {
    "scrolled": true
   },
   "outputs": [
    {
     "data": {
      "text/plain": [
       "Index(['PassengerId', 'HomePlanet', 'CryoSleep', 'Cabin', 'Destination', 'Age',\n",
       "       'VIP', 'RoomService', 'FoodCourt', 'ShoppingMall', 'Spa', 'VRDeck',\n",
       "       'Name', 'Transported'],\n",
       "      dtype='object')"
      ]
     },
     "execution_count": 457,
     "metadata": {},
     "output_type": "execute_result"
    }
   ],
   "source": [
    "X_train.columns"
   ]
  },
  {
   "cell_type": "code",
   "execution_count": 458,
   "id": "4cfa3f70",
   "metadata": {},
   "outputs": [
    {
     "name": "stdout",
     "output_type": "stream",
     "text": [
      "PassengerId\n",
      "HomePlanet\n",
      "CryoSleep\n",
      "Cabin\n",
      "Destination\n",
      "VIP\n",
      "Name\n"
     ]
    }
   ],
   "source": [
    "for i,k in enumerate(X_train.dtypes):\n",
    "    if k=='object':\n",
    "        print(X_train.columns[i])"
   ]
  },
  {
   "cell_type": "code",
   "execution_count": 459,
   "id": "b75bf4ad",
   "metadata": {
    "scrolled": true
   },
   "outputs": [
    {
     "name": "stdout",
     "output_type": "stream",
     "text": [
      "[1, 2, 4, 6, 13]\n",
      "['HomePlanet', 'CryoSleep', 'Destination', 'VIP', 'Transported']\n"
     ]
    }
   ],
   "source": [
    "icd_lb_idx=[]\n",
    "icd_lb_list=[]\n",
    "for k,i in enumerate(X_train.columns) :\n",
    "    #print(i)\n",
    "    #print(X_train[i].nunique())\n",
    "    if X_train[i].nunique()<10:\n",
    "        icd_lb_idx.append(k)\n",
    "        icd_lb_list.append(i)\n",
    "    #print('-----------')\n",
    "    \n",
    "# 1,2,4,6, -1 은 원핫 인코딩 or 라벨링 13은 타겟이므로 제거해야함\n",
    "print(icd_lb_idx)\n",
    "print(icd_lb_list)"
   ]
  },
  {
   "cell_type": "code",
   "execution_count": 460,
   "id": "b2ef7a73",
   "metadata": {
    "scrolled": false
   },
   "outputs": [
    {
     "data": {
      "text/plain": [
       "PassengerId       0\n",
       "HomePlanet      201\n",
       "CryoSleep       217\n",
       "Cabin           199\n",
       "Destination     182\n",
       "Age             179\n",
       "VIP             203\n",
       "RoomService     181\n",
       "FoodCourt       183\n",
       "ShoppingMall    208\n",
       "Spa             183\n",
       "VRDeck          188\n",
       "Name            200\n",
       "Transported       0\n",
       "dtype: int64"
      ]
     },
     "execution_count": 460,
     "metadata": {},
     "output_type": "execute_result"
    }
   ],
   "source": [
    "X_train.isna().sum()"
   ]
  },
  {
   "cell_type": "code",
   "execution_count": 461,
   "id": "ee40e484",
   "metadata": {},
   "outputs": [
    {
     "data": {
      "text/html": [
       "<div>\n",
       "<style scoped>\n",
       "    .dataframe tbody tr th:only-of-type {\n",
       "        vertical-align: middle;\n",
       "    }\n",
       "\n",
       "    .dataframe tbody tr th {\n",
       "        vertical-align: top;\n",
       "    }\n",
       "\n",
       "    .dataframe thead th {\n",
       "        text-align: right;\n",
       "    }\n",
       "</style>\n",
       "<table border=\"1\" class=\"dataframe\">\n",
       "  <thead>\n",
       "    <tr style=\"text-align: right;\">\n",
       "      <th></th>\n",
       "      <th>PassengerId</th>\n",
       "      <th>HomePlanet</th>\n",
       "      <th>CryoSleep</th>\n",
       "      <th>Cabin</th>\n",
       "      <th>Destination</th>\n",
       "      <th>Age</th>\n",
       "      <th>VIP</th>\n",
       "      <th>RoomService</th>\n",
       "      <th>FoodCourt</th>\n",
       "      <th>ShoppingMall</th>\n",
       "      <th>Spa</th>\n",
       "      <th>VRDeck</th>\n",
       "      <th>Name</th>\n",
       "      <th>Transported</th>\n",
       "    </tr>\n",
       "  </thead>\n",
       "  <tbody>\n",
       "    <tr>\n",
       "      <th>92</th>\n",
       "      <td>0099_02</td>\n",
       "      <td>Earth</td>\n",
       "      <td>NaN</td>\n",
       "      <td>G/12/P</td>\n",
       "      <td>TRAPPIST-1e</td>\n",
       "      <td>2.0</td>\n",
       "      <td>False</td>\n",
       "      <td>0.0</td>\n",
       "      <td>0.0</td>\n",
       "      <td>0.0</td>\n",
       "      <td>0.0</td>\n",
       "      <td>0.0</td>\n",
       "      <td>Thewis Connelson</td>\n",
       "      <td>True</td>\n",
       "    </tr>\n",
       "    <tr>\n",
       "      <th>98</th>\n",
       "      <td>0105_01</td>\n",
       "      <td>Earth</td>\n",
       "      <td>NaN</td>\n",
       "      <td>F/21/P</td>\n",
       "      <td>TRAPPIST-1e</td>\n",
       "      <td>27.0</td>\n",
       "      <td>False</td>\n",
       "      <td>0.0</td>\n",
       "      <td>0.0</td>\n",
       "      <td>570.0</td>\n",
       "      <td>2.0</td>\n",
       "      <td>131.0</td>\n",
       "      <td>Carry Cleachrand</td>\n",
       "      <td>False</td>\n",
       "    </tr>\n",
       "    <tr>\n",
       "      <th>104</th>\n",
       "      <td>0110_02</td>\n",
       "      <td>Europa</td>\n",
       "      <td>NaN</td>\n",
       "      <td>B/5/P</td>\n",
       "      <td>TRAPPIST-1e</td>\n",
       "      <td>40.0</td>\n",
       "      <td>False</td>\n",
       "      <td>0.0</td>\n",
       "      <td>331.0</td>\n",
       "      <td>0.0</td>\n",
       "      <td>0.0</td>\n",
       "      <td>1687.0</td>\n",
       "      <td>Aldeba Bootious</td>\n",
       "      <td>False</td>\n",
       "    </tr>\n",
       "    <tr>\n",
       "      <th>111</th>\n",
       "      <td>0115_01</td>\n",
       "      <td>Mars</td>\n",
       "      <td>NaN</td>\n",
       "      <td>F/24/P</td>\n",
       "      <td>TRAPPIST-1e</td>\n",
       "      <td>26.0</td>\n",
       "      <td>False</td>\n",
       "      <td>0.0</td>\n",
       "      <td>0.0</td>\n",
       "      <td>0.0</td>\n",
       "      <td>0.0</td>\n",
       "      <td>NaN</td>\n",
       "      <td>Rohs Pead</td>\n",
       "      <td>True</td>\n",
       "    </tr>\n",
       "    <tr>\n",
       "      <th>152</th>\n",
       "      <td>0173_01</td>\n",
       "      <td>Earth</td>\n",
       "      <td>NaN</td>\n",
       "      <td>E/11/S</td>\n",
       "      <td>TRAPPIST-1e</td>\n",
       "      <td>58.0</td>\n",
       "      <td>False</td>\n",
       "      <td>0.0</td>\n",
       "      <td>985.0</td>\n",
       "      <td>0.0</td>\n",
       "      <td>5.0</td>\n",
       "      <td>0.0</td>\n",
       "      <td>Hilip Grifford</td>\n",
       "      <td>True</td>\n",
       "    </tr>\n",
       "    <tr>\n",
       "      <th>...</th>\n",
       "      <td>...</td>\n",
       "      <td>...</td>\n",
       "      <td>...</td>\n",
       "      <td>...</td>\n",
       "      <td>...</td>\n",
       "      <td>...</td>\n",
       "      <td>...</td>\n",
       "      <td>...</td>\n",
       "      <td>...</td>\n",
       "      <td>...</td>\n",
       "      <td>...</td>\n",
       "      <td>...</td>\n",
       "      <td>...</td>\n",
       "      <td>...</td>\n",
       "    </tr>\n",
       "    <tr>\n",
       "      <th>8620</th>\n",
       "      <td>9197_01</td>\n",
       "      <td>Europa</td>\n",
       "      <td>NaN</td>\n",
       "      <td>C/308/P</td>\n",
       "      <td>55 Cancri e</td>\n",
       "      <td>44.0</td>\n",
       "      <td>False</td>\n",
       "      <td>0.0</td>\n",
       "      <td>0.0</td>\n",
       "      <td>0.0</td>\n",
       "      <td>0.0</td>\n",
       "      <td>0.0</td>\n",
       "      <td>Bellus Platch</td>\n",
       "      <td>True</td>\n",
       "    </tr>\n",
       "    <tr>\n",
       "      <th>8651</th>\n",
       "      <td>9227_05</td>\n",
       "      <td>Earth</td>\n",
       "      <td>NaN</td>\n",
       "      <td>G/1498/P</td>\n",
       "      <td>TRAPPIST-1e</td>\n",
       "      <td>8.0</td>\n",
       "      <td>False</td>\n",
       "      <td>0.0</td>\n",
       "      <td>0.0</td>\n",
       "      <td>0.0</td>\n",
       "      <td>0.0</td>\n",
       "      <td>0.0</td>\n",
       "      <td>Hard Hinglendez</td>\n",
       "      <td>False</td>\n",
       "    </tr>\n",
       "    <tr>\n",
       "      <th>8664</th>\n",
       "      <td>9246_01</td>\n",
       "      <td>Earth</td>\n",
       "      <td>NaN</td>\n",
       "      <td>G/1490/S</td>\n",
       "      <td>TRAPPIST-1e</td>\n",
       "      <td>32.0</td>\n",
       "      <td>False</td>\n",
       "      <td>0.0</td>\n",
       "      <td>0.0</td>\n",
       "      <td>0.0</td>\n",
       "      <td>0.0</td>\n",
       "      <td>0.0</td>\n",
       "      <td>NaN</td>\n",
       "      <td>True</td>\n",
       "    </tr>\n",
       "    <tr>\n",
       "      <th>8675</th>\n",
       "      <td>9259_01</td>\n",
       "      <td>Earth</td>\n",
       "      <td>NaN</td>\n",
       "      <td>F/1893/P</td>\n",
       "      <td>TRAPPIST-1e</td>\n",
       "      <td>44.0</td>\n",
       "      <td>False</td>\n",
       "      <td>1030.0</td>\n",
       "      <td>1015.0</td>\n",
       "      <td>0.0</td>\n",
       "      <td>11.0</td>\n",
       "      <td>NaN</td>\n",
       "      <td>Annah Gilleyons</td>\n",
       "      <td>True</td>\n",
       "    </tr>\n",
       "    <tr>\n",
       "      <th>8687</th>\n",
       "      <td>9275_03</td>\n",
       "      <td>Europa</td>\n",
       "      <td>NaN</td>\n",
       "      <td>A/97/P</td>\n",
       "      <td>TRAPPIST-1e</td>\n",
       "      <td>30.0</td>\n",
       "      <td>False</td>\n",
       "      <td>0.0</td>\n",
       "      <td>3208.0</td>\n",
       "      <td>0.0</td>\n",
       "      <td>2.0</td>\n",
       "      <td>330.0</td>\n",
       "      <td>Atlasym Conable</td>\n",
       "      <td>True</td>\n",
       "    </tr>\n",
       "  </tbody>\n",
       "</table>\n",
       "<p>217 rows × 14 columns</p>\n",
       "</div>"
      ],
      "text/plain": [
       "     PassengerId HomePlanet CryoSleep     Cabin  Destination   Age    VIP  \\\n",
       "92       0099_02      Earth       NaN    G/12/P  TRAPPIST-1e   2.0  False   \n",
       "98       0105_01      Earth       NaN    F/21/P  TRAPPIST-1e  27.0  False   \n",
       "104      0110_02     Europa       NaN     B/5/P  TRAPPIST-1e  40.0  False   \n",
       "111      0115_01       Mars       NaN    F/24/P  TRAPPIST-1e  26.0  False   \n",
       "152      0173_01      Earth       NaN    E/11/S  TRAPPIST-1e  58.0  False   \n",
       "...          ...        ...       ...       ...          ...   ...    ...   \n",
       "8620     9197_01     Europa       NaN   C/308/P  55 Cancri e  44.0  False   \n",
       "8651     9227_05      Earth       NaN  G/1498/P  TRAPPIST-1e   8.0  False   \n",
       "8664     9246_01      Earth       NaN  G/1490/S  TRAPPIST-1e  32.0  False   \n",
       "8675     9259_01      Earth       NaN  F/1893/P  TRAPPIST-1e  44.0  False   \n",
       "8687     9275_03     Europa       NaN    A/97/P  TRAPPIST-1e  30.0  False   \n",
       "\n",
       "      RoomService  FoodCourt  ShoppingMall   Spa  VRDeck              Name  \\\n",
       "92            0.0        0.0           0.0   0.0     0.0  Thewis Connelson   \n",
       "98            0.0        0.0         570.0   2.0   131.0  Carry Cleachrand   \n",
       "104           0.0      331.0           0.0   0.0  1687.0   Aldeba Bootious   \n",
       "111           0.0        0.0           0.0   0.0     NaN         Rohs Pead   \n",
       "152           0.0      985.0           0.0   5.0     0.0    Hilip Grifford   \n",
       "...           ...        ...           ...   ...     ...               ...   \n",
       "8620          0.0        0.0           0.0   0.0     0.0     Bellus Platch   \n",
       "8651          0.0        0.0           0.0   0.0     0.0   Hard Hinglendez   \n",
       "8664          0.0        0.0           0.0   0.0     0.0               NaN   \n",
       "8675       1030.0     1015.0           0.0  11.0     NaN   Annah Gilleyons   \n",
       "8687          0.0     3208.0           0.0   2.0   330.0   Atlasym Conable   \n",
       "\n",
       "      Transported  \n",
       "92           True  \n",
       "98          False  \n",
       "104         False  \n",
       "111          True  \n",
       "152          True  \n",
       "...           ...  \n",
       "8620         True  \n",
       "8651        False  \n",
       "8664         True  \n",
       "8675         True  \n",
       "8687         True  \n",
       "\n",
       "[217 rows x 14 columns]"
      ]
     },
     "execution_count": 461,
     "metadata": {},
     "output_type": "execute_result"
    }
   ],
   "source": [
    "X_train[X_train.CryoSleep.isna()]"
   ]
  },
  {
   "cell_type": "code",
   "execution_count": 462,
   "id": "408b9419",
   "metadata": {},
   "outputs": [
    {
     "data": {
      "text/plain": [
       "0"
      ]
     },
     "execution_count": 462,
     "metadata": {},
     "output_type": "execute_result"
    }
   ],
   "source": [
    "X_train.duplicated().sum()"
   ]
  },
  {
   "cell_type": "code",
   "execution_count": 463,
   "id": "4647fb4a",
   "metadata": {
    "scrolled": true
   },
   "outputs": [
    {
     "data": {
      "text/plain": [
       "PassengerId       0\n",
       "HomePlanet       87\n",
       "CryoSleep        93\n",
       "Cabin           100\n",
       "Destination      92\n",
       "Age              91\n",
       "VIP              93\n",
       "RoomService      82\n",
       "FoodCourt       106\n",
       "ShoppingMall     98\n",
       "Spa             101\n",
       "VRDeck           80\n",
       "Name             94\n",
       "dtype: int64"
      ]
     },
     "execution_count": 463,
     "metadata": {},
     "output_type": "execute_result"
    }
   ],
   "source": [
    "X_test.isna().sum()"
   ]
  },
  {
   "cell_type": "code",
   "execution_count": 464,
   "id": "08937eb6",
   "metadata": {},
   "outputs": [
    {
     "data": {
      "text/plain": [
       "0"
      ]
     },
     "execution_count": 464,
     "metadata": {},
     "output_type": "execute_result"
    }
   ],
   "source": [
    "X_test.duplicated().sum()"
   ]
  },
  {
   "cell_type": "markdown",
   "id": "32c89946",
   "metadata": {},
   "source": [
    "## 수치형 데이터 히스토그램"
   ]
  },
  {
   "cell_type": "code",
   "execution_count": 465,
   "id": "f4065373",
   "metadata": {
    "scrolled": false
   },
   "outputs": [
    {
     "data": {
      "text/plain": [
       "array([[<AxesSubplot:title={'center':'Age'}>,\n",
       "        <AxesSubplot:title={'center':'RoomService'}>],\n",
       "       [<AxesSubplot:title={'center':'FoodCourt'}>,\n",
       "        <AxesSubplot:title={'center':'ShoppingMall'}>],\n",
       "       [<AxesSubplot:title={'center':'Spa'}>,\n",
       "        <AxesSubplot:title={'center':'VRDeck'}>]], dtype=object)"
      ]
     },
     "execution_count": 465,
     "metadata": {},
     "output_type": "execute_result"
    },
    {
     "data": {
      "image/png": "[encoded data removed]",
      "text/plain": [
       "<Figure size 2000x1500 with 6 Axes>"
      ]
     },
     "metadata": {},
     "output_type": "display_data"
    }
   ],
   "source": [
    "X_train.hist(bins=10,figsize=(20,15))"
   ]
  },
  {
   "cell_type": "code",
   "execution_count": null,
   "id": "779e3cd6",
   "metadata": {},
   "outputs": [],
   "source": []
  },
  {
   "cell_type": "markdown",
   "id": "cc5efbe0",
   "metadata": {},
   "source": [
    "## 범주형 데이터 막대"
   ]
  },
  {
   "cell_type": "code",
   "execution_count": 466,
   "id": "f5aeb1b4",
   "metadata": {},
   "outputs": [
    {
     "data": {
      "text/plain": [
       "['HomePlanet', 'CryoSleep', 'Destination', 'VIP', 'Transported']"
      ]
     },
     "execution_count": 466,
     "metadata": {},
     "output_type": "execute_result"
    }
   ],
   "source": [
    "icd_lb_list"
   ]
  },
  {
   "cell_type": "code",
   "execution_count": 467,
   "id": "fc08f56d",
   "metadata": {},
   "outputs": [
    {
     "data": {
      "text/plain": [
       "Earth     52.939146\n",
       "Europa    24.513977\n",
       "Mars      20.234672\n",
       "Name: HomePlanet, dtype: float64"
      ]
     },
     "execution_count": 467,
     "metadata": {},
     "output_type": "execute_result"
    }
   ],
   "source": [
    "X_train['HomePlanet'].value_counts()/X_train[i].count()*100"
   ]
  },
  {
   "cell_type": "code",
   "execution_count": 468,
   "id": "e7b98655",
   "metadata": {
    "scrolled": true
   },
   "outputs": [
    {
     "data": {
      "text/plain": [
       "<AxesSubplot:ylabel='HomePlanet'>"
      ]
     },
     "execution_count": 468,
     "metadata": {},
     "output_type": "execute_result"
    },
    {
     "data": {
      "image/png": "[encoded data removed]",
      "text/plain": [
       "<Figure size 300x300 with 1 Axes>"
      ]
     },
     "metadata": {},
     "output_type": "display_data"
    }
   ],
   "source": [
    "X_train['HomePlanet'].value_counts().plot.pie(autopct=\"%1.1f%%\",figsize=(3,3))"
   ]
  },
  {
   "cell_type": "code",
   "execution_count": 469,
   "id": "4bef535f",
   "metadata": {
    "scrolled": true
   },
   "outputs": [
    {
     "data": {
      "image/png": "[encoded data removed]",
      "text/plain": [
       "<Figure size 1600x1000 with 6 Axes>"
      ]
     },
     "metadata": {},
     "output_type": "display_data"
    }
   ],
   "source": [
    "fig, axes = plt.subplots(3, 2, figsize=(16, 10))\n",
    "for i, ax in zip(icd_lb_list, axes.flat):\n",
    "    sns.countplot(data=X_train,x=i, ax=ax)\n",
    "plt.show()"
   ]
  },
  {
   "cell_type": "code",
   "execution_count": 470,
   "id": "412dec64",
   "metadata": {},
   "outputs": [
    {
     "data": {
      "text/html": [
       "<div>\n",
       "<style scoped>\n",
       "    .dataframe tbody tr th:only-of-type {\n",
       "        vertical-align: middle;\n",
       "    }\n",
       "\n",
       "    .dataframe tbody tr th {\n",
       "        vertical-align: top;\n",
       "    }\n",
       "\n",
       "    .dataframe thead th {\n",
       "        text-align: right;\n",
       "    }\n",
       "</style>\n",
       "<table border=\"1\" class=\"dataframe\">\n",
       "  <thead>\n",
       "    <tr style=\"text-align: right;\">\n",
       "      <th></th>\n",
       "      <th>PassengerId</th>\n",
       "      <th>HomePlanet</th>\n",
       "      <th>CryoSleep</th>\n",
       "      <th>Cabin</th>\n",
       "      <th>Destination</th>\n",
       "      <th>Age</th>\n",
       "      <th>VIP</th>\n",
       "      <th>RoomService</th>\n",
       "      <th>FoodCourt</th>\n",
       "      <th>ShoppingMall</th>\n",
       "      <th>Spa</th>\n",
       "      <th>VRDeck</th>\n",
       "      <th>Name</th>\n",
       "      <th>Transported</th>\n",
       "    </tr>\n",
       "  </thead>\n",
       "  <tbody>\n",
       "    <tr>\n",
       "      <th>0</th>\n",
       "      <td>0001_01</td>\n",
       "      <td>Europa</td>\n",
       "      <td>False</td>\n",
       "      <td>B/0/P</td>\n",
       "      <td>TRAPPIST-1e</td>\n",
       "      <td>39.0</td>\n",
       "      <td>False</td>\n",
       "      <td>0.0</td>\n",
       "      <td>0.0</td>\n",
       "      <td>0.0</td>\n",
       "      <td>0.0</td>\n",
       "      <td>0.0</td>\n",
       "      <td>Maham Ofracculy</td>\n",
       "      <td>False</td>\n",
       "    </tr>\n",
       "    <tr>\n",
       "      <th>1</th>\n",
       "      <td>0002_01</td>\n",
       "      <td>Earth</td>\n",
       "      <td>False</td>\n",
       "      <td>F/0/S</td>\n",
       "      <td>TRAPPIST-1e</td>\n",
       "      <td>24.0</td>\n",
       "      <td>False</td>\n",
       "      <td>109.0</td>\n",
       "      <td>9.0</td>\n",
       "      <td>25.0</td>\n",
       "      <td>549.0</td>\n",
       "      <td>44.0</td>\n",
       "      <td>Juanna Vines</td>\n",
       "      <td>True</td>\n",
       "    </tr>\n",
       "    <tr>\n",
       "      <th>2</th>\n",
       "      <td>0003_01</td>\n",
       "      <td>Europa</td>\n",
       "      <td>False</td>\n",
       "      <td>A/0/S</td>\n",
       "      <td>TRAPPIST-1e</td>\n",
       "      <td>58.0</td>\n",
       "      <td>True</td>\n",
       "      <td>43.0</td>\n",
       "      <td>3576.0</td>\n",
       "      <td>0.0</td>\n",
       "      <td>6715.0</td>\n",
       "      <td>49.0</td>\n",
       "      <td>Altark Susent</td>\n",
       "      <td>False</td>\n",
       "    </tr>\n",
       "    <tr>\n",
       "      <th>3</th>\n",
       "      <td>0003_02</td>\n",
       "      <td>Europa</td>\n",
       "      <td>False</td>\n",
       "      <td>A/0/S</td>\n",
       "      <td>TRAPPIST-1e</td>\n",
       "      <td>33.0</td>\n",
       "      <td>False</td>\n",
       "      <td>0.0</td>\n",
       "      <td>1283.0</td>\n",
       "      <td>371.0</td>\n",
       "      <td>3329.0</td>\n",
       "      <td>193.0</td>\n",
       "      <td>Solam Susent</td>\n",
       "      <td>False</td>\n",
       "    </tr>\n",
       "    <tr>\n",
       "      <th>4</th>\n",
       "      <td>0004_01</td>\n",
       "      <td>Earth</td>\n",
       "      <td>False</td>\n",
       "      <td>F/1/S</td>\n",
       "      <td>TRAPPIST-1e</td>\n",
       "      <td>16.0</td>\n",
       "      <td>False</td>\n",
       "      <td>303.0</td>\n",
       "      <td>70.0</td>\n",
       "      <td>151.0</td>\n",
       "      <td>565.0</td>\n",
       "      <td>2.0</td>\n",
       "      <td>Willy Santantines</td>\n",
       "      <td>True</td>\n",
       "    </tr>\n",
       "    <tr>\n",
       "      <th>...</th>\n",
       "      <td>...</td>\n",
       "      <td>...</td>\n",
       "      <td>...</td>\n",
       "      <td>...</td>\n",
       "      <td>...</td>\n",
       "      <td>...</td>\n",
       "      <td>...</td>\n",
       "      <td>...</td>\n",
       "      <td>...</td>\n",
       "      <td>...</td>\n",
       "      <td>...</td>\n",
       "      <td>...</td>\n",
       "      <td>...</td>\n",
       "      <td>...</td>\n",
       "    </tr>\n",
       "    <tr>\n",
       "      <th>8688</th>\n",
       "      <td>9276_01</td>\n",
       "      <td>Europa</td>\n",
       "      <td>False</td>\n",
       "      <td>A/98/P</td>\n",
       "      <td>55 Cancri e</td>\n",
       "      <td>41.0</td>\n",
       "      <td>True</td>\n",
       "      <td>0.0</td>\n",
       "      <td>6819.0</td>\n",
       "      <td>0.0</td>\n",
       "      <td>1643.0</td>\n",
       "      <td>74.0</td>\n",
       "      <td>Gravior Noxnuther</td>\n",
       "      <td>False</td>\n",
       "    </tr>\n",
       "    <tr>\n",
       "      <th>8689</th>\n",
       "      <td>9278_01</td>\n",
       "      <td>Earth</td>\n",
       "      <td>True</td>\n",
       "      <td>G/1499/S</td>\n",
       "      <td>PSO J318.5-22</td>\n",
       "      <td>18.0</td>\n",
       "      <td>False</td>\n",
       "      <td>0.0</td>\n",
       "      <td>0.0</td>\n",
       "      <td>0.0</td>\n",
       "      <td>0.0</td>\n",
       "      <td>0.0</td>\n",
       "      <td>Kurta Mondalley</td>\n",
       "      <td>False</td>\n",
       "    </tr>\n",
       "    <tr>\n",
       "      <th>8690</th>\n",
       "      <td>9279_01</td>\n",
       "      <td>Earth</td>\n",
       "      <td>False</td>\n",
       "      <td>G/1500/S</td>\n",
       "      <td>TRAPPIST-1e</td>\n",
       "      <td>26.0</td>\n",
       "      <td>False</td>\n",
       "      <td>0.0</td>\n",
       "      <td>0.0</td>\n",
       "      <td>1872.0</td>\n",
       "      <td>1.0</td>\n",
       "      <td>0.0</td>\n",
       "      <td>Fayey Connon</td>\n",
       "      <td>True</td>\n",
       "    </tr>\n",
       "    <tr>\n",
       "      <th>8691</th>\n",
       "      <td>9280_01</td>\n",
       "      <td>Europa</td>\n",
       "      <td>False</td>\n",
       "      <td>E/608/S</td>\n",
       "      <td>55 Cancri e</td>\n",
       "      <td>32.0</td>\n",
       "      <td>False</td>\n",
       "      <td>0.0</td>\n",
       "      <td>1049.0</td>\n",
       "      <td>0.0</td>\n",
       "      <td>353.0</td>\n",
       "      <td>3235.0</td>\n",
       "      <td>Celeon Hontichre</td>\n",
       "      <td>False</td>\n",
       "    </tr>\n",
       "    <tr>\n",
       "      <th>8692</th>\n",
       "      <td>9280_02</td>\n",
       "      <td>Europa</td>\n",
       "      <td>False</td>\n",
       "      <td>E/608/S</td>\n",
       "      <td>TRAPPIST-1e</td>\n",
       "      <td>44.0</td>\n",
       "      <td>False</td>\n",
       "      <td>126.0</td>\n",
       "      <td>4688.0</td>\n",
       "      <td>0.0</td>\n",
       "      <td>0.0</td>\n",
       "      <td>12.0</td>\n",
       "      <td>Propsh Hontichre</td>\n",
       "      <td>True</td>\n",
       "    </tr>\n",
       "  </tbody>\n",
       "</table>\n",
       "<p>8494 rows × 14 columns</p>\n",
       "</div>"
      ],
      "text/plain": [
       "     PassengerId HomePlanet CryoSleep     Cabin    Destination   Age    VIP  \\\n",
       "0        0001_01     Europa     False     B/0/P    TRAPPIST-1e  39.0  False   \n",
       "1        0002_01      Earth     False     F/0/S    TRAPPIST-1e  24.0  False   \n",
       "2        0003_01     Europa     False     A/0/S    TRAPPIST-1e  58.0   True   \n",
       "3        0003_02     Europa     False     A/0/S    TRAPPIST-1e  33.0  False   \n",
       "4        0004_01      Earth     False     F/1/S    TRAPPIST-1e  16.0  False   \n",
       "...          ...        ...       ...       ...            ...   ...    ...   \n",
       "8688     9276_01     Europa     False    A/98/P    55 Cancri e  41.0   True   \n",
       "8689     9278_01      Earth      True  G/1499/S  PSO J318.5-22  18.0  False   \n",
       "8690     9279_01      Earth     False  G/1500/S    TRAPPIST-1e  26.0  False   \n",
       "8691     9280_01     Europa     False   E/608/S    55 Cancri e  32.0  False   \n",
       "8692     9280_02     Europa     False   E/608/S    TRAPPIST-1e  44.0  False   \n",
       "\n",
       "      RoomService  FoodCourt  ShoppingMall     Spa  VRDeck               Name  \\\n",
       "0             0.0        0.0           0.0     0.0     0.0    Maham Ofracculy   \n",
       "1           109.0        9.0          25.0   549.0    44.0       Juanna Vines   \n",
       "2            43.0     3576.0           0.0  6715.0    49.0      Altark Susent   \n",
       "3             0.0     1283.0         371.0  3329.0   193.0       Solam Susent   \n",
       "4           303.0       70.0         151.0   565.0     2.0  Willy Santantines   \n",
       "...           ...        ...           ...     ...     ...                ...   \n",
       "8688          0.0     6819.0           0.0  1643.0    74.0  Gravior Noxnuther   \n",
       "8689          0.0        0.0           0.0     0.0     0.0    Kurta Mondalley   \n",
       "8690          0.0        0.0        1872.0     1.0     0.0       Fayey Connon   \n",
       "8691          0.0     1049.0           0.0   353.0  3235.0   Celeon Hontichre   \n",
       "8692        126.0     4688.0           0.0     0.0    12.0   Propsh Hontichre   \n",
       "\n",
       "      Transported  \n",
       "0           False  \n",
       "1            True  \n",
       "2           False  \n",
       "3           False  \n",
       "4            True  \n",
       "...           ...  \n",
       "8688        False  \n",
       "8689        False  \n",
       "8690         True  \n",
       "8691        False  \n",
       "8692         True  \n",
       "\n",
       "[8494 rows x 14 columns]"
      ]
     },
     "execution_count": 470,
     "metadata": {},
     "output_type": "execute_result"
    }
   ],
   "source": [
    "t1=X_train[~X_train['Cabin'].isnull()]\n",
    "t1.Cabin.isna().sum()\n",
    "t1"
   ]
  },
  {
   "cell_type": "markdown",
   "id": "4c08a5f0",
   "metadata": {},
   "source": [
    "**캐빈값을F/B으로 나누었음**"
   ]
  },
  {
   "cell_type": "code",
   "execution_count": 471,
   "id": "6e61b7aa",
   "metadata": {
    "scrolled": true
   },
   "outputs": [],
   "source": [
    "t1['front']=t1.Cabin.map(lambda x: x[0])\n",
    "t1['back']=t1.Cabin.map(lambda x: x[-1])\n",
    "t1['total']=t1.Cabin.map(lambda x: x[0]+x[-1])\n",
    "# 빈도수는 F , G , E , B,C,D, A 순"
   ]
  },
  {
   "cell_type": "code",
   "execution_count": 472,
   "id": "8a82821f",
   "metadata": {
    "scrolled": true
   },
   "outputs": [
    {
     "data": {
      "text/html": [
       "<div>\n",
       "<style scoped>\n",
       "    .dataframe tbody tr th:only-of-type {\n",
       "        vertical-align: middle;\n",
       "    }\n",
       "\n",
       "    .dataframe tbody tr th {\n",
       "        vertical-align: top;\n",
       "    }\n",
       "\n",
       "    .dataframe thead th {\n",
       "        text-align: right;\n",
       "    }\n",
       "</style>\n",
       "<table border=\"1\" class=\"dataframe\">\n",
       "  <thead>\n",
       "    <tr style=\"text-align: right;\">\n",
       "      <th></th>\n",
       "      <th>PassengerId</th>\n",
       "      <th>HomePlanet</th>\n",
       "      <th>CryoSleep</th>\n",
       "      <th>Cabin</th>\n",
       "      <th>Destination</th>\n",
       "      <th>Age</th>\n",
       "      <th>VIP</th>\n",
       "      <th>RoomService</th>\n",
       "      <th>FoodCourt</th>\n",
       "      <th>ShoppingMall</th>\n",
       "      <th>Spa</th>\n",
       "      <th>VRDeck</th>\n",
       "      <th>Name</th>\n",
       "      <th>Transported</th>\n",
       "      <th>front</th>\n",
       "      <th>back</th>\n",
       "      <th>total</th>\n",
       "    </tr>\n",
       "  </thead>\n",
       "  <tbody>\n",
       "    <tr>\n",
       "      <th>0</th>\n",
       "      <td>0001_01</td>\n",
       "      <td>Europa</td>\n",
       "      <td>False</td>\n",
       "      <td>B/0/P</td>\n",
       "      <td>TRAPPIST-1e</td>\n",
       "      <td>39.0</td>\n",
       "      <td>False</td>\n",
       "      <td>0.0</td>\n",
       "      <td>0.0</td>\n",
       "      <td>0.0</td>\n",
       "      <td>0.0</td>\n",
       "      <td>0.0</td>\n",
       "      <td>Maham Ofracculy</td>\n",
       "      <td>False</td>\n",
       "      <td>B</td>\n",
       "      <td>P</td>\n",
       "      <td>BP</td>\n",
       "    </tr>\n",
       "    <tr>\n",
       "      <th>1</th>\n",
       "      <td>0002_01</td>\n",
       "      <td>Earth</td>\n",
       "      <td>False</td>\n",
       "      <td>F/0/S</td>\n",
       "      <td>TRAPPIST-1e</td>\n",
       "      <td>24.0</td>\n",
       "      <td>False</td>\n",
       "      <td>109.0</td>\n",
       "      <td>9.0</td>\n",
       "      <td>25.0</td>\n",
       "      <td>549.0</td>\n",
       "      <td>44.0</td>\n",
       "      <td>Juanna Vines</td>\n",
       "      <td>True</td>\n",
       "      <td>F</td>\n",
       "      <td>S</td>\n",
       "      <td>FS</td>\n",
       "    </tr>\n",
       "    <tr>\n",
       "      <th>2</th>\n",
       "      <td>0003_01</td>\n",
       "      <td>Europa</td>\n",
       "      <td>False</td>\n",
       "      <td>A/0/S</td>\n",
       "      <td>TRAPPIST-1e</td>\n",
       "      <td>58.0</td>\n",
       "      <td>True</td>\n",
       "      <td>43.0</td>\n",
       "      <td>3576.0</td>\n",
       "      <td>0.0</td>\n",
       "      <td>6715.0</td>\n",
       "      <td>49.0</td>\n",
       "      <td>Altark Susent</td>\n",
       "      <td>False</td>\n",
       "      <td>A</td>\n",
       "      <td>S</td>\n",
       "      <td>AS</td>\n",
       "    </tr>\n",
       "    <tr>\n",
       "      <th>3</th>\n",
       "      <td>0003_02</td>\n",
       "      <td>Europa</td>\n",
       "      <td>False</td>\n",
       "      <td>A/0/S</td>\n",
       "      <td>TRAPPIST-1e</td>\n",
       "      <td>33.0</td>\n",
       "      <td>False</td>\n",
       "      <td>0.0</td>\n",
       "      <td>1283.0</td>\n",
       "      <td>371.0</td>\n",
       "      <td>3329.0</td>\n",
       "      <td>193.0</td>\n",
       "      <td>Solam Susent</td>\n",
       "      <td>False</td>\n",
       "      <td>A</td>\n",
       "      <td>S</td>\n",
       "      <td>AS</td>\n",
       "    </tr>\n",
       "    <tr>\n",
       "      <th>4</th>\n",
       "      <td>0004_01</td>\n",
       "      <td>Earth</td>\n",
       "      <td>False</td>\n",
       "      <td>F/1/S</td>\n",
       "      <td>TRAPPIST-1e</td>\n",
       "      <td>16.0</td>\n",
       "      <td>False</td>\n",
       "      <td>303.0</td>\n",
       "      <td>70.0</td>\n",
       "      <td>151.0</td>\n",
       "      <td>565.0</td>\n",
       "      <td>2.0</td>\n",
       "      <td>Willy Santantines</td>\n",
       "      <td>True</td>\n",
       "      <td>F</td>\n",
       "      <td>S</td>\n",
       "      <td>FS</td>\n",
       "    </tr>\n",
       "    <tr>\n",
       "      <th>...</th>\n",
       "      <td>...</td>\n",
       "      <td>...</td>\n",
       "      <td>...</td>\n",
       "      <td>...</td>\n",
       "      <td>...</td>\n",
       "      <td>...</td>\n",
       "      <td>...</td>\n",
       "      <td>...</td>\n",
       "      <td>...</td>\n",
       "      <td>...</td>\n",
       "      <td>...</td>\n",
       "      <td>...</td>\n",
       "      <td>...</td>\n",
       "      <td>...</td>\n",
       "      <td>...</td>\n",
       "      <td>...</td>\n",
       "      <td>...</td>\n",
       "    </tr>\n",
       "    <tr>\n",
       "      <th>8688</th>\n",
       "      <td>9276_01</td>\n",
       "      <td>Europa</td>\n",
       "      <td>False</td>\n",
       "      <td>A/98/P</td>\n",
       "      <td>55 Cancri e</td>\n",
       "      <td>41.0</td>\n",
       "      <td>True</td>\n",
       "      <td>0.0</td>\n",
       "      <td>6819.0</td>\n",
       "      <td>0.0</td>\n",
       "      <td>1643.0</td>\n",
       "      <td>74.0</td>\n",
       "      <td>Gravior Noxnuther</td>\n",
       "      <td>False</td>\n",
       "      <td>A</td>\n",
       "      <td>P</td>\n",
       "      <td>AP</td>\n",
       "    </tr>\n",
       "    <tr>\n",
       "      <th>8689</th>\n",
       "      <td>9278_01</td>\n",
       "      <td>Earth</td>\n",
       "      <td>True</td>\n",
       "      <td>G/1499/S</td>\n",
       "      <td>PSO J318.5-22</td>\n",
       "      <td>18.0</td>\n",
       "      <td>False</td>\n",
       "      <td>0.0</td>\n",
       "      <td>0.0</td>\n",
       "      <td>0.0</td>\n",
       "      <td>0.0</td>\n",
       "      <td>0.0</td>\n",
       "      <td>Kurta Mondalley</td>\n",
       "      <td>False</td>\n",
       "      <td>G</td>\n",
       "      <td>S</td>\n",
       "      <td>GS</td>\n",
       "    </tr>\n",
       "    <tr>\n",
       "      <th>8690</th>\n",
       "      <td>9279_01</td>\n",
       "      <td>Earth</td>\n",
       "      <td>False</td>\n",
       "      <td>G/1500/S</td>\n",
       "      <td>TRAPPIST-1e</td>\n",
       "      <td>26.0</td>\n",
       "      <td>False</td>\n",
       "      <td>0.0</td>\n",
       "      <td>0.0</td>\n",
       "      <td>1872.0</td>\n",
       "      <td>1.0</td>\n",
       "      <td>0.0</td>\n",
       "      <td>Fayey Connon</td>\n",
       "      <td>True</td>\n",
       "      <td>G</td>\n",
       "      <td>S</td>\n",
       "      <td>GS</td>\n",
       "    </tr>\n",
       "    <tr>\n",
       "      <th>8691</th>\n",
       "      <td>9280_01</td>\n",
       "      <td>Europa</td>\n",
       "      <td>False</td>\n",
       "      <td>E/608/S</td>\n",
       "      <td>55 Cancri e</td>\n",
       "      <td>32.0</td>\n",
       "      <td>False</td>\n",
       "      <td>0.0</td>\n",
       "      <td>1049.0</td>\n",
       "      <td>0.0</td>\n",
       "      <td>353.0</td>\n",
       "      <td>3235.0</td>\n",
       "      <td>Celeon Hontichre</td>\n",
       "      <td>False</td>\n",
       "      <td>E</td>\n",
       "      <td>S</td>\n",
       "      <td>ES</td>\n",
       "    </tr>\n",
       "    <tr>\n",
       "      <th>8692</th>\n",
       "      <td>9280_02</td>\n",
       "      <td>Europa</td>\n",
       "      <td>False</td>\n",
       "      <td>E/608/S</td>\n",
       "      <td>TRAPPIST-1e</td>\n",
       "      <td>44.0</td>\n",
       "      <td>False</td>\n",
       "      <td>126.0</td>\n",
       "      <td>4688.0</td>\n",
       "      <td>0.0</td>\n",
       "      <td>0.0</td>\n",
       "      <td>12.0</td>\n",
       "      <td>Propsh Hontichre</td>\n",
       "      <td>True</td>\n",
       "      <td>E</td>\n",
       "      <td>S</td>\n",
       "      <td>ES</td>\n",
       "    </tr>\n",
       "  </tbody>\n",
       "</table>\n",
       "<p>8494 rows × 17 columns</p>\n",
       "</div>"
      ],
      "text/plain": [
       "     PassengerId HomePlanet CryoSleep     Cabin    Destination   Age    VIP  \\\n",
       "0        0001_01     Europa     False     B/0/P    TRAPPIST-1e  39.0  False   \n",
       "1        0002_01      Earth     False     F/0/S    TRAPPIST-1e  24.0  False   \n",
       "2        0003_01     Europa     False     A/0/S    TRAPPIST-1e  58.0   True   \n",
       "3        0003_02     Europa     False     A/0/S    TRAPPIST-1e  33.0  False   \n",
       "4        0004_01      Earth     False     F/1/S    TRAPPIST-1e  16.0  False   \n",
       "...          ...        ...       ...       ...            ...   ...    ...   \n",
       "8688     9276_01     Europa     False    A/98/P    55 Cancri e  41.0   True   \n",
       "8689     9278_01      Earth      True  G/1499/S  PSO J318.5-22  18.0  False   \n",
       "8690     9279_01      Earth     False  G/1500/S    TRAPPIST-1e  26.0  False   \n",
       "8691     9280_01     Europa     False   E/608/S    55 Cancri e  32.0  False   \n",
       "8692     9280_02     Europa     False   E/608/S    TRAPPIST-1e  44.0  False   \n",
       "\n",
       "      RoomService  FoodCourt  ShoppingMall     Spa  VRDeck               Name  \\\n",
       "0             0.0        0.0           0.0     0.0     0.0    Maham Ofracculy   \n",
       "1           109.0        9.0          25.0   549.0    44.0       Juanna Vines   \n",
       "2            43.0     3576.0           0.0  6715.0    49.0      Altark Susent   \n",
       "3             0.0     1283.0         371.0  3329.0   193.0       Solam Susent   \n",
       "4           303.0       70.0         151.0   565.0     2.0  Willy Santantines   \n",
       "...           ...        ...           ...     ...     ...                ...   \n",
       "8688          0.0     6819.0           0.0  1643.0    74.0  Gravior Noxnuther   \n",
       "8689          0.0        0.0           0.0     0.0     0.0    Kurta Mondalley   \n",
       "8690          0.0        0.0        1872.0     1.0     0.0       Fayey Connon   \n",
       "8691          0.0     1049.0           0.0   353.0  3235.0   Celeon Hontichre   \n",
       "8692        126.0     4688.0           0.0     0.0    12.0   Propsh Hontichre   \n",
       "\n",
       "      Transported front back total  \n",
       "0           False     B    P    BP  \n",
       "1            True     F    S    FS  \n",
       "2           False     A    S    AS  \n",
       "3           False     A    S    AS  \n",
       "4            True     F    S    FS  \n",
       "...           ...   ...  ...   ...  \n",
       "8688        False     A    P    AP  \n",
       "8689        False     G    S    GS  \n",
       "8690         True     G    S    GS  \n",
       "8691        False     E    S    ES  \n",
       "8692         True     E    S    ES  \n",
       "\n",
       "[8494 rows x 17 columns]"
      ]
     },
     "execution_count": 472,
     "metadata": {},
     "output_type": "execute_result"
    }
   ],
   "source": [
    "t1"
   ]
  },
  {
   "cell_type": "code",
   "execution_count": 473,
   "id": "9720aa53",
   "metadata": {
    "scrolled": true
   },
   "outputs": [
    {
     "data": {
      "text/plain": [
       "total\n",
       "BS    0.784038\n",
       "CS    0.763547\n",
       "BP    0.674221\n",
       "GS    0.583788\n",
       "CP    0.580645\n",
       "AS    0.546763\n",
       "FS    0.470501\n",
       "DS    0.465217\n",
       "GP    0.448276\n",
       "AP    0.435897\n",
       "FP    0.410987\n",
       "DP    0.403226\n",
       "ES    0.371365\n",
       "EP    0.342657\n",
       "TP    0.250000\n",
       "TS    0.000000\n",
       "Name: Transported, dtype: float64"
      ]
     },
     "execution_count": 473,
     "metadata": {},
     "output_type": "execute_result"
    }
   ],
   "source": [
    "t1.groupby('total').mean()['Transported'].sort_values(ascending=False)\n"
   ]
  },
  {
   "cell_type": "code",
   "execution_count": 474,
   "id": "6127d968",
   "metadata": {},
   "outputs": [
    {
     "data": {
      "text/plain": [
       "front\n",
       "B    0.734275\n",
       "C    0.680054\n",
       "G    0.516217\n",
       "A    0.496094\n",
       "F    0.439871\n",
       "D    0.433054\n",
       "E    0.357306\n",
       "T    0.200000\n",
       "Name: Transported, dtype: float64"
      ]
     },
     "execution_count": 474,
     "metadata": {},
     "output_type": "execute_result"
    }
   ],
   "source": [
    "t1.groupby('front').mean()['Transported'].sort_values(ascending=False)\n",
    "#생존률은 B,C,G,A,F,D,E,T"
   ]
  },
  {
   "cell_type": "code",
   "execution_count": 475,
   "id": "9645005b",
   "metadata": {},
   "outputs": [
    {
     "data": {
      "text/plain": [
       "back\n",
       "P    0.674221\n",
       "S    0.784038\n",
       "Name: Transported, dtype: float64"
      ]
     },
     "execution_count": 475,
     "metadata": {},
     "output_type": "execute_result"
    }
   ],
   "source": [
    "t1[t1.front=='B'].groupby('back').mean()['Transported']"
   ]
  },
  {
   "cell_type": "code",
   "execution_count": 476,
   "id": "4e3fdf44",
   "metadata": {},
   "outputs": [
    {
     "data": {
      "text/plain": [
       "back\n",
       "P    0.451260\n",
       "S    0.555037\n",
       "Name: Transported, dtype: float64"
      ]
     },
     "execution_count": 476,
     "metadata": {},
     "output_type": "execute_result"
    }
   ],
   "source": [
    "t1.groupby('back').mean()['Transported']\n"
   ]
  },
  {
   "cell_type": "code",
   "execution_count": 477,
   "id": "0afee737",
   "metadata": {},
   "outputs": [
    {
     "data": {
      "text/plain": [
       "<AxesSubplot:>"
      ]
     },
     "execution_count": 477,
     "metadata": {},
     "output_type": "execute_result"
    },
    {
     "data": {
      "image/png": "[encoded data removed]",
      "text/plain": [
       "<Figure size 640x480 with 2 Axes>"
      ]
     },
     "metadata": {},
     "output_type": "display_data"
    }
   ],
   "source": [
    "sns.heatmap(X_train.corr(),annot=True)"
   ]
  },
  {
   "cell_type": "markdown",
   "id": "1995dcde",
   "metadata": {},
   "source": [
    "## 데이터 전처리"
   ]
  },
  {
   "cell_type": "markdown",
   "id": "d60b8074",
   "metadata": {},
   "source": [
    "**결측치 채우기**"
   ]
  },
  {
   "cell_type": "code",
   "execution_count": 478,
   "id": "9f8a24b3",
   "metadata": {},
   "outputs": [],
   "source": [
    "# X,y분리"
   ]
  },
  {
   "cell_type": "code",
   "execution_count": 479,
   "id": "c740c24d",
   "metadata": {},
   "outputs": [],
   "source": [
    "y_train=X_train.iloc[:,-1].copy()\n",
    "#X_train.drop(['Transported'],axis=1,inplace=True)"
   ]
  },
  {
   "cell_type": "code",
   "execution_count": 480,
   "id": "02d3d765",
   "metadata": {},
   "outputs": [],
   "source": [
    "X_train[\"Group\"] = X_train['PassengerId'].apply(lambda x: x.split(\"_\")[0])\n",
    "X_test[\"Group\"] = X_test['PassengerId'].apply(lambda x: x.split(\"_\")[0])\n",
    "X_train[\"GroupSize\"] = X_train['PassengerId'].apply(lambda x: int(x.split(\"_\")[1]))\n",
    "X_test[\"GroupSize\"] = X_test['PassengerId'].apply(lambda x: int(x.split(\"_\")[1]))"
   ]
  },
  {
   "cell_type": "code",
   "execution_count": 481,
   "id": "91d35ad6",
   "metadata": {
    "scrolled": true
   },
   "outputs": [
    {
     "data": {
      "text/html": [
       "<div>\n",
       "<style scoped>\n",
       "    .dataframe tbody tr th:only-of-type {\n",
       "        vertical-align: middle;\n",
       "    }\n",
       "\n",
       "    .dataframe tbody tr th {\n",
       "        vertical-align: top;\n",
       "    }\n",
       "\n",
       "    .dataframe thead th {\n",
       "        text-align: right;\n",
       "    }\n",
       "</style>\n",
       "<table border=\"1\" class=\"dataframe\">\n",
       "  <thead>\n",
       "    <tr style=\"text-align: right;\">\n",
       "      <th></th>\n",
       "      <th>PassengerId</th>\n",
       "      <th>HomePlanet</th>\n",
       "      <th>CryoSleep</th>\n",
       "      <th>Cabin</th>\n",
       "      <th>Destination</th>\n",
       "      <th>Age</th>\n",
       "      <th>VIP</th>\n",
       "      <th>RoomService</th>\n",
       "      <th>FoodCourt</th>\n",
       "      <th>ShoppingMall</th>\n",
       "      <th>Spa</th>\n",
       "      <th>VRDeck</th>\n",
       "      <th>Name</th>\n",
       "      <th>Transported</th>\n",
       "      <th>Group</th>\n",
       "      <th>GroupSize</th>\n",
       "    </tr>\n",
       "  </thead>\n",
       "  <tbody>\n",
       "    <tr>\n",
       "      <th>0</th>\n",
       "      <td>0001_01</td>\n",
       "      <td>Europa</td>\n",
       "      <td>False</td>\n",
       "      <td>B/0/P</td>\n",
       "      <td>TRAPPIST-1e</td>\n",
       "      <td>39.0</td>\n",
       "      <td>False</td>\n",
       "      <td>0.0</td>\n",
       "      <td>0.0</td>\n",
       "      <td>0.0</td>\n",
       "      <td>0.0</td>\n",
       "      <td>0.0</td>\n",
       "      <td>Maham Ofracculy</td>\n",
       "      <td>False</td>\n",
       "      <td>0001</td>\n",
       "      <td>1</td>\n",
       "    </tr>\n",
       "    <tr>\n",
       "      <th>1</th>\n",
       "      <td>0002_01</td>\n",
       "      <td>Earth</td>\n",
       "      <td>False</td>\n",
       "      <td>F/0/S</td>\n",
       "      <td>TRAPPIST-1e</td>\n",
       "      <td>24.0</td>\n",
       "      <td>False</td>\n",
       "      <td>109.0</td>\n",
       "      <td>9.0</td>\n",
       "      <td>25.0</td>\n",
       "      <td>549.0</td>\n",
       "      <td>44.0</td>\n",
       "      <td>Juanna Vines</td>\n",
       "      <td>True</td>\n",
       "      <td>0002</td>\n",
       "      <td>1</td>\n",
       "    </tr>\n",
       "    <tr>\n",
       "      <th>2</th>\n",
       "      <td>0003_01</td>\n",
       "      <td>Europa</td>\n",
       "      <td>False</td>\n",
       "      <td>A/0/S</td>\n",
       "      <td>TRAPPIST-1e</td>\n",
       "      <td>58.0</td>\n",
       "      <td>True</td>\n",
       "      <td>43.0</td>\n",
       "      <td>3576.0</td>\n",
       "      <td>0.0</td>\n",
       "      <td>6715.0</td>\n",
       "      <td>49.0</td>\n",
       "      <td>Altark Susent</td>\n",
       "      <td>False</td>\n",
       "      <td>0003</td>\n",
       "      <td>1</td>\n",
       "    </tr>\n",
       "    <tr>\n",
       "      <th>3</th>\n",
       "      <td>0003_02</td>\n",
       "      <td>Europa</td>\n",
       "      <td>False</td>\n",
       "      <td>A/0/S</td>\n",
       "      <td>TRAPPIST-1e</td>\n",
       "      <td>33.0</td>\n",
       "      <td>False</td>\n",
       "      <td>0.0</td>\n",
       "      <td>1283.0</td>\n",
       "      <td>371.0</td>\n",
       "      <td>3329.0</td>\n",
       "      <td>193.0</td>\n",
       "      <td>Solam Susent</td>\n",
       "      <td>False</td>\n",
       "      <td>0003</td>\n",
       "      <td>2</td>\n",
       "    </tr>\n",
       "    <tr>\n",
       "      <th>4</th>\n",
       "      <td>0004_01</td>\n",
       "      <td>Earth</td>\n",
       "      <td>False</td>\n",
       "      <td>F/1/S</td>\n",
       "      <td>TRAPPIST-1e</td>\n",
       "      <td>16.0</td>\n",
       "      <td>False</td>\n",
       "      <td>303.0</td>\n",
       "      <td>70.0</td>\n",
       "      <td>151.0</td>\n",
       "      <td>565.0</td>\n",
       "      <td>2.0</td>\n",
       "      <td>Willy Santantines</td>\n",
       "      <td>True</td>\n",
       "      <td>0004</td>\n",
       "      <td>1</td>\n",
       "    </tr>\n",
       "    <tr>\n",
       "      <th>...</th>\n",
       "      <td>...</td>\n",
       "      <td>...</td>\n",
       "      <td>...</td>\n",
       "      <td>...</td>\n",
       "      <td>...</td>\n",
       "      <td>...</td>\n",
       "      <td>...</td>\n",
       "      <td>...</td>\n",
       "      <td>...</td>\n",
       "      <td>...</td>\n",
       "      <td>...</td>\n",
       "      <td>...</td>\n",
       "      <td>...</td>\n",
       "      <td>...</td>\n",
       "      <td>...</td>\n",
       "      <td>...</td>\n",
       "    </tr>\n",
       "    <tr>\n",
       "      <th>8688</th>\n",
       "      <td>9276_01</td>\n",
       "      <td>Europa</td>\n",
       "      <td>False</td>\n",
       "      <td>A/98/P</td>\n",
       "      <td>55 Cancri e</td>\n",
       "      <td>41.0</td>\n",
       "      <td>True</td>\n",
       "      <td>0.0</td>\n",
       "      <td>6819.0</td>\n",
       "      <td>0.0</td>\n",
       "      <td>1643.0</td>\n",
       "      <td>74.0</td>\n",
       "      <td>Gravior Noxnuther</td>\n",
       "      <td>False</td>\n",
       "      <td>9276</td>\n",
       "      <td>1</td>\n",
       "    </tr>\n",
       "    <tr>\n",
       "      <th>8689</th>\n",
       "      <td>9278_01</td>\n",
       "      <td>Earth</td>\n",
       "      <td>True</td>\n",
       "      <td>G/1499/S</td>\n",
       "      <td>PSO J318.5-22</td>\n",
       "      <td>18.0</td>\n",
       "      <td>False</td>\n",
       "      <td>0.0</td>\n",
       "      <td>0.0</td>\n",
       "      <td>0.0</td>\n",
       "      <td>0.0</td>\n",
       "      <td>0.0</td>\n",
       "      <td>Kurta Mondalley</td>\n",
       "      <td>False</td>\n",
       "      <td>9278</td>\n",
       "      <td>1</td>\n",
       "    </tr>\n",
       "    <tr>\n",
       "      <th>8690</th>\n",
       "      <td>9279_01</td>\n",
       "      <td>Earth</td>\n",
       "      <td>False</td>\n",
       "      <td>G/1500/S</td>\n",
       "      <td>TRAPPIST-1e</td>\n",
       "      <td>26.0</td>\n",
       "      <td>False</td>\n",
       "      <td>0.0</td>\n",
       "      <td>0.0</td>\n",
       "      <td>1872.0</td>\n",
       "      <td>1.0</td>\n",
       "      <td>0.0</td>\n",
       "      <td>Fayey Connon</td>\n",
       "      <td>True</td>\n",
       "      <td>9279</td>\n",
       "      <td>1</td>\n",
       "    </tr>\n",
       "    <tr>\n",
       "      <th>8691</th>\n",
       "      <td>9280_01</td>\n",
       "      <td>Europa</td>\n",
       "      <td>False</td>\n",
       "      <td>E/608/S</td>\n",
       "      <td>55 Cancri e</td>\n",
       "      <td>32.0</td>\n",
       "      <td>False</td>\n",
       "      <td>0.0</td>\n",
       "      <td>1049.0</td>\n",
       "      <td>0.0</td>\n",
       "      <td>353.0</td>\n",
       "      <td>3235.0</td>\n",
       "      <td>Celeon Hontichre</td>\n",
       "      <td>False</td>\n",
       "      <td>9280</td>\n",
       "      <td>1</td>\n",
       "    </tr>\n",
       "    <tr>\n",
       "      <th>8692</th>\n",
       "      <td>9280_02</td>\n",
       "      <td>Europa</td>\n",
       "      <td>False</td>\n",
       "      <td>E/608/S</td>\n",
       "      <td>TRAPPIST-1e</td>\n",
       "      <td>44.0</td>\n",
       "      <td>False</td>\n",
       "      <td>126.0</td>\n",
       "      <td>4688.0</td>\n",
       "      <td>0.0</td>\n",
       "      <td>0.0</td>\n",
       "      <td>12.0</td>\n",
       "      <td>Propsh Hontichre</td>\n",
       "      <td>True</td>\n",
       "      <td>9280</td>\n",
       "      <td>2</td>\n",
       "    </tr>\n",
       "  </tbody>\n",
       "</table>\n",
       "<p>8693 rows × 16 columns</p>\n",
       "</div>"
      ],
      "text/plain": [
       "     PassengerId HomePlanet CryoSleep     Cabin    Destination   Age    VIP  \\\n",
       "0        0001_01     Europa     False     B/0/P    TRAPPIST-1e  39.0  False   \n",
       "1        0002_01      Earth     False     F/0/S    TRAPPIST-1e  24.0  False   \n",
       "2        0003_01     Europa     False     A/0/S    TRAPPIST-1e  58.0   True   \n",
       "3        0003_02     Europa     False     A/0/S    TRAPPIST-1e  33.0  False   \n",
       "4        0004_01      Earth     False     F/1/S    TRAPPIST-1e  16.0  False   \n",
       "...          ...        ...       ...       ...            ...   ...    ...   \n",
       "8688     9276_01     Europa     False    A/98/P    55 Cancri e  41.0   True   \n",
       "8689     9278_01      Earth      True  G/1499/S  PSO J318.5-22  18.0  False   \n",
       "8690     9279_01      Earth     False  G/1500/S    TRAPPIST-1e  26.0  False   \n",
       "8691     9280_01     Europa     False   E/608/S    55 Cancri e  32.0  False   \n",
       "8692     9280_02     Europa     False   E/608/S    TRAPPIST-1e  44.0  False   \n",
       "\n",
       "      RoomService  FoodCourt  ShoppingMall     Spa  VRDeck               Name  \\\n",
       "0             0.0        0.0           0.0     0.0     0.0    Maham Ofracculy   \n",
       "1           109.0        9.0          25.0   549.0    44.0       Juanna Vines   \n",
       "2            43.0     3576.0           0.0  6715.0    49.0      Altark Susent   \n",
       "3             0.0     1283.0         371.0  3329.0   193.0       Solam Susent   \n",
       "4           303.0       70.0         151.0   565.0     2.0  Willy Santantines   \n",
       "...           ...        ...           ...     ...     ...                ...   \n",
       "8688          0.0     6819.0           0.0  1643.0    74.0  Gravior Noxnuther   \n",
       "8689          0.0        0.0           0.0     0.0     0.0    Kurta Mondalley   \n",
       "8690          0.0        0.0        1872.0     1.0     0.0       Fayey Connon   \n",
       "8691          0.0     1049.0           0.0   353.0  3235.0   Celeon Hontichre   \n",
       "8692        126.0     4688.0           0.0     0.0    12.0   Propsh Hontichre   \n",
       "\n",
       "      Transported Group  GroupSize  \n",
       "0           False  0001          1  \n",
       "1            True  0002          1  \n",
       "2           False  0003          1  \n",
       "3           False  0003          2  \n",
       "4            True  0004          1  \n",
       "...           ...   ...        ...  \n",
       "8688        False  9276          1  \n",
       "8689        False  9278          1  \n",
       "8690         True  9279          1  \n",
       "8691        False  9280          1  \n",
       "8692         True  9280          2  \n",
       "\n",
       "[8693 rows x 16 columns]"
      ]
     },
     "execution_count": 481,
     "metadata": {},
     "output_type": "execute_result"
    }
   ],
   "source": [
    "X_train"
   ]
  },
  {
   "cell_type": "code",
   "execution_count": 482,
   "id": "51a80e4d",
   "metadata": {},
   "outputs": [
    {
     "data": {
      "text/plain": [
       "S    4288\n",
       "P    4206\n",
       "Name: Cabin, dtype: int64"
      ]
     },
     "execution_count": 482,
     "metadata": {},
     "output_type": "execute_result"
    }
   ],
   "source": [
    "X_train[~X_train['Cabin'].isnull()].Cabin.map(lambda x: x[0]).value_counts()\n",
    "X_train[~X_train['Cabin'].isnull()].Cabin.map(lambda x: x[-1]).value_counts()"
   ]
  },
  {
   "cell_type": "markdown",
   "id": "44e63c42",
   "metadata": {},
   "source": [
    "- Cabin - `The cabin number where the passenger is staying. Takes the form deck/num/side, where side can be either P for Port or S for Starboard."
   ]
  },
  {
   "cell_type": "code",
   "execution_count": 483,
   "id": "353e088b",
   "metadata": {
    "scrolled": true
   },
   "outputs": [
    {
     "data": {
      "text/html": [
       "<div>\n",
       "<style scoped>\n",
       "    .dataframe tbody tr th:only-of-type {\n",
       "        vertical-align: middle;\n",
       "    }\n",
       "\n",
       "    .dataframe tbody tr th {\n",
       "        vertical-align: top;\n",
       "    }\n",
       "\n",
       "    .dataframe thead th {\n",
       "        text-align: right;\n",
       "    }\n",
       "</style>\n",
       "<table border=\"1\" class=\"dataframe\">\n",
       "  <thead>\n",
       "    <tr style=\"text-align: right;\">\n",
       "      <th></th>\n",
       "      <th>PassengerId</th>\n",
       "      <th>HomePlanet</th>\n",
       "      <th>CryoSleep</th>\n",
       "      <th>Cabin</th>\n",
       "      <th>Destination</th>\n",
       "      <th>Age</th>\n",
       "      <th>VIP</th>\n",
       "      <th>RoomService</th>\n",
       "      <th>FoodCourt</th>\n",
       "      <th>ShoppingMall</th>\n",
       "      <th>Spa</th>\n",
       "      <th>VRDeck</th>\n",
       "      <th>Name</th>\n",
       "      <th>Transported</th>\n",
       "      <th>Group</th>\n",
       "      <th>GroupSize</th>\n",
       "      <th>Front</th>\n",
       "      <th>Back</th>\n",
       "    </tr>\n",
       "  </thead>\n",
       "  <tbody>\n",
       "    <tr>\n",
       "      <th>0</th>\n",
       "      <td>0001_01</td>\n",
       "      <td>Europa</td>\n",
       "      <td>False</td>\n",
       "      <td>B/0/P</td>\n",
       "      <td>TRAPPIST-1e</td>\n",
       "      <td>39.0</td>\n",
       "      <td>False</td>\n",
       "      <td>0.0</td>\n",
       "      <td>0.0</td>\n",
       "      <td>0.0</td>\n",
       "      <td>0.0</td>\n",
       "      <td>0.0</td>\n",
       "      <td>Maham Ofracculy</td>\n",
       "      <td>False</td>\n",
       "      <td>0001</td>\n",
       "      <td>1</td>\n",
       "      <td>B</td>\n",
       "      <td>P</td>\n",
       "    </tr>\n",
       "    <tr>\n",
       "      <th>1</th>\n",
       "      <td>0002_01</td>\n",
       "      <td>Earth</td>\n",
       "      <td>False</td>\n",
       "      <td>F/0/S</td>\n",
       "      <td>TRAPPIST-1e</td>\n",
       "      <td>24.0</td>\n",
       "      <td>False</td>\n",
       "      <td>109.0</td>\n",
       "      <td>9.0</td>\n",
       "      <td>25.0</td>\n",
       "      <td>549.0</td>\n",
       "      <td>44.0</td>\n",
       "      <td>Juanna Vines</td>\n",
       "      <td>True</td>\n",
       "      <td>0002</td>\n",
       "      <td>1</td>\n",
       "      <td>F</td>\n",
       "      <td>S</td>\n",
       "    </tr>\n",
       "    <tr>\n",
       "      <th>2</th>\n",
       "      <td>0003_01</td>\n",
       "      <td>Europa</td>\n",
       "      <td>False</td>\n",
       "      <td>A/0/S</td>\n",
       "      <td>TRAPPIST-1e</td>\n",
       "      <td>58.0</td>\n",
       "      <td>True</td>\n",
       "      <td>43.0</td>\n",
       "      <td>3576.0</td>\n",
       "      <td>0.0</td>\n",
       "      <td>6715.0</td>\n",
       "      <td>49.0</td>\n",
       "      <td>Altark Susent</td>\n",
       "      <td>False</td>\n",
       "      <td>0003</td>\n",
       "      <td>1</td>\n",
       "      <td>A</td>\n",
       "      <td>S</td>\n",
       "    </tr>\n",
       "    <tr>\n",
       "      <th>3</th>\n",
       "      <td>0003_02</td>\n",
       "      <td>Europa</td>\n",
       "      <td>False</td>\n",
       "      <td>A/0/S</td>\n",
       "      <td>TRAPPIST-1e</td>\n",
       "      <td>33.0</td>\n",
       "      <td>False</td>\n",
       "      <td>0.0</td>\n",
       "      <td>1283.0</td>\n",
       "      <td>371.0</td>\n",
       "      <td>3329.0</td>\n",
       "      <td>193.0</td>\n",
       "      <td>Solam Susent</td>\n",
       "      <td>False</td>\n",
       "      <td>0003</td>\n",
       "      <td>2</td>\n",
       "      <td>A</td>\n",
       "      <td>S</td>\n",
       "    </tr>\n",
       "    <tr>\n",
       "      <th>4</th>\n",
       "      <td>0004_01</td>\n",
       "      <td>Earth</td>\n",
       "      <td>False</td>\n",
       "      <td>F/1/S</td>\n",
       "      <td>TRAPPIST-1e</td>\n",
       "      <td>16.0</td>\n",
       "      <td>False</td>\n",
       "      <td>303.0</td>\n",
       "      <td>70.0</td>\n",
       "      <td>151.0</td>\n",
       "      <td>565.0</td>\n",
       "      <td>2.0</td>\n",
       "      <td>Willy Santantines</td>\n",
       "      <td>True</td>\n",
       "      <td>0004</td>\n",
       "      <td>1</td>\n",
       "      <td>F</td>\n",
       "      <td>S</td>\n",
       "    </tr>\n",
       "    <tr>\n",
       "      <th>...</th>\n",
       "      <td>...</td>\n",
       "      <td>...</td>\n",
       "      <td>...</td>\n",
       "      <td>...</td>\n",
       "      <td>...</td>\n",
       "      <td>...</td>\n",
       "      <td>...</td>\n",
       "      <td>...</td>\n",
       "      <td>...</td>\n",
       "      <td>...</td>\n",
       "      <td>...</td>\n",
       "      <td>...</td>\n",
       "      <td>...</td>\n",
       "      <td>...</td>\n",
       "      <td>...</td>\n",
       "      <td>...</td>\n",
       "      <td>...</td>\n",
       "      <td>...</td>\n",
       "    </tr>\n",
       "    <tr>\n",
       "      <th>8688</th>\n",
       "      <td>9276_01</td>\n",
       "      <td>Europa</td>\n",
       "      <td>False</td>\n",
       "      <td>A/98/P</td>\n",
       "      <td>55 Cancri e</td>\n",
       "      <td>41.0</td>\n",
       "      <td>True</td>\n",
       "      <td>0.0</td>\n",
       "      <td>6819.0</td>\n",
       "      <td>0.0</td>\n",
       "      <td>1643.0</td>\n",
       "      <td>74.0</td>\n",
       "      <td>Gravior Noxnuther</td>\n",
       "      <td>False</td>\n",
       "      <td>9276</td>\n",
       "      <td>1</td>\n",
       "      <td>A</td>\n",
       "      <td>P</td>\n",
       "    </tr>\n",
       "    <tr>\n",
       "      <th>8689</th>\n",
       "      <td>9278_01</td>\n",
       "      <td>Earth</td>\n",
       "      <td>True</td>\n",
       "      <td>G/1499/S</td>\n",
       "      <td>PSO J318.5-22</td>\n",
       "      <td>18.0</td>\n",
       "      <td>False</td>\n",
       "      <td>0.0</td>\n",
       "      <td>0.0</td>\n",
       "      <td>0.0</td>\n",
       "      <td>0.0</td>\n",
       "      <td>0.0</td>\n",
       "      <td>Kurta Mondalley</td>\n",
       "      <td>False</td>\n",
       "      <td>9278</td>\n",
       "      <td>1</td>\n",
       "      <td>G</td>\n",
       "      <td>S</td>\n",
       "    </tr>\n",
       "    <tr>\n",
       "      <th>8690</th>\n",
       "      <td>9279_01</td>\n",
       "      <td>Earth</td>\n",
       "      <td>False</td>\n",
       "      <td>G/1500/S</td>\n",
       "      <td>TRAPPIST-1e</td>\n",
       "      <td>26.0</td>\n",
       "      <td>False</td>\n",
       "      <td>0.0</td>\n",
       "      <td>0.0</td>\n",
       "      <td>1872.0</td>\n",
       "      <td>1.0</td>\n",
       "      <td>0.0</td>\n",
       "      <td>Fayey Connon</td>\n",
       "      <td>True</td>\n",
       "      <td>9279</td>\n",
       "      <td>1</td>\n",
       "      <td>G</td>\n",
       "      <td>S</td>\n",
       "    </tr>\n",
       "    <tr>\n",
       "      <th>8691</th>\n",
       "      <td>9280_01</td>\n",
       "      <td>Europa</td>\n",
       "      <td>False</td>\n",
       "      <td>E/608/S</td>\n",
       "      <td>55 Cancri e</td>\n",
       "      <td>32.0</td>\n",
       "      <td>False</td>\n",
       "      <td>0.0</td>\n",
       "      <td>1049.0</td>\n",
       "      <td>0.0</td>\n",
       "      <td>353.0</td>\n",
       "      <td>3235.0</td>\n",
       "      <td>Celeon Hontichre</td>\n",
       "      <td>False</td>\n",
       "      <td>9280</td>\n",
       "      <td>1</td>\n",
       "      <td>E</td>\n",
       "      <td>S</td>\n",
       "    </tr>\n",
       "    <tr>\n",
       "      <th>8692</th>\n",
       "      <td>9280_02</td>\n",
       "      <td>Europa</td>\n",
       "      <td>False</td>\n",
       "      <td>E/608/S</td>\n",
       "      <td>TRAPPIST-1e</td>\n",
       "      <td>44.0</td>\n",
       "      <td>False</td>\n",
       "      <td>126.0</td>\n",
       "      <td>4688.0</td>\n",
       "      <td>0.0</td>\n",
       "      <td>0.0</td>\n",
       "      <td>12.0</td>\n",
       "      <td>Propsh Hontichre</td>\n",
       "      <td>True</td>\n",
       "      <td>9280</td>\n",
       "      <td>2</td>\n",
       "      <td>E</td>\n",
       "      <td>S</td>\n",
       "    </tr>\n",
       "  </tbody>\n",
       "</table>\n",
       "<p>8693 rows × 18 columns</p>\n",
       "</div>"
      ],
      "text/plain": [
       "     PassengerId HomePlanet CryoSleep     Cabin    Destination   Age    VIP  \\\n",
       "0        0001_01     Europa     False     B/0/P    TRAPPIST-1e  39.0  False   \n",
       "1        0002_01      Earth     False     F/0/S    TRAPPIST-1e  24.0  False   \n",
       "2        0003_01     Europa     False     A/0/S    TRAPPIST-1e  58.0   True   \n",
       "3        0003_02     Europa     False     A/0/S    TRAPPIST-1e  33.0  False   \n",
       "4        0004_01      Earth     False     F/1/S    TRAPPIST-1e  16.0  False   \n",
       "...          ...        ...       ...       ...            ...   ...    ...   \n",
       "8688     9276_01     Europa     False    A/98/P    55 Cancri e  41.0   True   \n",
       "8689     9278_01      Earth      True  G/1499/S  PSO J318.5-22  18.0  False   \n",
       "8690     9279_01      Earth     False  G/1500/S    TRAPPIST-1e  26.0  False   \n",
       "8691     9280_01     Europa     False   E/608/S    55 Cancri e  32.0  False   \n",
       "8692     9280_02     Europa     False   E/608/S    TRAPPIST-1e  44.0  False   \n",
       "\n",
       "      RoomService  FoodCourt  ShoppingMall     Spa  VRDeck               Name  \\\n",
       "0             0.0        0.0           0.0     0.0     0.0    Maham Ofracculy   \n",
       "1           109.0        9.0          25.0   549.0    44.0       Juanna Vines   \n",
       "2            43.0     3576.0           0.0  6715.0    49.0      Altark Susent   \n",
       "3             0.0     1283.0         371.0  3329.0   193.0       Solam Susent   \n",
       "4           303.0       70.0         151.0   565.0     2.0  Willy Santantines   \n",
       "...           ...        ...           ...     ...     ...                ...   \n",
       "8688          0.0     6819.0           0.0  1643.0    74.0  Gravior Noxnuther   \n",
       "8689          0.0        0.0           0.0     0.0     0.0    Kurta Mondalley   \n",
       "8690          0.0        0.0        1872.0     1.0     0.0       Fayey Connon   \n",
       "8691          0.0     1049.0           0.0   353.0  3235.0   Celeon Hontichre   \n",
       "8692        126.0     4688.0           0.0     0.0    12.0   Propsh Hontichre   \n",
       "\n",
       "      Transported Group  GroupSize Front Back  \n",
       "0           False  0001          1     B    P  \n",
       "1            True  0002          1     F    S  \n",
       "2           False  0003          1     A    S  \n",
       "3           False  0003          2     A    S  \n",
       "4            True  0004          1     F    S  \n",
       "...           ...   ...        ...   ...  ...  \n",
       "8688        False  9276          1     A    P  \n",
       "8689        False  9278          1     G    S  \n",
       "8690         True  9279          1     G    S  \n",
       "8691        False  9280          1     E    S  \n",
       "8692         True  9280          2     E    S  \n",
       "\n",
       "[8693 rows x 18 columns]"
      ]
     },
     "execution_count": 483,
     "metadata": {},
     "output_type": "execute_result"
    }
   ],
   "source": [
    "X_train['Cabin'].fillna('XXX',inplace=True)\n",
    "X_test['Cabin'].fillna('XXX',inplace=True)\n",
    "X_train[\"Front\"] = X_train['Cabin'].apply(lambda x: x[0])\n",
    "X_train[\"Back\"] = X_train['Cabin'].apply(lambda x: x[-1])\n",
    "X_test[\"Front\"] = X_test['Cabin'].apply(lambda x: x[0])\n",
    "X_test[\"Back\"] = X_test['Cabin'].apply(lambda x: x[-1])\n",
    "X_train"
   ]
  },
  {
   "cell_type": "code",
   "execution_count": 484,
   "id": "d2ec11be",
   "metadata": {},
   "outputs": [
    {
     "data": {
      "text/plain": [
       "0"
      ]
     },
     "execution_count": 484,
     "metadata": {},
     "output_type": "execute_result"
    }
   ],
   "source": [
    "X_test.Cabin.isna().sum()  # XXX는 노이즈값 "
   ]
  },
  {
   "cell_type": "code",
   "execution_count": 485,
   "id": "f95a9ef0",
   "metadata": {
    "scrolled": true
   },
   "outputs": [
    {
     "data": {
      "text/plain": [
       "['PassengerId',\n",
       " 'HomePlanet',\n",
       " 'CryoSleep',\n",
       " 'Cabin',\n",
       " 'Destination',\n",
       " 'VIP',\n",
       " 'Name',\n",
       " 'Group',\n",
       " 'Front',\n",
       " 'Back']"
      ]
     },
     "execution_count": 485,
     "metadata": {},
     "output_type": "execute_result"
    }
   ],
   "source": [
    "a=[]\n",
    "for i,k in enumerate(X_train.dtypes):\n",
    "    if k=='object':\n",
    "        a.append(X_train.columns[i])\n",
    "a"
   ]
  },
  {
   "cell_type": "markdown",
   "id": "b4816110",
   "metadata": {},
   "source": [
    "**object 값 나머지는 프리퀀시로 결측값 채우기**"
   ]
  },
  {
   "cell_type": "code",
   "execution_count": 486,
   "id": "916e2781",
   "metadata": {},
   "outputs": [
    {
     "data": {
      "text/plain": [
       "PassengerId       0\n",
       "HomePlanet        0\n",
       "CryoSleep         0\n",
       "Cabin             0\n",
       "Destination       0\n",
       "Age             179\n",
       "VIP               0\n",
       "RoomService     181\n",
       "FoodCourt       183\n",
       "ShoppingMall    208\n",
       "Spa             183\n",
       "VRDeck          188\n",
       "Name              0\n",
       "Transported       0\n",
       "Group             0\n",
       "GroupSize         0\n",
       "Front             0\n",
       "Back              0\n",
       "dtype: int64"
      ]
     },
     "execution_count": 486,
     "metadata": {},
     "output_type": "execute_result"
    }
   ],
   "source": [
    "for i in a:\n",
    "    X_train[i].fillna(X_train[i].value_counts().idxmax(),inplace=True)\n",
    "X_train.isna().sum()\n"
   ]
  },
  {
   "cell_type": "code",
   "execution_count": 487,
   "id": "7af3d5b8",
   "metadata": {},
   "outputs": [
    {
     "data": {
      "text/plain": [
       "PassengerId       0\n",
       "HomePlanet        0\n",
       "CryoSleep         0\n",
       "Cabin             0\n",
       "Destination       0\n",
       "Age              91\n",
       "VIP               0\n",
       "RoomService      82\n",
       "FoodCourt       106\n",
       "ShoppingMall     98\n",
       "Spa             101\n",
       "VRDeck           80\n",
       "Name              0\n",
       "Group             0\n",
       "GroupSize         0\n",
       "Front             0\n",
       "Back              0\n",
       "dtype: int64"
      ]
     },
     "execution_count": 487,
     "metadata": {},
     "output_type": "execute_result"
    }
   ],
   "source": [
    "for i in a:\n",
    "    X_test[i].fillna(X_test[i].value_counts().idxmax(),inplace=True)\n",
    "X_test.isna().sum()"
   ]
  },
  {
   "cell_type": "code",
   "execution_count": 488,
   "id": "7e56a215",
   "metadata": {},
   "outputs": [
    {
     "data": {
      "text/plain": [
       "['Age', 'RoomService', 'FoodCourt', 'ShoppingMall', 'Spa', 'VRDeck']"
      ]
     },
     "execution_count": 488,
     "metadata": {},
     "output_type": "execute_result"
    }
   ],
   "source": [
    "a=[]\n",
    "for i,k in enumerate(X_train.dtypes):\n",
    "    if k=='float':\n",
    "        a.append(X_train.columns[i])\n",
    "a"
   ]
  },
  {
   "cell_type": "code",
   "execution_count": 489,
   "id": "96218a69",
   "metadata": {},
   "outputs": [
    {
     "name": "stdout",
     "output_type": "stream",
     "text": [
      "Age 27.0\n",
      "RoomService 0.0\n",
      "FoodCourt 0.0\n",
      "ShoppingMall 0.0\n",
      "Spa 0.0\n",
      "VRDeck 0.0\n"
     ]
    }
   ],
   "source": [
    "for i in a :\n",
    "    print(i,X_train[i].median())\n"
   ]
  },
  {
   "cell_type": "code",
   "execution_count": 490,
   "id": "0b58be3c",
   "metadata": {},
   "outputs": [],
   "source": [
    "for i in a:\n",
    "    X_train[i].fillna(X_train[i].mean(),inplace=True) "
   ]
  },
  {
   "cell_type": "code",
   "execution_count": 491,
   "id": "fe32688a",
   "metadata": {},
   "outputs": [
    {
     "data": {
      "text/plain": [
       "PassengerId     0\n",
       "HomePlanet      0\n",
       "CryoSleep       0\n",
       "Cabin           0\n",
       "Destination     0\n",
       "Age             0\n",
       "VIP             0\n",
       "RoomService     0\n",
       "FoodCourt       0\n",
       "ShoppingMall    0\n",
       "Spa             0\n",
       "VRDeck          0\n",
       "Name            0\n",
       "Transported     0\n",
       "Group           0\n",
       "GroupSize       0\n",
       "Front           0\n",
       "Back            0\n",
       "dtype: int64"
      ]
     },
     "execution_count": 491,
     "metadata": {},
     "output_type": "execute_result"
    }
   ],
   "source": [
    "X_train.isna().sum()"
   ]
  },
  {
   "cell_type": "code",
   "execution_count": 492,
   "id": "bba4f622",
   "metadata": {},
   "outputs": [],
   "source": [
    "for i in a:\n",
    "    X_test[i].fillna(X_test[i].mean(),inplace=True) "
   ]
  },
  {
   "cell_type": "code",
   "execution_count": 493,
   "id": "291526b5",
   "metadata": {},
   "outputs": [
    {
     "data": {
      "text/plain": [
       "PassengerId     0\n",
       "HomePlanet      0\n",
       "CryoSleep       0\n",
       "Cabin           0\n",
       "Destination     0\n",
       "Age             0\n",
       "VIP             0\n",
       "RoomService     0\n",
       "FoodCourt       0\n",
       "ShoppingMall    0\n",
       "Spa             0\n",
       "VRDeck          0\n",
       "Name            0\n",
       "Group           0\n",
       "GroupSize       0\n",
       "Front           0\n",
       "Back            0\n",
       "dtype: int64"
      ]
     },
     "execution_count": 493,
     "metadata": {},
     "output_type": "execute_result"
    }
   ],
   "source": [
    "X_test.isna().sum()"
   ]
  },
  {
   "cell_type": "code",
   "execution_count": 494,
   "id": "186f36f1",
   "metadata": {},
   "outputs": [],
   "source": [
    "X_train['Front'].replace('X',X_train['Front'].value_counts().idxmax(),inplace=True)\n",
    "X_train['Back'].replace('X',X_train['Back'].value_counts().idxmax(),inplace=True)\n",
    "X_test['Front'].replace('X',X_test['Front'].value_counts().idxmax(),inplace=True)\n",
    "X_test['Back'].replace('X',X_test['Back'].value_counts().idxmax(),inplace=True)"
   ]
  },
  {
   "cell_type": "code",
   "execution_count": 495,
   "id": "fffaeb2c",
   "metadata": {},
   "outputs": [],
   "source": [
    "bins=[0,9,19,29,39,49,59,69,79]\n",
    "labels=['0s','10s','20s','30s','40s','50s','60s','70s']\n",
    "X_train['AgeCat']=pd.cut(X_train.Age,bins=bins,labels=labels)\n",
    "X_test['AgeCat']=pd.cut(X_test.Age,bins=bins,labels=labels)"
   ]
  },
  {
   "cell_type": "code",
   "execution_count": 496,
   "id": "564ffce5",
   "metadata": {
    "scrolled": true
   },
   "outputs": [],
   "source": [
    "X_train['TotalSpent']=X_train.RoomService+X_train.FoodCourt+X_train.ShoppingMall+X_train.Spa+X_train.VRDeck\n",
    "X_test['TotalSpent']=X_test.RoomService+X_test.FoodCourt+X_test.ShoppingMall+X_test.Spa+X_test.VRDeck\n",
    "\n",
    "bins=[-1,727,1461,5000,10000,20000,35987]\n",
    "labels=['a','b','c','d','e','f']\n",
    "X_train['ToCat']=pd.cut(X_train.TotalSpent,bins=bins,labels=labels)\n",
    "X_test['ToCat']=pd.cut(X_test.TotalSpent,bins=bins,labels=labels)\n"
   ]
  },
  {
   "cell_type": "code",
   "execution_count": 497,
   "id": "93c26e95",
   "metadata": {},
   "outputs": [
    {
     "data": {
      "text/html": [
       "<div>\n",
       "<style scoped>\n",
       "    .dataframe tbody tr th:only-of-type {\n",
       "        vertical-align: middle;\n",
       "    }\n",
       "\n",
       "    .dataframe tbody tr th {\n",
       "        vertical-align: top;\n",
       "    }\n",
       "\n",
       "    .dataframe thead th {\n",
       "        text-align: right;\n",
       "    }\n",
       "</style>\n",
       "<table border=\"1\" class=\"dataframe\">\n",
       "  <thead>\n",
       "    <tr style=\"text-align: right;\">\n",
       "      <th></th>\n",
       "      <th>PassengerId</th>\n",
       "      <th>HomePlanet</th>\n",
       "      <th>CryoSleep</th>\n",
       "      <th>Cabin</th>\n",
       "      <th>Destination</th>\n",
       "      <th>Age</th>\n",
       "      <th>VIP</th>\n",
       "      <th>RoomService</th>\n",
       "      <th>FoodCourt</th>\n",
       "      <th>ShoppingMall</th>\n",
       "      <th>...</th>\n",
       "      <th>VRDeck</th>\n",
       "      <th>Name</th>\n",
       "      <th>Transported</th>\n",
       "      <th>Group</th>\n",
       "      <th>GroupSize</th>\n",
       "      <th>Front</th>\n",
       "      <th>Back</th>\n",
       "      <th>AgeCat</th>\n",
       "      <th>TotalSpent</th>\n",
       "      <th>ToCat</th>\n",
       "    </tr>\n",
       "  </thead>\n",
       "  <tbody>\n",
       "    <tr>\n",
       "      <th>0</th>\n",
       "      <td>0001_01</td>\n",
       "      <td>Europa</td>\n",
       "      <td>False</td>\n",
       "      <td>B/0/P</td>\n",
       "      <td>TRAPPIST-1e</td>\n",
       "      <td>39.0</td>\n",
       "      <td>False</td>\n",
       "      <td>0.0</td>\n",
       "      <td>0.0</td>\n",
       "      <td>0.0</td>\n",
       "      <td>...</td>\n",
       "      <td>0.0</td>\n",
       "      <td>Maham Ofracculy</td>\n",
       "      <td>False</td>\n",
       "      <td>0001</td>\n",
       "      <td>1</td>\n",
       "      <td>B</td>\n",
       "      <td>P</td>\n",
       "      <td>30s</td>\n",
       "      <td>0.0</td>\n",
       "      <td>a</td>\n",
       "    </tr>\n",
       "    <tr>\n",
       "      <th>1</th>\n",
       "      <td>0002_01</td>\n",
       "      <td>Earth</td>\n",
       "      <td>False</td>\n",
       "      <td>F/0/S</td>\n",
       "      <td>TRAPPIST-1e</td>\n",
       "      <td>24.0</td>\n",
       "      <td>False</td>\n",
       "      <td>109.0</td>\n",
       "      <td>9.0</td>\n",
       "      <td>25.0</td>\n",
       "      <td>...</td>\n",
       "      <td>44.0</td>\n",
       "      <td>Juanna Vines</td>\n",
       "      <td>True</td>\n",
       "      <td>0002</td>\n",
       "      <td>1</td>\n",
       "      <td>F</td>\n",
       "      <td>S</td>\n",
       "      <td>20s</td>\n",
       "      <td>736.0</td>\n",
       "      <td>b</td>\n",
       "    </tr>\n",
       "    <tr>\n",
       "      <th>2</th>\n",
       "      <td>0003_01</td>\n",
       "      <td>Europa</td>\n",
       "      <td>False</td>\n",
       "      <td>A/0/S</td>\n",
       "      <td>TRAPPIST-1e</td>\n",
       "      <td>58.0</td>\n",
       "      <td>True</td>\n",
       "      <td>43.0</td>\n",
       "      <td>3576.0</td>\n",
       "      <td>0.0</td>\n",
       "      <td>...</td>\n",
       "      <td>49.0</td>\n",
       "      <td>Altark Susent</td>\n",
       "      <td>False</td>\n",
       "      <td>0003</td>\n",
       "      <td>1</td>\n",
       "      <td>A</td>\n",
       "      <td>S</td>\n",
       "      <td>50s</td>\n",
       "      <td>10383.0</td>\n",
       "      <td>e</td>\n",
       "    </tr>\n",
       "    <tr>\n",
       "      <th>3</th>\n",
       "      <td>0003_02</td>\n",
       "      <td>Europa</td>\n",
       "      <td>False</td>\n",
       "      <td>A/0/S</td>\n",
       "      <td>TRAPPIST-1e</td>\n",
       "      <td>33.0</td>\n",
       "      <td>False</td>\n",
       "      <td>0.0</td>\n",
       "      <td>1283.0</td>\n",
       "      <td>371.0</td>\n",
       "      <td>...</td>\n",
       "      <td>193.0</td>\n",
       "      <td>Solam Susent</td>\n",
       "      <td>False</td>\n",
       "      <td>0003</td>\n",
       "      <td>2</td>\n",
       "      <td>A</td>\n",
       "      <td>S</td>\n",
       "      <td>30s</td>\n",
       "      <td>5176.0</td>\n",
       "      <td>d</td>\n",
       "    </tr>\n",
       "    <tr>\n",
       "      <th>4</th>\n",
       "      <td>0004_01</td>\n",
       "      <td>Earth</td>\n",
       "      <td>False</td>\n",
       "      <td>F/1/S</td>\n",
       "      <td>TRAPPIST-1e</td>\n",
       "      <td>16.0</td>\n",
       "      <td>False</td>\n",
       "      <td>303.0</td>\n",
       "      <td>70.0</td>\n",
       "      <td>151.0</td>\n",
       "      <td>...</td>\n",
       "      <td>2.0</td>\n",
       "      <td>Willy Santantines</td>\n",
       "      <td>True</td>\n",
       "      <td>0004</td>\n",
       "      <td>1</td>\n",
       "      <td>F</td>\n",
       "      <td>S</td>\n",
       "      <td>10s</td>\n",
       "      <td>1091.0</td>\n",
       "      <td>b</td>\n",
       "    </tr>\n",
       "    <tr>\n",
       "      <th>...</th>\n",
       "      <td>...</td>\n",
       "      <td>...</td>\n",
       "      <td>...</td>\n",
       "      <td>...</td>\n",
       "      <td>...</td>\n",
       "      <td>...</td>\n",
       "      <td>...</td>\n",
       "      <td>...</td>\n",
       "      <td>...</td>\n",
       "      <td>...</td>\n",
       "      <td>...</td>\n",
       "      <td>...</td>\n",
       "      <td>...</td>\n",
       "      <td>...</td>\n",
       "      <td>...</td>\n",
       "      <td>...</td>\n",
       "      <td>...</td>\n",
       "      <td>...</td>\n",
       "      <td>...</td>\n",
       "      <td>...</td>\n",
       "      <td>...</td>\n",
       "    </tr>\n",
       "    <tr>\n",
       "      <th>8688</th>\n",
       "      <td>9276_01</td>\n",
       "      <td>Europa</td>\n",
       "      <td>False</td>\n",
       "      <td>A/98/P</td>\n",
       "      <td>55 Cancri e</td>\n",
       "      <td>41.0</td>\n",
       "      <td>True</td>\n",
       "      <td>0.0</td>\n",
       "      <td>6819.0</td>\n",
       "      <td>0.0</td>\n",
       "      <td>...</td>\n",
       "      <td>74.0</td>\n",
       "      <td>Gravior Noxnuther</td>\n",
       "      <td>False</td>\n",
       "      <td>9276</td>\n",
       "      <td>1</td>\n",
       "      <td>A</td>\n",
       "      <td>P</td>\n",
       "      <td>40s</td>\n",
       "      <td>8536.0</td>\n",
       "      <td>d</td>\n",
       "    </tr>\n",
       "    <tr>\n",
       "      <th>8689</th>\n",
       "      <td>9278_01</td>\n",
       "      <td>Earth</td>\n",
       "      <td>True</td>\n",
       "      <td>G/1499/S</td>\n",
       "      <td>PSO J318.5-22</td>\n",
       "      <td>18.0</td>\n",
       "      <td>False</td>\n",
       "      <td>0.0</td>\n",
       "      <td>0.0</td>\n",
       "      <td>0.0</td>\n",
       "      <td>...</td>\n",
       "      <td>0.0</td>\n",
       "      <td>Kurta Mondalley</td>\n",
       "      <td>False</td>\n",
       "      <td>9278</td>\n",
       "      <td>1</td>\n",
       "      <td>G</td>\n",
       "      <td>S</td>\n",
       "      <td>10s</td>\n",
       "      <td>0.0</td>\n",
       "      <td>a</td>\n",
       "    </tr>\n",
       "    <tr>\n",
       "      <th>8690</th>\n",
       "      <td>9279_01</td>\n",
       "      <td>Earth</td>\n",
       "      <td>False</td>\n",
       "      <td>G/1500/S</td>\n",
       "      <td>TRAPPIST-1e</td>\n",
       "      <td>26.0</td>\n",
       "      <td>False</td>\n",
       "      <td>0.0</td>\n",
       "      <td>0.0</td>\n",
       "      <td>1872.0</td>\n",
       "      <td>...</td>\n",
       "      <td>0.0</td>\n",
       "      <td>Fayey Connon</td>\n",
       "      <td>True</td>\n",
       "      <td>9279</td>\n",
       "      <td>1</td>\n",
       "      <td>G</td>\n",
       "      <td>S</td>\n",
       "      <td>20s</td>\n",
       "      <td>1873.0</td>\n",
       "      <td>c</td>\n",
       "    </tr>\n",
       "    <tr>\n",
       "      <th>8691</th>\n",
       "      <td>9280_01</td>\n",
       "      <td>Europa</td>\n",
       "      <td>False</td>\n",
       "      <td>E/608/S</td>\n",
       "      <td>55 Cancri e</td>\n",
       "      <td>32.0</td>\n",
       "      <td>False</td>\n",
       "      <td>0.0</td>\n",
       "      <td>1049.0</td>\n",
       "      <td>0.0</td>\n",
       "      <td>...</td>\n",
       "      <td>3235.0</td>\n",
       "      <td>Celeon Hontichre</td>\n",
       "      <td>False</td>\n",
       "      <td>9280</td>\n",
       "      <td>1</td>\n",
       "      <td>E</td>\n",
       "      <td>S</td>\n",
       "      <td>30s</td>\n",
       "      <td>4637.0</td>\n",
       "      <td>c</td>\n",
       "    </tr>\n",
       "    <tr>\n",
       "      <th>8692</th>\n",
       "      <td>9280_02</td>\n",
       "      <td>Europa</td>\n",
       "      <td>False</td>\n",
       "      <td>E/608/S</td>\n",
       "      <td>TRAPPIST-1e</td>\n",
       "      <td>44.0</td>\n",
       "      <td>False</td>\n",
       "      <td>126.0</td>\n",
       "      <td>4688.0</td>\n",
       "      <td>0.0</td>\n",
       "      <td>...</td>\n",
       "      <td>12.0</td>\n",
       "      <td>Propsh Hontichre</td>\n",
       "      <td>True</td>\n",
       "      <td>9280</td>\n",
       "      <td>2</td>\n",
       "      <td>E</td>\n",
       "      <td>S</td>\n",
       "      <td>40s</td>\n",
       "      <td>4826.0</td>\n",
       "      <td>c</td>\n",
       "    </tr>\n",
       "  </tbody>\n",
       "</table>\n",
       "<p>8693 rows × 21 columns</p>\n",
       "</div>"
      ],
      "text/plain": [
       "     PassengerId HomePlanet  CryoSleep     Cabin    Destination   Age    VIP  \\\n",
       "0        0001_01     Europa      False     B/0/P    TRAPPIST-1e  39.0  False   \n",
       "1        0002_01      Earth      False     F/0/S    TRAPPIST-1e  24.0  False   \n",
       "2        0003_01     Europa      False     A/0/S    TRAPPIST-1e  58.0   True   \n",
       "3        0003_02     Europa      False     A/0/S    TRAPPIST-1e  33.0  False   \n",
       "4        0004_01      Earth      False     F/1/S    TRAPPIST-1e  16.0  False   \n",
       "...          ...        ...        ...       ...            ...   ...    ...   \n",
       "8688     9276_01     Europa      False    A/98/P    55 Cancri e  41.0   True   \n",
       "8689     9278_01      Earth       True  G/1499/S  PSO J318.5-22  18.0  False   \n",
       "8690     9279_01      Earth      False  G/1500/S    TRAPPIST-1e  26.0  False   \n",
       "8691     9280_01     Europa      False   E/608/S    55 Cancri e  32.0  False   \n",
       "8692     9280_02     Europa      False   E/608/S    TRAPPIST-1e  44.0  False   \n",
       "\n",
       "      RoomService  FoodCourt  ShoppingMall  ...  VRDeck               Name  \\\n",
       "0             0.0        0.0           0.0  ...     0.0    Maham Ofracculy   \n",
       "1           109.0        9.0          25.0  ...    44.0       Juanna Vines   \n",
       "2            43.0     3576.0           0.0  ...    49.0      Altark Susent   \n",
       "3             0.0     1283.0         371.0  ...   193.0       Solam Susent   \n",
       "4           303.0       70.0         151.0  ...     2.0  Willy Santantines   \n",
       "...           ...        ...           ...  ...     ...                ...   \n",
       "8688          0.0     6819.0           0.0  ...    74.0  Gravior Noxnuther   \n",
       "8689          0.0        0.0           0.0  ...     0.0    Kurta Mondalley   \n",
       "8690          0.0        0.0        1872.0  ...     0.0       Fayey Connon   \n",
       "8691          0.0     1049.0           0.0  ...  3235.0   Celeon Hontichre   \n",
       "8692        126.0     4688.0           0.0  ...    12.0   Propsh Hontichre   \n",
       "\n",
       "     Transported  Group GroupSize  Front Back AgeCat TotalSpent  ToCat  \n",
       "0          False   0001         1      B    P    30s        0.0      a  \n",
       "1           True   0002         1      F    S    20s      736.0      b  \n",
       "2          False   0003         1      A    S    50s    10383.0      e  \n",
       "3          False   0003         2      A    S    30s     5176.0      d  \n",
       "4           True   0004         1      F    S    10s     1091.0      b  \n",
       "...          ...    ...       ...    ...  ...    ...        ...    ...  \n",
       "8688       False   9276         1      A    P    40s     8536.0      d  \n",
       "8689       False   9278         1      G    S    10s        0.0      a  \n",
       "8690        True   9279         1      G    S    20s     1873.0      c  \n",
       "8691       False   9280         1      E    S    30s     4637.0      c  \n",
       "8692        True   9280         2      E    S    40s     4826.0      c  \n",
       "\n",
       "[8693 rows x 21 columns]"
      ]
     },
     "execution_count": 497,
     "metadata": {},
     "output_type": "execute_result"
    }
   ],
   "source": [
    "X_train"
   ]
  },
  {
   "cell_type": "code",
   "execution_count": 498,
   "id": "7a5c9b7f",
   "metadata": {},
   "outputs": [
    {
     "data": {
      "text/html": [
       "<div>\n",
       "<style scoped>\n",
       "    .dataframe tbody tr th:only-of-type {\n",
       "        vertical-align: middle;\n",
       "    }\n",
       "\n",
       "    .dataframe tbody tr th {\n",
       "        vertical-align: top;\n",
       "    }\n",
       "\n",
       "    .dataframe thead th {\n",
       "        text-align: right;\n",
       "    }\n",
       "</style>\n",
       "<table border=\"1\" class=\"dataframe\">\n",
       "  <thead>\n",
       "    <tr style=\"text-align: right;\">\n",
       "      <th></th>\n",
       "      <th>CryoSleep</th>\n",
       "      <th>Age</th>\n",
       "      <th>VIP</th>\n",
       "      <th>RoomService</th>\n",
       "      <th>FoodCourt</th>\n",
       "      <th>ShoppingMall</th>\n",
       "      <th>Spa</th>\n",
       "      <th>VRDeck</th>\n",
       "      <th>Transported</th>\n",
       "      <th>GroupSize</th>\n",
       "      <th>TotalSpent</th>\n",
       "    </tr>\n",
       "  </thead>\n",
       "  <tbody>\n",
       "    <tr>\n",
       "      <th>CryoSleep</th>\n",
       "      <td>1.000000</td>\n",
       "      <td>-0.070736</td>\n",
       "      <td>-0.078281</td>\n",
       "      <td>-0.243986</td>\n",
       "      <td>-0.205682</td>\n",
       "      <td>-0.206366</td>\n",
       "      <td>-0.198392</td>\n",
       "      <td>-0.193107</td>\n",
       "      <td>0.460132</td>\n",
       "      <td>0.063291</td>\n",
       "      <td>-0.376500</td>\n",
       "    </tr>\n",
       "    <tr>\n",
       "      <th>Age</th>\n",
       "      <td>-0.070736</td>\n",
       "      <td>1.000000</td>\n",
       "      <td>0.091574</td>\n",
       "      <td>0.067612</td>\n",
       "      <td>0.127937</td>\n",
       "      <td>0.032655</td>\n",
       "      <td>0.120992</td>\n",
       "      <td>0.099210</td>\n",
       "      <td>-0.074249</td>\n",
       "      <td>-0.131425</td>\n",
       "      <td>0.184509</td>\n",
       "    </tr>\n",
       "    <tr>\n",
       "      <th>VIP</th>\n",
       "      <td>-0.078281</td>\n",
       "      <td>0.091574</td>\n",
       "      <td>1.000000</td>\n",
       "      <td>0.056595</td>\n",
       "      <td>0.126006</td>\n",
       "      <td>0.018483</td>\n",
       "      <td>0.060573</td>\n",
       "      <td>0.123092</td>\n",
       "      <td>-0.037261</td>\n",
       "      <td>0.000703</td>\n",
       "      <td>0.163187</td>\n",
       "    </tr>\n",
       "    <tr>\n",
       "      <th>RoomService</th>\n",
       "      <td>-0.243986</td>\n",
       "      <td>0.067612</td>\n",
       "      <td>0.056595</td>\n",
       "      <td>1.000000</td>\n",
       "      <td>-0.015521</td>\n",
       "      <td>0.052962</td>\n",
       "      <td>0.009925</td>\n",
       "      <td>-0.019207</td>\n",
       "      <td>-0.242048</td>\n",
       "      <td>-0.022360</td>\n",
       "      <td>0.234303</td>\n",
       "    </tr>\n",
       "    <tr>\n",
       "      <th>FoodCourt</th>\n",
       "      <td>-0.205682</td>\n",
       "      <td>0.127937</td>\n",
       "      <td>0.126006</td>\n",
       "      <td>-0.015521</td>\n",
       "      <td>1.000000</td>\n",
       "      <td>-0.013934</td>\n",
       "      <td>0.220587</td>\n",
       "      <td>0.224275</td>\n",
       "      <td>0.046074</td>\n",
       "      <td>0.023136</td>\n",
       "      <td>0.742208</td>\n",
       "    </tr>\n",
       "    <tr>\n",
       "      <th>ShoppingMall</th>\n",
       "      <td>-0.206366</td>\n",
       "      <td>0.032655</td>\n",
       "      <td>0.018483</td>\n",
       "      <td>0.052962</td>\n",
       "      <td>-0.013934</td>\n",
       "      <td>1.000000</td>\n",
       "      <td>0.013678</td>\n",
       "      <td>-0.007189</td>\n",
       "      <td>0.010019</td>\n",
       "      <td>-0.038388</td>\n",
       "      <td>0.220498</td>\n",
       "    </tr>\n",
       "    <tr>\n",
       "      <th>Spa</th>\n",
       "      <td>-0.198392</td>\n",
       "      <td>0.120992</td>\n",
       "      <td>0.060573</td>\n",
       "      <td>0.009925</td>\n",
       "      <td>0.220587</td>\n",
       "      <td>0.013678</td>\n",
       "      <td>1.000000</td>\n",
       "      <td>0.147957</td>\n",
       "      <td>-0.218791</td>\n",
       "      <td>0.016637</td>\n",
       "      <td>0.592439</td>\n",
       "    </tr>\n",
       "    <tr>\n",
       "      <th>VRDeck</th>\n",
       "      <td>-0.193107</td>\n",
       "      <td>0.099210</td>\n",
       "      <td>0.123092</td>\n",
       "      <td>-0.019207</td>\n",
       "      <td>0.224275</td>\n",
       "      <td>-0.007189</td>\n",
       "      <td>0.147957</td>\n",
       "      <td>1.000000</td>\n",
       "      <td>-0.204825</td>\n",
       "      <td>0.009948</td>\n",
       "      <td>0.585835</td>\n",
       "    </tr>\n",
       "    <tr>\n",
       "      <th>Transported</th>\n",
       "      <td>0.460132</td>\n",
       "      <td>-0.074249</td>\n",
       "      <td>-0.037261</td>\n",
       "      <td>-0.242048</td>\n",
       "      <td>0.046074</td>\n",
       "      <td>0.010019</td>\n",
       "      <td>-0.218791</td>\n",
       "      <td>-0.204825</td>\n",
       "      <td>1.000000</td>\n",
       "      <td>0.066390</td>\n",
       "      <td>-0.199445</td>\n",
       "    </tr>\n",
       "    <tr>\n",
       "      <th>GroupSize</th>\n",
       "      <td>0.063291</td>\n",
       "      <td>-0.131425</td>\n",
       "      <td>0.000703</td>\n",
       "      <td>-0.022360</td>\n",
       "      <td>0.023136</td>\n",
       "      <td>-0.038388</td>\n",
       "      <td>0.016637</td>\n",
       "      <td>0.009948</td>\n",
       "      <td>0.066390</td>\n",
       "      <td>1.000000</td>\n",
       "      <td>0.010424</td>\n",
       "    </tr>\n",
       "    <tr>\n",
       "      <th>TotalSpent</th>\n",
       "      <td>-0.376500</td>\n",
       "      <td>0.184509</td>\n",
       "      <td>0.163187</td>\n",
       "      <td>0.234303</td>\n",
       "      <td>0.742208</td>\n",
       "      <td>0.220498</td>\n",
       "      <td>0.592439</td>\n",
       "      <td>0.585835</td>\n",
       "      <td>-0.199445</td>\n",
       "      <td>0.010424</td>\n",
       "      <td>1.000000</td>\n",
       "    </tr>\n",
       "  </tbody>\n",
       "</table>\n",
       "</div>"
      ],
      "text/plain": [
       "              CryoSleep       Age       VIP  RoomService  FoodCourt  \\\n",
       "CryoSleep      1.000000 -0.070736 -0.078281    -0.243986  -0.205682   \n",
       "Age           -0.070736  1.000000  0.091574     0.067612   0.127937   \n",
       "VIP           -0.078281  0.091574  1.000000     0.056595   0.126006   \n",
       "RoomService   -0.243986  0.067612  0.056595     1.000000  -0.015521   \n",
       "FoodCourt     -0.205682  0.127937  0.126006    -0.015521   1.000000   \n",
       "ShoppingMall  -0.206366  0.032655  0.018483     0.052962  -0.013934   \n",
       "Spa           -0.198392  0.120992  0.060573     0.009925   0.220587   \n",
       "VRDeck        -0.193107  0.099210  0.123092    -0.019207   0.224275   \n",
       "Transported    0.460132 -0.074249 -0.037261    -0.242048   0.046074   \n",
       "GroupSize      0.063291 -0.131425  0.000703    -0.022360   0.023136   \n",
       "TotalSpent    -0.376500  0.184509  0.163187     0.234303   0.742208   \n",
       "\n",
       "              ShoppingMall       Spa    VRDeck  Transported  GroupSize  \\\n",
       "CryoSleep        -0.206366 -0.198392 -0.193107     0.460132   0.063291   \n",
       "Age               0.032655  0.120992  0.099210    -0.074249  -0.131425   \n",
       "VIP               0.018483  0.060573  0.123092    -0.037261   0.000703   \n",
       "RoomService       0.052962  0.009925 -0.019207    -0.242048  -0.022360   \n",
       "FoodCourt        -0.013934  0.220587  0.224275     0.046074   0.023136   \n",
       "ShoppingMall      1.000000  0.013678 -0.007189     0.010019  -0.038388   \n",
       "Spa               0.013678  1.000000  0.147957    -0.218791   0.016637   \n",
       "VRDeck           -0.007189  0.147957  1.000000    -0.204825   0.009948   \n",
       "Transported       0.010019 -0.218791 -0.204825     1.000000   0.066390   \n",
       "GroupSize        -0.038388  0.016637  0.009948     0.066390   1.000000   \n",
       "TotalSpent        0.220498  0.592439  0.585835    -0.199445   0.010424   \n",
       "\n",
       "              TotalSpent  \n",
       "CryoSleep      -0.376500  \n",
       "Age             0.184509  \n",
       "VIP             0.163187  \n",
       "RoomService     0.234303  \n",
       "FoodCourt       0.742208  \n",
       "ShoppingMall    0.220498  \n",
       "Spa             0.592439  \n",
       "VRDeck          0.585835  \n",
       "Transported    -0.199445  \n",
       "GroupSize       0.010424  \n",
       "TotalSpent      1.000000  "
      ]
     },
     "execution_count": 498,
     "metadata": {},
     "output_type": "execute_result"
    }
   ],
   "source": [
    "X_train.corr()"
   ]
  },
  {
   "cell_type": "markdown",
   "id": "8af0c73a",
   "metadata": {},
   "source": [
    "##  데이터 탐색"
   ]
  },
  {
   "cell_type": "code",
   "execution_count": 499,
   "id": "d6260739",
   "metadata": {
    "scrolled": true
   },
   "outputs": [
    {
     "data": {
      "text/plain": [
       "Index(['PassengerId', 'HomePlanet', 'CryoSleep', 'Cabin', 'Destination', 'Age',\n",
       "       'VIP', 'RoomService', 'FoodCourt', 'ShoppingMall', 'Spa', 'VRDeck',\n",
       "       'Name', 'Transported', 'Group', 'GroupSize', 'Front', 'Back', 'AgeCat',\n",
       "       'TotalSpent', 'ToCat'],\n",
       "      dtype='object')"
      ]
     },
     "execution_count": 499,
     "metadata": {},
     "output_type": "execute_result"
    }
   ],
   "source": [
    "X_train.columns"
   ]
  },
  {
   "cell_type": "markdown",
   "id": "9c7175c4",
   "metadata": {},
   "source": [
    "**생존률에 따른 그래프**"
   ]
  },
  {
   "cell_type": "code",
   "execution_count": 500,
   "id": "b1514569",
   "metadata": {
    "scrolled": true
   },
   "outputs": [
    {
     "data": {
      "text/plain": [
       "<AxesSubplot:xlabel='ToCat', ylabel='Transported'>"
      ]
     },
     "execution_count": 500,
     "metadata": {},
     "output_type": "execute_result"
    },
    {
     "data": {
      "image/png": "[encoded data removed]",
      "text/plain": [
       "<Figure size 1500x900 with 9 Axes>"
      ]
     },
     "metadata": {},
     "output_type": "display_data"
    }
   ],
   "source": [
    "figure, axes = plt.subplots(nrows=3, ncols=3)\n",
    "plt.tight_layout()\n",
    "figure.set_size_inches(15, 9)\n",
    "sns.barplot(data=X_train,x='HomePlanet',y='Transported',ax=axes[0][0])\n",
    "sns.barplot(data=X_train,x='CryoSleep',y='Transported',ax=axes[0][1])\n",
    "sns.barplot(data=X_train,x='Destination',y='Transported',ax=axes[0][2])\n",
    "sns.barplot(data=X_train,x='AgeCat',y='Transported',ax=axes[1][0])\n",
    "sns.barplot(data=X_train,x='VIP',y='Transported',ax=axes[1][1])\n",
    "sns.barplot(data=X_train,x='GroupSize',y='Transported',ax=axes[1][2])\n",
    "sns.barplot(data=X_train,x='Front',y='Transported',ax=axes[2][0])\n",
    "sns.barplot(data=X_train,x='Back',y='Transported',ax=axes[2][1])\n",
    "sns.barplot(data=X_train,x='ToCat',y='Transported',ax=axes[2][2])\n"
   ]
  },
  {
   "cell_type": "code",
   "execution_count": 574,
   "id": "6cb53253",
   "metadata": {},
   "outputs": [
    {
     "ename": "NameError",
     "evalue": "name 'ST_train' is not defined",
     "output_type": "error",
     "traceback": [
      "\u001b[1;31m---------------------------------------------------------------------------\u001b[0m",
      "\u001b[1;31mNameError\u001b[0m                                 Traceback (most recent call last)",
      "Cell \u001b[1;32mIn [574], line 1\u001b[0m\n\u001b[1;32m----> 1\u001b[0m sns\u001b[38;5;241m.\u001b[39mhistplot(data\u001b[38;5;241m=\u001b[39m\u001b[43mST_train\u001b[49m, x\u001b[38;5;241m=\u001b[39m\u001b[38;5;124m'\u001b[39m\u001b[38;5;124mAge\u001b[39m\u001b[38;5;124m'\u001b[39m, hue\u001b[38;5;241m=\u001b[39m\u001b[38;5;124m'\u001b[39m\u001b[38;5;124mTransported\u001b[39m\u001b[38;5;124m'\u001b[39m, multiple\u001b[38;5;241m=\u001b[39m\u001b[38;5;124m'\u001b[39m\u001b[38;5;124mstack\u001b[39m\u001b[38;5;124m'\u001b[39m, kde\u001b[38;5;241m=\u001b[39m\u001b[38;5;28;01mTrue\u001b[39;00m)\n",
      "\u001b[1;31mNameError\u001b[0m: name 'ST_train' is not defined"
     ]
    }
   ],
   "source": [
    "sns.histplot(data=ST_train, x='Age', hue='Transported', multiple='stack', kde=True)"
   ]
  },
  {
   "cell_type": "code",
   "execution_count": 501,
   "id": "a1e1c80e",
   "metadata": {},
   "outputs": [
    {
     "data": {
      "image/png": "[encoded data removed]",
      "text/plain": [
       "<Figure size 1600x1000 with 9 Axes>"
      ]
     },
     "metadata": {},
     "output_type": "display_data"
    }
   ],
   "source": [
    "icd_lb_list=['HomePlanet','CryoSleep','Destination','AgeCat','VIP','GroupSize','Front','Back','ToCat']\n",
    "fig, axes = plt.subplots(3, 3, figsize=(16, 10))\n",
    "for i, ax in zip(icd_lb_list, axes.flat):\n",
    "    sns.countplot(data=X_train,x=i, ax=ax,hue='Transported')\n",
    "plt.show()"
   ]
  },
  {
   "cell_type": "code",
   "execution_count": 502,
   "id": "f6803e61",
   "metadata": {},
   "outputs": [
    {
     "data": {
      "text/plain": [
       "ToCat  VIP  \n",
       "a      False    0.705419\n",
       "       True     0.896552\n",
       "b      False    0.295518\n",
       "       True     0.161290\n",
       "c      False    0.300824\n",
       "       True     0.316456\n",
       "d      False    0.326923\n",
       "       True     0.342105\n",
       "e      False    0.325926\n",
       "       True     0.277778\n",
       "f      False    0.185185\n",
       "       True     0.500000\n",
       "Name: Transported, dtype: float64"
      ]
     },
     "execution_count": 502,
     "metadata": {},
     "output_type": "execute_result"
    }
   ],
   "source": [
    "X_train.groupby(['ToCat','VIP']).mean()['Transported']"
   ]
  },
  {
   "cell_type": "code",
   "execution_count": 503,
   "id": "34af4344",
   "metadata": {},
   "outputs": [
    {
     "data": {
      "text/plain": [
       "Front  VIP  \n",
       "A      False    0.520362\n",
       "       True     0.342857\n",
       "B      False    0.746269\n",
       "       True     0.523810\n",
       "C      False    0.682720\n",
       "       True     0.634146\n",
       "D      False    0.449664\n",
       "       True     0.193548\n",
       "E      False    0.358885\n",
       "       True     0.266667\n",
       "F      False    0.447262\n",
       "       True     0.171429\n",
       "G      False    0.516217\n",
       "T      False    0.200000\n",
       "Name: Transported, dtype: float64"
      ]
     },
     "execution_count": 503,
     "metadata": {},
     "output_type": "execute_result"
    }
   ],
   "source": [
    "X_train.groupby(['Front','VIP']).mean()['Transported']"
   ]
  },
  {
   "cell_type": "code",
   "execution_count": 504,
   "id": "716b3831",
   "metadata": {},
   "outputs": [
    {
     "data": {
      "text/plain": [
       "B    42\n",
       "C    41\n",
       "A    35\n",
       "F    35\n",
       "D    31\n",
       "E    15\n",
       "Name: Front, dtype: int64"
      ]
     },
     "execution_count": 504,
     "metadata": {},
     "output_type": "execute_result"
    }
   ],
   "source": [
    "X_train[X_train['VIP']==True]['Front'].value_counts()"
   ]
  },
  {
   "cell_type": "code",
   "execution_count": 505,
   "id": "4f395ed0",
   "metadata": {},
   "outputs": [
    {
     "data": {
      "text/plain": [
       "F    2958\n",
       "G    2559\n",
       "E     861\n",
       "B     737\n",
       "C     706\n",
       "D     447\n",
       "A     221\n",
       "T       5\n",
       "Name: Front, dtype: int64"
      ]
     },
     "execution_count": 505,
     "metadata": {},
     "output_type": "execute_result"
    }
   ],
   "source": [
    "X_train[X_train['VIP']==False]['Front'].value_counts()"
   ]
  },
  {
   "cell_type": "code",
   "execution_count": 506,
   "id": "ef22c145",
   "metadata": {
    "scrolled": true
   },
   "outputs": [
    {
     "data": {
      "text/plain": [
       "<AxesSubplot:>"
      ]
     },
     "execution_count": 506,
     "metadata": {},
     "output_type": "execute_result"
    },
    {
     "data": {
      "image/png": "[encoded data removed]",
      "text/plain": [
       "<Figure size 640x480 with 2 Axes>"
      ]
     },
     "metadata": {},
     "output_type": "display_data"
    }
   ],
   "source": [
    "sns.heatmap(X_train.corr(),cmap='plasma',annot=True)"
   ]
  },
  {
   "cell_type": "markdown",
   "id": "39f1c3f7",
   "metadata": {},
   "source": [
    "## 나만의 변환기 만들기 "
   ]
  },
  {
   "cell_type": "code",
   "execution_count": 507,
   "id": "6ff31ba4",
   "metadata": {},
   "outputs": [],
   "source": [
    "#결측기 채울시\n",
    "from sklearn.impute import SimpleImputer\n",
    "from sklearn.preprocessing import OrdinalEncoder\n",
    "from sklearn.preprocessing import LabelEncoder\n",
    "from sklearn.preprocessing import OneHotEncoder\n",
    "from sklearn.preprocessing import MinMaxScaler\n",
    "from sklearn.preprocessing import StandardScaler\n",
    "from sklearn.preprocessing import FunctionTransformer\n",
    "from sklearn.pipeline import Pipeline \n",
    "from sklearn.base import BaseEstimator, TransformerMixin\n",
    "from sklearn.compose import ColumnTransformer"
   ]
  },
  {
   "cell_type": "code",
   "execution_count": 508,
   "id": "193e23f5",
   "metadata": {},
   "outputs": [],
   "source": [
    "X=pd.read_csv('./spaceship-titanic/train.csv')"
   ]
  },
  {
   "cell_type": "code",
   "execution_count": 509,
   "id": "d67ecf3b",
   "metadata": {},
   "outputs": [],
   "source": [
    "def prepro(X):\n",
    "    a=cabin_split(X)\n",
    "    b=pass_split(X)\n",
    "    c=pd.concat([X,a,b],axis=1)\n",
    "    d=fillna_s(c,split_numeric(c))\n",
    "    d.GroupSize=d.GroupSize.astype('float')\n",
    "    d['total']=d.RoomService+d.FoodCourt+d.ShoppingMall+d.Spa+d.VRDeck\n",
    "    droplist=['PassengerId','Cabin','Name','Group']\n",
    "    d.drop(droplist,axis=1,inplace=True)\n",
    "    return d"
   ]
  },
  {
   "cell_type": "code",
   "execution_count": 510,
   "id": "a7d769e6",
   "metadata": {
    "scrolled": true
   },
   "outputs": [],
   "source": [
    "def split_numeric(X):\n",
    "    numeric_list=[]\n",
    "    not_numeric_list=[]\n",
    "    nu_notnu=[]\n",
    "    for i,v in enumerate(X.dtypes):\n",
    "        if v=='int32' or v== 'float':\n",
    "            numeric_list.append(X.columns[i])\n",
    "        else:\n",
    "            not_numeric_list.append(X.columns[i])\n",
    "    nu_notnu.append(numeric_list)\n",
    "    nu_notnu.append(not_numeric_list)\n",
    "    return nu_notnu \n",
    "\n",
    "# SimpleImputer를 결측값을 대체(옵션3) 할 수 있음\n",
    "from sklearn.impute import SimpleImputer\n",
    "\n",
    "def fillna_s(X,nu_notnu):\n",
    "    imputer = SimpleImputer(missing_values=np.nan,strategy='median') # 변환기 객체 생성\n",
    "    npa1=imputer.fit_transform(X[nu_notnu[0]]) # 변환할 준비 : 중앙값을 구함\n",
    "    time.sleep(1)\n",
    "    imputer = SimpleImputer(missing_values=np.nan,strategy='most_frequent') # 변환기 객체 생성\n",
    "    npa2=imputer.fit_transform(X[nu_notnu[1]]) #변환기 객체\n",
    "    c=pd.concat([pd.DataFrame(npa1,columns=nu_notnu[0]),pd.DataFrame(npa2,columns=nu_notnu[1])],axis=1)\n",
    "    c=c[X.columns]\n",
    "    return c\n",
    "\n",
    "#함수로 캐빈 , 패신저 아이디 쪼개기 \n",
    "def cabin_split(X):\n",
    "    X.Cabin=X.Cabin.fillna('XXX')\n",
    "    df1=X.Cabin.apply(lambda x: x[-1])\n",
    "    df2=X.Cabin.apply(lambda x: x[0])  \n",
    "    df3=pd.concat([df2,df1],axis=1)\n",
    "    df3.columns=['Front','Back']\n",
    "    df3.replace('X',np.nan,inplace=True)\n",
    "    return df3\n",
    "\n",
    "def pass_split(X):\n",
    "    df1=X['PassengerId'].apply(lambda x: x.split(\"_\")[0])\n",
    "    df2=X['PassengerId'].apply(lambda x: int(x.split(\"_\")[1]))\n",
    "    df3=pd.concat([df1,df2],axis=1)\n",
    "    df3.columns=['Group','GroupSize']\n",
    "    return df3\n",
    "\n",
    "def orencode(X):\n",
    "    c_list=split_numeric(X)[1] \n",
    "    ordinal_encoder = OrdinalEncoder()\n",
    "    X_or=ordinal_encoder.fit_transform(X[c_list])\n",
    "    columns=ordinal_encoder.get_feature_names_out().copy()\n",
    "    df=pd.DataFrame(X_or,columns=columns)\n",
    "    k=X.copy()\n",
    "    k[df.columns]=df[df.columns]\n",
    "    return k\n",
    "\n",
    "def onencode(X) : \n",
    "    a=pd.DataFrame()\n",
    "    c=split_numeric(X)[1]\n",
    "    a=X.drop(c,axis=1)\n",
    "    o_list=[]\n",
    "    for i in c :\n",
    "        onehot_encoder = OneHotEncoder(sparse=False)\n",
    "        t=onehot_encoder.fit_transform(X[[i]])\n",
    "        columns=onehot_encoder.get_feature_names_out().copy()\n",
    "        b=pd.DataFrame(t,columns=columns)\n",
    "        a=pd.concat([a,b],axis=1)\n",
    "    #o_list.append(a.columns)\n",
    "    return a#a[o_list[0]]\n",
    "\n",
    "def std(X):\n",
    "    a=split_numeric(X)[0]\n",
    "    std_scaler = StandardScaler()\n",
    "    X_or=std_scaler.fit_transform(X[a])\n",
    "    df= pd.DataFrame(X_or,columns=a)\n",
    "    k=X.copy()\n",
    "    k[df.columns]=df[df.columns]\n",
    "    return k\n",
    "\n",
    "def minmax(X):\n",
    "    a=split_numeric(X)[0]\n",
    "    min_max_scaler = MinMaxScaler(feature_range=(0, 1)) # feature_range=(0, 1)가 기본값, 변경 가능\n",
    "    X_or = min_max_scaler.fit_transform(X[a])\n",
    "    df= pd.DataFrame(X_or,columns=a)\n",
    "    k=X.copy()\n",
    "    k[df.columns]=df[df.columns]\n",
    "    return k\n",
    "\n"
   ]
  },
  {
   "cell_type": "code",
   "execution_count": 511,
   "id": "0dab7b74",
   "metadata": {},
   "outputs": [
    {
     "data": {
      "text/html": [
       "<div>\n",
       "<style scoped>\n",
       "    .dataframe tbody tr th:only-of-type {\n",
       "        vertical-align: middle;\n",
       "    }\n",
       "\n",
       "    .dataframe tbody tr th {\n",
       "        vertical-align: top;\n",
       "    }\n",
       "\n",
       "    .dataframe thead th {\n",
       "        text-align: right;\n",
       "    }\n",
       "</style>\n",
       "<table border=\"1\" class=\"dataframe\">\n",
       "  <thead>\n",
       "    <tr style=\"text-align: right;\">\n",
       "      <th></th>\n",
       "      <th>Front</th>\n",
       "      <th>Back</th>\n",
       "    </tr>\n",
       "  </thead>\n",
       "  <tbody>\n",
       "    <tr>\n",
       "      <th>0</th>\n",
       "      <td>B</td>\n",
       "      <td>P</td>\n",
       "    </tr>\n",
       "    <tr>\n",
       "      <th>1</th>\n",
       "      <td>F</td>\n",
       "      <td>S</td>\n",
       "    </tr>\n",
       "    <tr>\n",
       "      <th>2</th>\n",
       "      <td>A</td>\n",
       "      <td>S</td>\n",
       "    </tr>\n",
       "    <tr>\n",
       "      <th>3</th>\n",
       "      <td>A</td>\n",
       "      <td>S</td>\n",
       "    </tr>\n",
       "    <tr>\n",
       "      <th>4</th>\n",
       "      <td>F</td>\n",
       "      <td>S</td>\n",
       "    </tr>\n",
       "    <tr>\n",
       "      <th>...</th>\n",
       "      <td>...</td>\n",
       "      <td>...</td>\n",
       "    </tr>\n",
       "    <tr>\n",
       "      <th>8688</th>\n",
       "      <td>A</td>\n",
       "      <td>P</td>\n",
       "    </tr>\n",
       "    <tr>\n",
       "      <th>8689</th>\n",
       "      <td>G</td>\n",
       "      <td>S</td>\n",
       "    </tr>\n",
       "    <tr>\n",
       "      <th>8690</th>\n",
       "      <td>G</td>\n",
       "      <td>S</td>\n",
       "    </tr>\n",
       "    <tr>\n",
       "      <th>8691</th>\n",
       "      <td>E</td>\n",
       "      <td>S</td>\n",
       "    </tr>\n",
       "    <tr>\n",
       "      <th>8692</th>\n",
       "      <td>E</td>\n",
       "      <td>S</td>\n",
       "    </tr>\n",
       "  </tbody>\n",
       "</table>\n",
       "<p>8693 rows × 2 columns</p>\n",
       "</div>"
      ],
      "text/plain": [
       "     Front Back\n",
       "0        B    P\n",
       "1        F    S\n",
       "2        A    S\n",
       "3        A    S\n",
       "4        F    S\n",
       "...    ...  ...\n",
       "8688     A    P\n",
       "8689     G    S\n",
       "8690     G    S\n",
       "8691     E    S\n",
       "8692     E    S\n",
       "\n",
       "[8693 rows x 2 columns]"
      ]
     },
     "execution_count": 511,
     "metadata": {},
     "output_type": "execute_result"
    }
   ],
   "source": [
    "cabin_split(X)"
   ]
  },
  {
   "cell_type": "code",
   "execution_count": 512,
   "id": "156fa7ed",
   "metadata": {
    "scrolled": true
   },
   "outputs": [],
   "source": [
    "X_train, y_train= X,X.Transported\n",
    "a=cabin_split(X)\n",
    "b=pass_split(X)\n",
    "c=pd.concat([X,a,b],axis=1)\n",
    "\n",
    "d=fillna_s(c,split_numeric(c))\n",
    "d.GroupSize=d.GroupSize.astype('float')\n",
    "\n",
    "d['total']=d.RoomService+d.FoodCourt+d.ShoppingMall+d.Spa+d.VRDeck\n",
    "droplist=['PassengerId','Cabin','Name','Transported','Group']\n",
    "d.drop(droplist,axis=1,inplace=True)"
   ]
  },
  {
   "cell_type": "code",
   "execution_count": 513,
   "id": "f6a6bbab",
   "metadata": {
    "scrolled": false
   },
   "outputs": [
    {
     "data": {
      "text/html": [
       "<div>\n",
       "<style scoped>\n",
       "    .dataframe tbody tr th:only-of-type {\n",
       "        vertical-align: middle;\n",
       "    }\n",
       "\n",
       "    .dataframe tbody tr th {\n",
       "        vertical-align: top;\n",
       "    }\n",
       "\n",
       "    .dataframe thead th {\n",
       "        text-align: right;\n",
       "    }\n",
       "</style>\n",
       "<table border=\"1\" class=\"dataframe\">\n",
       "  <thead>\n",
       "    <tr style=\"text-align: right;\">\n",
       "      <th></th>\n",
       "      <th>HomePlanet</th>\n",
       "      <th>CryoSleep</th>\n",
       "      <th>Destination</th>\n",
       "      <th>Age</th>\n",
       "      <th>VIP</th>\n",
       "      <th>RoomService</th>\n",
       "      <th>FoodCourt</th>\n",
       "      <th>ShoppingMall</th>\n",
       "      <th>Spa</th>\n",
       "      <th>VRDeck</th>\n",
       "      <th>Front</th>\n",
       "      <th>Back</th>\n",
       "      <th>GroupSize</th>\n",
       "      <th>total</th>\n",
       "    </tr>\n",
       "  </thead>\n",
       "  <tbody>\n",
       "    <tr>\n",
       "      <th>0</th>\n",
       "      <td>Europa</td>\n",
       "      <td>False</td>\n",
       "      <td>TRAPPIST-1e</td>\n",
       "      <td>0.493671</td>\n",
       "      <td>False</td>\n",
       "      <td>0.000000</td>\n",
       "      <td>0.000000</td>\n",
       "      <td>0.000000</td>\n",
       "      <td>0.000000</td>\n",
       "      <td>0.000000</td>\n",
       "      <td>B</td>\n",
       "      <td>P</td>\n",
       "      <td>0.000000</td>\n",
       "      <td>0.000000</td>\n",
       "    </tr>\n",
       "    <tr>\n",
       "      <th>1</th>\n",
       "      <td>Earth</td>\n",
       "      <td>False</td>\n",
       "      <td>TRAPPIST-1e</td>\n",
       "      <td>0.303797</td>\n",
       "      <td>False</td>\n",
       "      <td>0.007608</td>\n",
       "      <td>0.000302</td>\n",
       "      <td>0.001064</td>\n",
       "      <td>0.024500</td>\n",
       "      <td>0.001823</td>\n",
       "      <td>F</td>\n",
       "      <td>S</td>\n",
       "      <td>0.000000</td>\n",
       "      <td>0.020452</td>\n",
       "    </tr>\n",
       "    <tr>\n",
       "      <th>2</th>\n",
       "      <td>Europa</td>\n",
       "      <td>False</td>\n",
       "      <td>TRAPPIST-1e</td>\n",
       "      <td>0.734177</td>\n",
       "      <td>True</td>\n",
       "      <td>0.003001</td>\n",
       "      <td>0.119948</td>\n",
       "      <td>0.000000</td>\n",
       "      <td>0.299670</td>\n",
       "      <td>0.002030</td>\n",
       "      <td>A</td>\n",
       "      <td>S</td>\n",
       "      <td>0.000000</td>\n",
       "      <td>0.288521</td>\n",
       "    </tr>\n",
       "    <tr>\n",
       "      <th>3</th>\n",
       "      <td>Europa</td>\n",
       "      <td>False</td>\n",
       "      <td>TRAPPIST-1e</td>\n",
       "      <td>0.417722</td>\n",
       "      <td>False</td>\n",
       "      <td>0.000000</td>\n",
       "      <td>0.043035</td>\n",
       "      <td>0.015793</td>\n",
       "      <td>0.148563</td>\n",
       "      <td>0.007997</td>\n",
       "      <td>A</td>\n",
       "      <td>S</td>\n",
       "      <td>0.142857</td>\n",
       "      <td>0.143830</td>\n",
       "    </tr>\n",
       "    <tr>\n",
       "      <th>4</th>\n",
       "      <td>Earth</td>\n",
       "      <td>False</td>\n",
       "      <td>TRAPPIST-1e</td>\n",
       "      <td>0.202532</td>\n",
       "      <td>False</td>\n",
       "      <td>0.021149</td>\n",
       "      <td>0.002348</td>\n",
       "      <td>0.006428</td>\n",
       "      <td>0.025214</td>\n",
       "      <td>0.000083</td>\n",
       "      <td>F</td>\n",
       "      <td>S</td>\n",
       "      <td>0.000000</td>\n",
       "      <td>0.030317</td>\n",
       "    </tr>\n",
       "    <tr>\n",
       "      <th>...</th>\n",
       "      <td>...</td>\n",
       "      <td>...</td>\n",
       "      <td>...</td>\n",
       "      <td>...</td>\n",
       "      <td>...</td>\n",
       "      <td>...</td>\n",
       "      <td>...</td>\n",
       "      <td>...</td>\n",
       "      <td>...</td>\n",
       "      <td>...</td>\n",
       "      <td>...</td>\n",
       "      <td>...</td>\n",
       "      <td>...</td>\n",
       "      <td>...</td>\n",
       "    </tr>\n",
       "    <tr>\n",
       "      <th>8688</th>\n",
       "      <td>Europa</td>\n",
       "      <td>False</td>\n",
       "      <td>55 Cancri e</td>\n",
       "      <td>0.518987</td>\n",
       "      <td>True</td>\n",
       "      <td>0.000000</td>\n",
       "      <td>0.228726</td>\n",
       "      <td>0.000000</td>\n",
       "      <td>0.073322</td>\n",
       "      <td>0.003066</td>\n",
       "      <td>A</td>\n",
       "      <td>P</td>\n",
       "      <td>0.000000</td>\n",
       "      <td>0.237197</td>\n",
       "    </tr>\n",
       "    <tr>\n",
       "      <th>8689</th>\n",
       "      <td>Earth</td>\n",
       "      <td>True</td>\n",
       "      <td>PSO J318.5-22</td>\n",
       "      <td>0.227848</td>\n",
       "      <td>False</td>\n",
       "      <td>0.000000</td>\n",
       "      <td>0.000000</td>\n",
       "      <td>0.000000</td>\n",
       "      <td>0.000000</td>\n",
       "      <td>0.000000</td>\n",
       "      <td>G</td>\n",
       "      <td>S</td>\n",
       "      <td>0.000000</td>\n",
       "      <td>0.000000</td>\n",
       "    </tr>\n",
       "    <tr>\n",
       "      <th>8690</th>\n",
       "      <td>Earth</td>\n",
       "      <td>False</td>\n",
       "      <td>TRAPPIST-1e</td>\n",
       "      <td>0.329114</td>\n",
       "      <td>False</td>\n",
       "      <td>0.000000</td>\n",
       "      <td>0.000000</td>\n",
       "      <td>0.079687</td>\n",
       "      <td>0.000045</td>\n",
       "      <td>0.000000</td>\n",
       "      <td>G</td>\n",
       "      <td>S</td>\n",
       "      <td>0.000000</td>\n",
       "      <td>0.052047</td>\n",
       "    </tr>\n",
       "    <tr>\n",
       "      <th>8691</th>\n",
       "      <td>Europa</td>\n",
       "      <td>False</td>\n",
       "      <td>55 Cancri e</td>\n",
       "      <td>0.405063</td>\n",
       "      <td>False</td>\n",
       "      <td>0.000000</td>\n",
       "      <td>0.035186</td>\n",
       "      <td>0.000000</td>\n",
       "      <td>0.015753</td>\n",
       "      <td>0.134049</td>\n",
       "      <td>E</td>\n",
       "      <td>S</td>\n",
       "      <td>0.000000</td>\n",
       "      <td>0.128852</td>\n",
       "    </tr>\n",
       "    <tr>\n",
       "      <th>8692</th>\n",
       "      <td>Europa</td>\n",
       "      <td>False</td>\n",
       "      <td>TRAPPIST-1e</td>\n",
       "      <td>0.556962</td>\n",
       "      <td>False</td>\n",
       "      <td>0.008795</td>\n",
       "      <td>0.157247</td>\n",
       "      <td>0.000000</td>\n",
       "      <td>0.000000</td>\n",
       "      <td>0.000497</td>\n",
       "      <td>E</td>\n",
       "      <td>S</td>\n",
       "      <td>0.142857</td>\n",
       "      <td>0.134104</td>\n",
       "    </tr>\n",
       "  </tbody>\n",
       "</table>\n",
       "<p>8693 rows × 14 columns</p>\n",
       "</div>"
      ],
      "text/plain": [
       "     HomePlanet CryoSleep    Destination       Age    VIP  RoomService  \\\n",
       "0        Europa     False    TRAPPIST-1e  0.493671  False     0.000000   \n",
       "1         Earth     False    TRAPPIST-1e  0.303797  False     0.007608   \n",
       "2        Europa     False    TRAPPIST-1e  0.734177   True     0.003001   \n",
       "3        Europa     False    TRAPPIST-1e  0.417722  False     0.000000   \n",
       "4         Earth     False    TRAPPIST-1e  0.202532  False     0.021149   \n",
       "...         ...       ...            ...       ...    ...          ...   \n",
       "8688     Europa     False    55 Cancri e  0.518987   True     0.000000   \n",
       "8689      Earth      True  PSO J318.5-22  0.227848  False     0.000000   \n",
       "8690      Earth     False    TRAPPIST-1e  0.329114  False     0.000000   \n",
       "8691     Europa     False    55 Cancri e  0.405063  False     0.000000   \n",
       "8692     Europa     False    TRAPPIST-1e  0.556962  False     0.008795   \n",
       "\n",
       "      FoodCourt  ShoppingMall       Spa    VRDeck Front Back  GroupSize  \\\n",
       "0      0.000000      0.000000  0.000000  0.000000     B    P   0.000000   \n",
       "1      0.000302      0.001064  0.024500  0.001823     F    S   0.000000   \n",
       "2      0.119948      0.000000  0.299670  0.002030     A    S   0.000000   \n",
       "3      0.043035      0.015793  0.148563  0.007997     A    S   0.142857   \n",
       "4      0.002348      0.006428  0.025214  0.000083     F    S   0.000000   \n",
       "...         ...           ...       ...       ...   ...  ...        ...   \n",
       "8688   0.228726      0.000000  0.073322  0.003066     A    P   0.000000   \n",
       "8689   0.000000      0.000000  0.000000  0.000000     G    S   0.000000   \n",
       "8690   0.000000      0.079687  0.000045  0.000000     G    S   0.000000   \n",
       "8691   0.035186      0.000000  0.015753  0.134049     E    S   0.000000   \n",
       "8692   0.157247      0.000000  0.000000  0.000497     E    S   0.142857   \n",
       "\n",
       "         total  \n",
       "0     0.000000  \n",
       "1     0.020452  \n",
       "2     0.288521  \n",
       "3     0.143830  \n",
       "4     0.030317  \n",
       "...        ...  \n",
       "8688  0.237197  \n",
       "8689  0.000000  \n",
       "8690  0.052047  \n",
       "8691  0.128852  \n",
       "8692  0.134104  \n",
       "\n",
       "[8693 rows x 14 columns]"
      ]
     },
     "execution_count": 513,
     "metadata": {},
     "output_type": "execute_result"
    }
   ],
   "source": [
    "\n",
    "onencode(d)\n",
    "orencode(d)\n",
    "std(d)\n",
    "minmax(d)"
   ]
  },
  {
   "cell_type": "markdown",
   "id": "b45a1cef",
   "metadata": {},
   "source": [
    "## 파이프라인 생성\n"
   ]
  },
  {
   "cell_type": "code",
   "execution_count": 514,
   "id": "da29ae0c",
   "metadata": {},
   "outputs": [],
   "source": [
    "#열 추가 파이프라인"
   ]
  },
  {
   "cell_type": "code",
   "execution_count": 515,
   "id": "c81faf55",
   "metadata": {},
   "outputs": [],
   "source": [
    "class AddColumn(BaseEstimator, TransformerMixin):\n",
    "    def __init__(self):\n",
    "        # todo\n",
    "        pass\n",
    "    \n",
    "    def fit(self, X, y=None):\n",
    "        # todo\n",
    "        return self\n",
    "        \n",
    "    def transform(self, X):\n",
    "        X['total']=X.RoomService+X.FoodCourt+X.ShoppingMall+X.Spa+X.VRDeck\n",
    "        return pd.concat([X,pass_split(X),cabin_split(X)],axis=1)\n"
   ]
  },
  {
   "cell_type": "code",
   "execution_count": 516,
   "id": "f4d425aa",
   "metadata": {},
   "outputs": [],
   "source": [
    "class Impute_na(BaseEstimator, TransformerMixin):\n",
    "    def __init__(self):\n",
    "        # todo\n",
    "        pass\n",
    "    \n",
    "    def fit(self, X, y=None):\n",
    "        # todo\n",
    "        return self\n",
    "        \n",
    "    def transform(self, X):\n",
    "        X=fillna_s(X,split_numeric(X)).copy()\n",
    "        X.GroupSize=X.GroupSize.astype('float')\n",
    "        return X"
   ]
  },
  {
   "cell_type": "code",
   "execution_count": 517,
   "id": "65d7e614",
   "metadata": {},
   "outputs": [],
   "source": [
    "class Drop_col(BaseEstimator, TransformerMixin):\n",
    "    def __init__(self):\n",
    "        # todo\n",
    "        pass\n",
    "    \n",
    "    def fit(self, X, y=None):\n",
    "        # todo\n",
    "        return self\n",
    "        \n",
    "    def transform(self, X):\n",
    "        droplist=['PassengerId','Cabin','Name','Group']\n",
    "        X.drop(droplist,axis=1,inplace=True)\n",
    "        return X"
   ]
  },
  {
   "cell_type": "code",
   "execution_count": 518,
   "id": "17a54bb3",
   "metadata": {},
   "outputs": [],
   "source": [
    "# 파이프라인 스텝 1 prepro 함수와 같음"
   ]
  },
  {
   "cell_type": "code",
   "execution_count": 519,
   "id": "2f09f1f2",
   "metadata": {},
   "outputs": [],
   "source": [
    "pipe1=Pipeline([('add_col',AddColumn()),\n",
    "                ('impute',Impute_na()),\n",
    "                ('drop_col',Drop_col())\n",
    "                                              \n",
    "                        ])"
   ]
  },
  {
   "cell_type": "code",
   "execution_count": 520,
   "id": "883b7f4e",
   "metadata": {
    "scrolled": true
   },
   "outputs": [
    {
     "data": {
      "text/html": [
       "<div>\n",
       "<style scoped>\n",
       "    .dataframe tbody tr th:only-of-type {\n",
       "        vertical-align: middle;\n",
       "    }\n",
       "\n",
       "    .dataframe tbody tr th {\n",
       "        vertical-align: top;\n",
       "    }\n",
       "\n",
       "    .dataframe thead th {\n",
       "        text-align: right;\n",
       "    }\n",
       "</style>\n",
       "<table border=\"1\" class=\"dataframe\">\n",
       "  <thead>\n",
       "    <tr style=\"text-align: right;\">\n",
       "      <th></th>\n",
       "      <th>HomePlanet</th>\n",
       "      <th>CryoSleep</th>\n",
       "      <th>Destination</th>\n",
       "      <th>Age</th>\n",
       "      <th>VIP</th>\n",
       "      <th>RoomService</th>\n",
       "      <th>FoodCourt</th>\n",
       "      <th>ShoppingMall</th>\n",
       "      <th>Spa</th>\n",
       "      <th>VRDeck</th>\n",
       "      <th>Transported</th>\n",
       "      <th>total</th>\n",
       "      <th>GroupSize</th>\n",
       "      <th>Front</th>\n",
       "      <th>Back</th>\n",
       "    </tr>\n",
       "  </thead>\n",
       "  <tbody>\n",
       "    <tr>\n",
       "      <th>0</th>\n",
       "      <td>Europa</td>\n",
       "      <td>False</td>\n",
       "      <td>TRAPPIST-1e</td>\n",
       "      <td>39.0</td>\n",
       "      <td>False</td>\n",
       "      <td>0.0</td>\n",
       "      <td>0.0</td>\n",
       "      <td>0.0</td>\n",
       "      <td>0.0</td>\n",
       "      <td>0.0</td>\n",
       "      <td>False</td>\n",
       "      <td>0.0</td>\n",
       "      <td>1.0</td>\n",
       "      <td>B</td>\n",
       "      <td>P</td>\n",
       "    </tr>\n",
       "    <tr>\n",
       "      <th>1</th>\n",
       "      <td>Earth</td>\n",
       "      <td>False</td>\n",
       "      <td>TRAPPIST-1e</td>\n",
       "      <td>24.0</td>\n",
       "      <td>False</td>\n",
       "      <td>109.0</td>\n",
       "      <td>9.0</td>\n",
       "      <td>25.0</td>\n",
       "      <td>549.0</td>\n",
       "      <td>44.0</td>\n",
       "      <td>True</td>\n",
       "      <td>736.0</td>\n",
       "      <td>1.0</td>\n",
       "      <td>F</td>\n",
       "      <td>S</td>\n",
       "    </tr>\n",
       "    <tr>\n",
       "      <th>2</th>\n",
       "      <td>Europa</td>\n",
       "      <td>False</td>\n",
       "      <td>TRAPPIST-1e</td>\n",
       "      <td>58.0</td>\n",
       "      <td>True</td>\n",
       "      <td>43.0</td>\n",
       "      <td>3576.0</td>\n",
       "      <td>0.0</td>\n",
       "      <td>6715.0</td>\n",
       "      <td>49.0</td>\n",
       "      <td>False</td>\n",
       "      <td>10383.0</td>\n",
       "      <td>1.0</td>\n",
       "      <td>A</td>\n",
       "      <td>S</td>\n",
       "    </tr>\n",
       "    <tr>\n",
       "      <th>3</th>\n",
       "      <td>Europa</td>\n",
       "      <td>False</td>\n",
       "      <td>TRAPPIST-1e</td>\n",
       "      <td>33.0</td>\n",
       "      <td>False</td>\n",
       "      <td>0.0</td>\n",
       "      <td>1283.0</td>\n",
       "      <td>371.0</td>\n",
       "      <td>3329.0</td>\n",
       "      <td>193.0</td>\n",
       "      <td>False</td>\n",
       "      <td>5176.0</td>\n",
       "      <td>2.0</td>\n",
       "      <td>A</td>\n",
       "      <td>S</td>\n",
       "    </tr>\n",
       "    <tr>\n",
       "      <th>4</th>\n",
       "      <td>Earth</td>\n",
       "      <td>False</td>\n",
       "      <td>TRAPPIST-1e</td>\n",
       "      <td>16.0</td>\n",
       "      <td>False</td>\n",
       "      <td>303.0</td>\n",
       "      <td>70.0</td>\n",
       "      <td>151.0</td>\n",
       "      <td>565.0</td>\n",
       "      <td>2.0</td>\n",
       "      <td>True</td>\n",
       "      <td>1091.0</td>\n",
       "      <td>1.0</td>\n",
       "      <td>F</td>\n",
       "      <td>S</td>\n",
       "    </tr>\n",
       "    <tr>\n",
       "      <th>...</th>\n",
       "      <td>...</td>\n",
       "      <td>...</td>\n",
       "      <td>...</td>\n",
       "      <td>...</td>\n",
       "      <td>...</td>\n",
       "      <td>...</td>\n",
       "      <td>...</td>\n",
       "      <td>...</td>\n",
       "      <td>...</td>\n",
       "      <td>...</td>\n",
       "      <td>...</td>\n",
       "      <td>...</td>\n",
       "      <td>...</td>\n",
       "      <td>...</td>\n",
       "      <td>...</td>\n",
       "    </tr>\n",
       "    <tr>\n",
       "      <th>8688</th>\n",
       "      <td>Europa</td>\n",
       "      <td>False</td>\n",
       "      <td>55 Cancri e</td>\n",
       "      <td>41.0</td>\n",
       "      <td>True</td>\n",
       "      <td>0.0</td>\n",
       "      <td>6819.0</td>\n",
       "      <td>0.0</td>\n",
       "      <td>1643.0</td>\n",
       "      <td>74.0</td>\n",
       "      <td>False</td>\n",
       "      <td>8536.0</td>\n",
       "      <td>1.0</td>\n",
       "      <td>A</td>\n",
       "      <td>P</td>\n",
       "    </tr>\n",
       "    <tr>\n",
       "      <th>8689</th>\n",
       "      <td>Earth</td>\n",
       "      <td>True</td>\n",
       "      <td>PSO J318.5-22</td>\n",
       "      <td>18.0</td>\n",
       "      <td>False</td>\n",
       "      <td>0.0</td>\n",
       "      <td>0.0</td>\n",
       "      <td>0.0</td>\n",
       "      <td>0.0</td>\n",
       "      <td>0.0</td>\n",
       "      <td>False</td>\n",
       "      <td>0.0</td>\n",
       "      <td>1.0</td>\n",
       "      <td>G</td>\n",
       "      <td>S</td>\n",
       "    </tr>\n",
       "    <tr>\n",
       "      <th>8690</th>\n",
       "      <td>Earth</td>\n",
       "      <td>False</td>\n",
       "      <td>TRAPPIST-1e</td>\n",
       "      <td>26.0</td>\n",
       "      <td>False</td>\n",
       "      <td>0.0</td>\n",
       "      <td>0.0</td>\n",
       "      <td>1872.0</td>\n",
       "      <td>1.0</td>\n",
       "      <td>0.0</td>\n",
       "      <td>True</td>\n",
       "      <td>1873.0</td>\n",
       "      <td>1.0</td>\n",
       "      <td>G</td>\n",
       "      <td>S</td>\n",
       "    </tr>\n",
       "    <tr>\n",
       "      <th>8691</th>\n",
       "      <td>Europa</td>\n",
       "      <td>False</td>\n",
       "      <td>55 Cancri e</td>\n",
       "      <td>32.0</td>\n",
       "      <td>False</td>\n",
       "      <td>0.0</td>\n",
       "      <td>1049.0</td>\n",
       "      <td>0.0</td>\n",
       "      <td>353.0</td>\n",
       "      <td>3235.0</td>\n",
       "      <td>False</td>\n",
       "      <td>4637.0</td>\n",
       "      <td>1.0</td>\n",
       "      <td>E</td>\n",
       "      <td>S</td>\n",
       "    </tr>\n",
       "    <tr>\n",
       "      <th>8692</th>\n",
       "      <td>Europa</td>\n",
       "      <td>False</td>\n",
       "      <td>TRAPPIST-1e</td>\n",
       "      <td>44.0</td>\n",
       "      <td>False</td>\n",
       "      <td>126.0</td>\n",
       "      <td>4688.0</td>\n",
       "      <td>0.0</td>\n",
       "      <td>0.0</td>\n",
       "      <td>12.0</td>\n",
       "      <td>True</td>\n",
       "      <td>4826.0</td>\n",
       "      <td>2.0</td>\n",
       "      <td>E</td>\n",
       "      <td>S</td>\n",
       "    </tr>\n",
       "  </tbody>\n",
       "</table>\n",
       "<p>8693 rows × 15 columns</p>\n",
       "</div>"
      ],
      "text/plain": [
       "     HomePlanet CryoSleep    Destination   Age    VIP  RoomService  FoodCourt  \\\n",
       "0        Europa     False    TRAPPIST-1e  39.0  False          0.0        0.0   \n",
       "1         Earth     False    TRAPPIST-1e  24.0  False        109.0        9.0   \n",
       "2        Europa     False    TRAPPIST-1e  58.0   True         43.0     3576.0   \n",
       "3        Europa     False    TRAPPIST-1e  33.0  False          0.0     1283.0   \n",
       "4         Earth     False    TRAPPIST-1e  16.0  False        303.0       70.0   \n",
       "...         ...       ...            ...   ...    ...          ...        ...   \n",
       "8688     Europa     False    55 Cancri e  41.0   True          0.0     6819.0   \n",
       "8689      Earth      True  PSO J318.5-22  18.0  False          0.0        0.0   \n",
       "8690      Earth     False    TRAPPIST-1e  26.0  False          0.0        0.0   \n",
       "8691     Europa     False    55 Cancri e  32.0  False          0.0     1049.0   \n",
       "8692     Europa     False    TRAPPIST-1e  44.0  False        126.0     4688.0   \n",
       "\n",
       "      ShoppingMall     Spa  VRDeck Transported    total  GroupSize Front Back  \n",
       "0              0.0     0.0     0.0       False      0.0        1.0     B    P  \n",
       "1             25.0   549.0    44.0        True    736.0        1.0     F    S  \n",
       "2              0.0  6715.0    49.0       False  10383.0        1.0     A    S  \n",
       "3            371.0  3329.0   193.0       False   5176.0        2.0     A    S  \n",
       "4            151.0   565.0     2.0        True   1091.0        1.0     F    S  \n",
       "...            ...     ...     ...         ...      ...        ...   ...  ...  \n",
       "8688           0.0  1643.0    74.0       False   8536.0        1.0     A    P  \n",
       "8689           0.0     0.0     0.0       False      0.0        1.0     G    S  \n",
       "8690        1872.0     1.0     0.0        True   1873.0        1.0     G    S  \n",
       "8691           0.0   353.0  3235.0       False   4637.0        1.0     E    S  \n",
       "8692           0.0     0.0    12.0        True   4826.0        2.0     E    S  \n",
       "\n",
       "[8693 rows x 15 columns]"
      ]
     },
     "execution_count": 520,
     "metadata": {},
     "output_type": "execute_result"
    }
   ],
   "source": [
    "pipe1.fit_transform(X)"
   ]
  },
  {
   "cell_type": "code",
   "execution_count": 521,
   "id": "f900dab2",
   "metadata": {},
   "outputs": [],
   "source": [
    "class SScale(BaseEstimator, TransformerMixin):\n",
    "    def __init__(self):\n",
    "        # todo\n",
    "        pass\n",
    "    \n",
    "    def fit(self, X, y=None):\n",
    "        # todo\n",
    "        return self\n",
    "        \n",
    "    def transform(self, X):\n",
    " \n",
    "        return std(X)"
   ]
  },
  {
   "cell_type": "code",
   "execution_count": 522,
   "id": "f500d893",
   "metadata": {},
   "outputs": [],
   "source": [
    "class Onehotcoder(BaseEstimator, TransformerMixin):\n",
    "    def __init__(self):\n",
    "        # todo\n",
    "        pass\n",
    "    \n",
    "    def fit(self, X, y=None):\n",
    "        # todo\n",
    "        return self\n",
    "        \n",
    "    def transform(self, X):\n",
    "\n",
    "        return onencode(X)"
   ]
  },
  {
   "cell_type": "code",
   "execution_count": 523,
   "id": "61c5b582",
   "metadata": {},
   "outputs": [],
   "source": [
    "class Ordinal(BaseEstimator, TransformerMixin):\n",
    "    def __init__(self):\n",
    "        # todo\n",
    "        pass\n",
    "    \n",
    "    def fit(self, X, y=None):\n",
    "        # todo\n",
    "        return self\n",
    "        \n",
    "    def transform(self, X):\n",
    "\n",
    "        return orencode(X)"
   ]
  },
  {
   "cell_type": "code",
   "execution_count": 524,
   "id": "4cb51289",
   "metadata": {},
   "outputs": [],
   "source": [
    "class MMScale(BaseEstimator, TransformerMixin):\n",
    "    def __init__(self):\n",
    "        # todo\n",
    "        pass\n",
    "    \n",
    "    def fit(self, X, y=None):\n",
    "        # todo\n",
    "        return self\n",
    "        \n",
    "    def transform(self, X):\n",
    "\n",
    "        return minmax(X)"
   ]
  },
  {
   "cell_type": "code",
   "execution_count": 525,
   "id": "e8407727",
   "metadata": {},
   "outputs": [],
   "source": [
    "from sklearn.pipeline import make_pipeline"
   ]
  },
  {
   "cell_type": "code",
   "execution_count": null,
   "id": "20277751",
   "metadata": {},
   "outputs": [],
   "source": []
  },
  {
   "cell_type": "code",
   "execution_count": 526,
   "id": "8102430b",
   "metadata": {},
   "outputs": [
    {
     "data": {
      "text/html": [
       "<style>#sk-container-id-17 {color: black;background-color: white;}#sk-container-id-17 pre{padding: 0;}#sk-container-id-17 div.sk-toggleable {background-color: white;}#sk-container-id-17 label.sk-toggleable__label {cursor: pointer;display: block;width: 100%;margin-bottom: 0;padding: 0.3em;box-sizing: border-box;text-align: center;}#sk-container-id-17 label.sk-toggleable__label-arrow:before {content: \"▸\";float: left;margin-right: 0.25em;color: #696969;}#sk-container-id-17 label.sk-toggleable__label-arrow:hover:before {color: black;}#sk-container-id-17 div.sk-estimator:hover label.sk-toggleable__label-arrow:before {color: black;}#sk-container-id-17 div.sk-toggleable__content {max-height: 0;max-width: 0;overflow: hidden;text-align: left;background-color: #f0f8ff;}#sk-container-id-17 div.sk-toggleable__content pre {margin: 0.2em;color: black;border-radius: 0.25em;background-color: #f0f8ff;}#sk-container-id-17 input.sk-toggleable__control:checked~div.sk-toggleable__content {max-height: 200px;max-width: 100%;overflow: auto;}#sk-container-id-17 input.sk-toggleable__control:checked~label.sk-toggleable__label-arrow:before {content: \"▾\";}#sk-container-id-17 div.sk-estimator input.sk-toggleable__control:checked~label.sk-toggleable__label {background-color: #d4ebff;}#sk-container-id-17 div.sk-label input.sk-toggleable__control:checked~label.sk-toggleable__label {background-color: #d4ebff;}#sk-container-id-17 input.sk-hidden--visually {border: 0;clip: rect(1px 1px 1px 1px);clip: rect(1px, 1px, 1px, 1px);height: 1px;margin: -1px;overflow: hidden;padding: 0;position: absolute;width: 1px;}#sk-container-id-17 div.sk-estimator {font-family: monospace;background-color: #f0f8ff;border: 1px dotted black;border-radius: 0.25em;box-sizing: border-box;margin-bottom: 0.5em;}#sk-container-id-17 div.sk-estimator:hover {background-color: #d4ebff;}#sk-container-id-17 div.sk-parallel-item::after {content: \"\";width: 100%;border-bottom: 1px solid gray;flex-grow: 1;}#sk-container-id-17 div.sk-label:hover label.sk-toggleable__label {background-color: #d4ebff;}#sk-container-id-17 div.sk-serial::before {content: \"\";position: absolute;border-left: 1px solid gray;box-sizing: border-box;top: 0;bottom: 0;left: 50%;z-index: 0;}#sk-container-id-17 div.sk-serial {display: flex;flex-direction: column;align-items: center;background-color: white;padding-right: 0.2em;padding-left: 0.2em;position: relative;}#sk-container-id-17 div.sk-item {position: relative;z-index: 1;}#sk-container-id-17 div.sk-parallel {display: flex;align-items: stretch;justify-content: center;background-color: white;position: relative;}#sk-container-id-17 div.sk-item::before, #sk-container-id-17 div.sk-parallel-item::before {content: \"\";position: absolute;border-left: 1px solid gray;box-sizing: border-box;top: 0;bottom: 0;left: 50%;z-index: -1;}#sk-container-id-17 div.sk-parallel-item {display: flex;flex-direction: column;z-index: 1;position: relative;background-color: white;}#sk-container-id-17 div.sk-parallel-item:first-child::after {align-self: flex-end;width: 50%;}#sk-container-id-17 div.sk-parallel-item:last-child::after {align-self: flex-start;width: 50%;}#sk-container-id-17 div.sk-parallel-item:only-child::after {width: 0;}#sk-container-id-17 div.sk-dashed-wrapped {border: 1px dashed gray;margin: 0 0.4em 0.5em 0.4em;box-sizing: border-box;padding-bottom: 0.4em;background-color: white;}#sk-container-id-17 div.sk-label label {font-family: monospace;font-weight: bold;display: inline-block;line-height: 1.2em;}#sk-container-id-17 div.sk-label-container {text-align: center;}#sk-container-id-17 div.sk-container {/* jupyter's `normalize.less` sets `[hidden] { display: none; }` but bootstrap.min.css set `[hidden] { display: none !important; }` so we also need the `!important` here to be able to override the default hidden behavior on the sphinx rendered scikit-learn.org. See: https://github.com/scikit-learn/scikit-learn/issues/21755 */display: inline-block !important;position: relative;}#sk-container-id-17 div.sk-text-repr-fallback {display: none;}</style><div id=\"sk-container-id-17\" class=\"sk-top-container\"><div class=\"sk-text-repr-fallback\"><pre>Pipeline(steps=[(&#x27;scale&#x27;, MMScale()), (&#x27;std&#x27;, SScale())])</pre><b>In a Jupyter environment, please rerun this cell to show the HTML representation or trust the notebook. <br />On GitHub, the HTML representation is unable to render, please try loading this page with nbviewer.org.</b></div><div class=\"sk-container\" hidden><div class=\"sk-item sk-dashed-wrapped\"><div class=\"sk-label-container\"><div class=\"sk-label sk-toggleable\"><input class=\"sk-toggleable__control sk-hidden--visually\" id=\"sk-estimator-id-94\" type=\"checkbox\" ><label for=\"sk-estimator-id-94\" class=\"sk-toggleable__label sk-toggleable__label-arrow\">Pipeline</label><div class=\"sk-toggleable__content\"><pre>Pipeline(steps=[(&#x27;scale&#x27;, MMScale()), (&#x27;std&#x27;, SScale())])</pre></div></div></div><div class=\"sk-serial\"><div class=\"sk-item\"><div class=\"sk-estimator sk-toggleable\"><input class=\"sk-toggleable__control sk-hidden--visually\" id=\"sk-estimator-id-95\" type=\"checkbox\" ><label for=\"sk-estimator-id-95\" class=\"sk-toggleable__label sk-toggleable__label-arrow\">MMScale</label><div class=\"sk-toggleable__content\"><pre>MMScale()</pre></div></div></div><div class=\"sk-item\"><div class=\"sk-estimator sk-toggleable\"><input class=\"sk-toggleable__control sk-hidden--visually\" id=\"sk-estimator-id-96\" type=\"checkbox\" ><label for=\"sk-estimator-id-96\" class=\"sk-toggleable__label sk-toggleable__label-arrow\">SScale</label><div class=\"sk-toggleable__content\"><pre>SScale()</pre></div></div></div></div></div></div></div>"
      ],
      "text/plain": [
       "Pipeline(steps=[('scale', MMScale()), ('std', SScale())])"
      ]
     },
     "execution_count": 526,
     "metadata": {},
     "output_type": "execute_result"
    }
   ],
   "source": [
    "pipe2=Pipeline([('scale',MMScale()),('std',SScale()),\n",
    "                \n",
    "                                              \n",
    "                        ])\n",
    "pipe2"
   ]
  },
  {
   "cell_type": "code",
   "execution_count": 527,
   "id": "a3898595",
   "metadata": {},
   "outputs": [],
   "source": [
    "pipe3= make_pipeline(Ordinal(),\n",
    "                    SScale())"
   ]
  },
  {
   "cell_type": "code",
   "execution_count": 528,
   "id": "1b51c754",
   "metadata": {
    "scrolled": true
   },
   "outputs": [
    {
     "data": {
      "text/html": [
       "<style>#sk-container-id-18 {color: black;background-color: white;}#sk-container-id-18 pre{padding: 0;}#sk-container-id-18 div.sk-toggleable {background-color: white;}#sk-container-id-18 label.sk-toggleable__label {cursor: pointer;display: block;width: 100%;margin-bottom: 0;padding: 0.3em;box-sizing: border-box;text-align: center;}#sk-container-id-18 label.sk-toggleable__label-arrow:before {content: \"▸\";float: left;margin-right: 0.25em;color: #696969;}#sk-container-id-18 label.sk-toggleable__label-arrow:hover:before {color: black;}#sk-container-id-18 div.sk-estimator:hover label.sk-toggleable__label-arrow:before {color: black;}#sk-container-id-18 div.sk-toggleable__content {max-height: 0;max-width: 0;overflow: hidden;text-align: left;background-color: #f0f8ff;}#sk-container-id-18 div.sk-toggleable__content pre {margin: 0.2em;color: black;border-radius: 0.25em;background-color: #f0f8ff;}#sk-container-id-18 input.sk-toggleable__control:checked~div.sk-toggleable__content {max-height: 200px;max-width: 100%;overflow: auto;}#sk-container-id-18 input.sk-toggleable__control:checked~label.sk-toggleable__label-arrow:before {content: \"▾\";}#sk-container-id-18 div.sk-estimator input.sk-toggleable__control:checked~label.sk-toggleable__label {background-color: #d4ebff;}#sk-container-id-18 div.sk-label input.sk-toggleable__control:checked~label.sk-toggleable__label {background-color: #d4ebff;}#sk-container-id-18 input.sk-hidden--visually {border: 0;clip: rect(1px 1px 1px 1px);clip: rect(1px, 1px, 1px, 1px);height: 1px;margin: -1px;overflow: hidden;padding: 0;position: absolute;width: 1px;}#sk-container-id-18 div.sk-estimator {font-family: monospace;background-color: #f0f8ff;border: 1px dotted black;border-radius: 0.25em;box-sizing: border-box;margin-bottom: 0.5em;}#sk-container-id-18 div.sk-estimator:hover {background-color: #d4ebff;}#sk-container-id-18 div.sk-parallel-item::after {content: \"\";width: 100%;border-bottom: 1px solid gray;flex-grow: 1;}#sk-container-id-18 div.sk-label:hover label.sk-toggleable__label {background-color: #d4ebff;}#sk-container-id-18 div.sk-serial::before {content: \"\";position: absolute;border-left: 1px solid gray;box-sizing: border-box;top: 0;bottom: 0;left: 50%;z-index: 0;}#sk-container-id-18 div.sk-serial {display: flex;flex-direction: column;align-items: center;background-color: white;padding-right: 0.2em;padding-left: 0.2em;position: relative;}#sk-container-id-18 div.sk-item {position: relative;z-index: 1;}#sk-container-id-18 div.sk-parallel {display: flex;align-items: stretch;justify-content: center;background-color: white;position: relative;}#sk-container-id-18 div.sk-item::before, #sk-container-id-18 div.sk-parallel-item::before {content: \"\";position: absolute;border-left: 1px solid gray;box-sizing: border-box;top: 0;bottom: 0;left: 50%;z-index: -1;}#sk-container-id-18 div.sk-parallel-item {display: flex;flex-direction: column;z-index: 1;position: relative;background-color: white;}#sk-container-id-18 div.sk-parallel-item:first-child::after {align-self: flex-end;width: 50%;}#sk-container-id-18 div.sk-parallel-item:last-child::after {align-self: flex-start;width: 50%;}#sk-container-id-18 div.sk-parallel-item:only-child::after {width: 0;}#sk-container-id-18 div.sk-dashed-wrapped {border: 1px dashed gray;margin: 0 0.4em 0.5em 0.4em;box-sizing: border-box;padding-bottom: 0.4em;background-color: white;}#sk-container-id-18 div.sk-label label {font-family: monospace;font-weight: bold;display: inline-block;line-height: 1.2em;}#sk-container-id-18 div.sk-label-container {text-align: center;}#sk-container-id-18 div.sk-container {/* jupyter's `normalize.less` sets `[hidden] { display: none; }` but bootstrap.min.css set `[hidden] { display: none !important; }` so we also need the `!important` here to be able to override the default hidden behavior on the sphinx rendered scikit-learn.org. See: https://github.com/scikit-learn/scikit-learn/issues/21755 */display: inline-block !important;position: relative;}#sk-container-id-18 div.sk-text-repr-fallback {display: none;}</style><div id=\"sk-container-id-18\" class=\"sk-top-container\"><div class=\"sk-text-repr-fallback\"><pre>Pipeline(steps=[(&#x27;ordinal&#x27;, Ordinal()), (&#x27;sscale&#x27;, SScale())])</pre><b>In a Jupyter environment, please rerun this cell to show the HTML representation or trust the notebook. <br />On GitHub, the HTML representation is unable to render, please try loading this page with nbviewer.org.</b></div><div class=\"sk-container\" hidden><div class=\"sk-item sk-dashed-wrapped\"><div class=\"sk-label-container\"><div class=\"sk-label sk-toggleable\"><input class=\"sk-toggleable__control sk-hidden--visually\" id=\"sk-estimator-id-97\" type=\"checkbox\" ><label for=\"sk-estimator-id-97\" class=\"sk-toggleable__label sk-toggleable__label-arrow\">Pipeline</label><div class=\"sk-toggleable__content\"><pre>Pipeline(steps=[(&#x27;ordinal&#x27;, Ordinal()), (&#x27;sscale&#x27;, SScale())])</pre></div></div></div><div class=\"sk-serial\"><div class=\"sk-item\"><div class=\"sk-estimator sk-toggleable\"><input class=\"sk-toggleable__control sk-hidden--visually\" id=\"sk-estimator-id-98\" type=\"checkbox\" ><label for=\"sk-estimator-id-98\" class=\"sk-toggleable__label sk-toggleable__label-arrow\">Ordinal</label><div class=\"sk-toggleable__content\"><pre>Ordinal()</pre></div></div></div><div class=\"sk-item\"><div class=\"sk-estimator sk-toggleable\"><input class=\"sk-toggleable__control sk-hidden--visually\" id=\"sk-estimator-id-99\" type=\"checkbox\" ><label for=\"sk-estimator-id-99\" class=\"sk-toggleable__label sk-toggleable__label-arrow\">SScale</label><div class=\"sk-toggleable__content\"><pre>SScale()</pre></div></div></div></div></div></div></div>"
      ],
      "text/plain": [
       "Pipeline(steps=[('ordinal', Ordinal()), ('sscale', SScale())])"
      ]
     },
     "execution_count": 528,
     "metadata": {},
     "output_type": "execute_result"
    }
   ],
   "source": [
    "pipe3"
   ]
  },
  {
   "cell_type": "code",
   "execution_count": 529,
   "id": "9bb389b6",
   "metadata": {},
   "outputs": [],
   "source": [
    "pipe4= make_pipeline(Onehotcoder(),\n",
    "                    SScale())\n"
   ]
  },
  {
   "cell_type": "code",
   "execution_count": 530,
   "id": "5d5a1cff",
   "metadata": {},
   "outputs": [],
   "source": [
    "pipe5= make_pipeline(SScale(),Onehotcoder()\n",
    "                    )"
   ]
  },
  {
   "cell_type": "code",
   "execution_count": 531,
   "id": "fb82e27f",
   "metadata": {
    "scrolled": true
   },
   "outputs": [],
   "source": [
    "data_pipe1=make_pipeline(pipe1,pipe3) # 오디 스케일\n",
    "data_pipe2=make_pipeline(pipe1,pipe4) # 원핫 후 스케일\n",
    "data_pipe3=make_pipeline(pipe1,pipe5) # 스케일 후 원핫"
   ]
  },
  {
   "cell_type": "code",
   "execution_count": 532,
   "id": "78c574f3",
   "metadata": {},
   "outputs": [
    {
     "data": {
      "text/html": [
       "<style>#sk-container-id-19 {color: black;background-color: white;}#sk-container-id-19 pre{padding: 0;}#sk-container-id-19 div.sk-toggleable {background-color: white;}#sk-container-id-19 label.sk-toggleable__label {cursor: pointer;display: block;width: 100%;margin-bottom: 0;padding: 0.3em;box-sizing: border-box;text-align: center;}#sk-container-id-19 label.sk-toggleable__label-arrow:before {content: \"▸\";float: left;margin-right: 0.25em;color: #696969;}#sk-container-id-19 label.sk-toggleable__label-arrow:hover:before {color: black;}#sk-container-id-19 div.sk-estimator:hover label.sk-toggleable__label-arrow:before {color: black;}#sk-container-id-19 div.sk-toggleable__content {max-height: 0;max-width: 0;overflow: hidden;text-align: left;background-color: #f0f8ff;}#sk-container-id-19 div.sk-toggleable__content pre {margin: 0.2em;color: black;border-radius: 0.25em;background-color: #f0f8ff;}#sk-container-id-19 input.sk-toggleable__control:checked~div.sk-toggleable__content {max-height: 200px;max-width: 100%;overflow: auto;}#sk-container-id-19 input.sk-toggleable__control:checked~label.sk-toggleable__label-arrow:before {content: \"▾\";}#sk-container-id-19 div.sk-estimator input.sk-toggleable__control:checked~label.sk-toggleable__label {background-color: #d4ebff;}#sk-container-id-19 div.sk-label input.sk-toggleable__control:checked~label.sk-toggleable__label {background-color: #d4ebff;}#sk-container-id-19 input.sk-hidden--visually {border: 0;clip: rect(1px 1px 1px 1px);clip: rect(1px, 1px, 1px, 1px);height: 1px;margin: -1px;overflow: hidden;padding: 0;position: absolute;width: 1px;}#sk-container-id-19 div.sk-estimator {font-family: monospace;background-color: #f0f8ff;border: 1px dotted black;border-radius: 0.25em;box-sizing: border-box;margin-bottom: 0.5em;}#sk-container-id-19 div.sk-estimator:hover {background-color: #d4ebff;}#sk-container-id-19 div.sk-parallel-item::after {content: \"\";width: 100%;border-bottom: 1px solid gray;flex-grow: 1;}#sk-container-id-19 div.sk-label:hover label.sk-toggleable__label {background-color: #d4ebff;}#sk-container-id-19 div.sk-serial::before {content: \"\";position: absolute;border-left: 1px solid gray;box-sizing: border-box;top: 0;bottom: 0;left: 50%;z-index: 0;}#sk-container-id-19 div.sk-serial {display: flex;flex-direction: column;align-items: center;background-color: white;padding-right: 0.2em;padding-left: 0.2em;position: relative;}#sk-container-id-19 div.sk-item {position: relative;z-index: 1;}#sk-container-id-19 div.sk-parallel {display: flex;align-items: stretch;justify-content: center;background-color: white;position: relative;}#sk-container-id-19 div.sk-item::before, #sk-container-id-19 div.sk-parallel-item::before {content: \"\";position: absolute;border-left: 1px solid gray;box-sizing: border-box;top: 0;bottom: 0;left: 50%;z-index: -1;}#sk-container-id-19 div.sk-parallel-item {display: flex;flex-direction: column;z-index: 1;position: relative;background-color: white;}#sk-container-id-19 div.sk-parallel-item:first-child::after {align-self: flex-end;width: 50%;}#sk-container-id-19 div.sk-parallel-item:last-child::after {align-self: flex-start;width: 50%;}#sk-container-id-19 div.sk-parallel-item:only-child::after {width: 0;}#sk-container-id-19 div.sk-dashed-wrapped {border: 1px dashed gray;margin: 0 0.4em 0.5em 0.4em;box-sizing: border-box;padding-bottom: 0.4em;background-color: white;}#sk-container-id-19 div.sk-label label {font-family: monospace;font-weight: bold;display: inline-block;line-height: 1.2em;}#sk-container-id-19 div.sk-label-container {text-align: center;}#sk-container-id-19 div.sk-container {/* jupyter's `normalize.less` sets `[hidden] { display: none; }` but bootstrap.min.css set `[hidden] { display: none !important; }` so we also need the `!important` here to be able to override the default hidden behavior on the sphinx rendered scikit-learn.org. See: https://github.com/scikit-learn/scikit-learn/issues/21755 */display: inline-block !important;position: relative;}#sk-container-id-19 div.sk-text-repr-fallback {display: none;}</style><div id=\"sk-container-id-19\" class=\"sk-top-container\"><div class=\"sk-text-repr-fallback\"><pre>Pipeline(steps=[(&#x27;pipeline-1&#x27;,\n",
       "                 Pipeline(steps=[(&#x27;add_col&#x27;, AddColumn()),\n",
       "                                 (&#x27;impute&#x27;, Impute_na()),\n",
       "                                 (&#x27;drop_col&#x27;, Drop_col())])),\n",
       "                (&#x27;pipeline-2&#x27;,\n",
       "                 Pipeline(steps=[(&#x27;sscale&#x27;, SScale()),\n",
       "                                 (&#x27;onehotcoder&#x27;, Onehotcoder())]))])</pre><b>In a Jupyter environment, please rerun this cell to show the HTML representation or trust the notebook. <br />On GitHub, the HTML representation is unable to render, please try loading this page with nbviewer.org.</b></div><div class=\"sk-container\" hidden><div class=\"sk-item sk-dashed-wrapped\"><div class=\"sk-label-container\"><div class=\"sk-label sk-toggleable\"><input class=\"sk-toggleable__control sk-hidden--visually\" id=\"sk-estimator-id-100\" type=\"checkbox\" ><label for=\"sk-estimator-id-100\" class=\"sk-toggleable__label sk-toggleable__label-arrow\">Pipeline</label><div class=\"sk-toggleable__content\"><pre>Pipeline(steps=[(&#x27;pipeline-1&#x27;,\n",
       "                 Pipeline(steps=[(&#x27;add_col&#x27;, AddColumn()),\n",
       "                                 (&#x27;impute&#x27;, Impute_na()),\n",
       "                                 (&#x27;drop_col&#x27;, Drop_col())])),\n",
       "                (&#x27;pipeline-2&#x27;,\n",
       "                 Pipeline(steps=[(&#x27;sscale&#x27;, SScale()),\n",
       "                                 (&#x27;onehotcoder&#x27;, Onehotcoder())]))])</pre></div></div></div><div class=\"sk-serial\"><div class=\"sk-item\"><div class=\"sk-label-container\"><div class=\"sk-label sk-toggleable\"><input class=\"sk-toggleable__control sk-hidden--visually\" id=\"sk-estimator-id-101\" type=\"checkbox\" ><label for=\"sk-estimator-id-101\" class=\"sk-toggleable__label sk-toggleable__label-arrow\">pipeline-1: Pipeline</label><div class=\"sk-toggleable__content\"><pre>Pipeline(steps=[(&#x27;add_col&#x27;, AddColumn()), (&#x27;impute&#x27;, Impute_na()),\n",
       "                (&#x27;drop_col&#x27;, Drop_col())])</pre></div></div></div><div class=\"sk-serial\"><div class=\"sk-item\"><div class=\"sk-estimator sk-toggleable\"><input class=\"sk-toggleable__control sk-hidden--visually\" id=\"sk-estimator-id-102\" type=\"checkbox\" ><label for=\"sk-estimator-id-102\" class=\"sk-toggleable__label sk-toggleable__label-arrow\">AddColumn</label><div class=\"sk-toggleable__content\"><pre>AddColumn()</pre></div></div></div><div class=\"sk-item\"><div class=\"sk-estimator sk-toggleable\"><input class=\"sk-toggleable__control sk-hidden--visually\" id=\"sk-estimator-id-103\" type=\"checkbox\" ><label for=\"sk-estimator-id-103\" class=\"sk-toggleable__label sk-toggleable__label-arrow\">Impute_na</label><div class=\"sk-toggleable__content\"><pre>Impute_na()</pre></div></div></div><div class=\"sk-item\"><div class=\"sk-estimator sk-toggleable\"><input class=\"sk-toggleable__control sk-hidden--visually\" id=\"sk-estimator-id-104\" type=\"checkbox\" ><label for=\"sk-estimator-id-104\" class=\"sk-toggleable__label sk-toggleable__label-arrow\">Drop_col</label><div class=\"sk-toggleable__content\"><pre>Drop_col()</pre></div></div></div></div></div><div class=\"sk-item\"><div class=\"sk-label-container\"><div class=\"sk-label sk-toggleable\"><input class=\"sk-toggleable__control sk-hidden--visually\" id=\"sk-estimator-id-105\" type=\"checkbox\" ><label for=\"sk-estimator-id-105\" class=\"sk-toggleable__label sk-toggleable__label-arrow\">pipeline-2: Pipeline</label><div class=\"sk-toggleable__content\"><pre>Pipeline(steps=[(&#x27;sscale&#x27;, SScale()), (&#x27;onehotcoder&#x27;, Onehotcoder())])</pre></div></div></div><div class=\"sk-serial\"><div class=\"sk-item\"><div class=\"sk-estimator sk-toggleable\"><input class=\"sk-toggleable__control sk-hidden--visually\" id=\"sk-estimator-id-106\" type=\"checkbox\" ><label for=\"sk-estimator-id-106\" class=\"sk-toggleable__label sk-toggleable__label-arrow\">SScale</label><div class=\"sk-toggleable__content\"><pre>SScale()</pre></div></div></div><div class=\"sk-item\"><div class=\"sk-estimator sk-toggleable\"><input class=\"sk-toggleable__control sk-hidden--visually\" id=\"sk-estimator-id-107\" type=\"checkbox\" ><label for=\"sk-estimator-id-107\" class=\"sk-toggleable__label sk-toggleable__label-arrow\">Onehotcoder</label><div class=\"sk-toggleable__content\"><pre>Onehotcoder()</pre></div></div></div></div></div></div></div></div></div>"
      ],
      "text/plain": [
       "Pipeline(steps=[('pipeline-1',\n",
       "                 Pipeline(steps=[('add_col', AddColumn()),\n",
       "                                 ('impute', Impute_na()),\n",
       "                                 ('drop_col', Drop_col())])),\n",
       "                ('pipeline-2',\n",
       "                 Pipeline(steps=[('sscale', SScale()),\n",
       "                                 ('onehotcoder', Onehotcoder())]))])"
      ]
     },
     "execution_count": 532,
     "metadata": {},
     "output_type": "execute_result"
    }
   ],
   "source": [
    "data_pipe3"
   ]
  },
  {
   "cell_type": "code",
   "execution_count": 533,
   "id": "9221a9e3",
   "metadata": {
    "scrolled": false
   },
   "outputs": [
    {
     "data": {
      "text/html": [
       "<style>#sk-container-id-20 {color: black;background-color: white;}#sk-container-id-20 pre{padding: 0;}#sk-container-id-20 div.sk-toggleable {background-color: white;}#sk-container-id-20 label.sk-toggleable__label {cursor: pointer;display: block;width: 100%;margin-bottom: 0;padding: 0.3em;box-sizing: border-box;text-align: center;}#sk-container-id-20 label.sk-toggleable__label-arrow:before {content: \"▸\";float: left;margin-right: 0.25em;color: #696969;}#sk-container-id-20 label.sk-toggleable__label-arrow:hover:before {color: black;}#sk-container-id-20 div.sk-estimator:hover label.sk-toggleable__label-arrow:before {color: black;}#sk-container-id-20 div.sk-toggleable__content {max-height: 0;max-width: 0;overflow: hidden;text-align: left;background-color: #f0f8ff;}#sk-container-id-20 div.sk-toggleable__content pre {margin: 0.2em;color: black;border-radius: 0.25em;background-color: #f0f8ff;}#sk-container-id-20 input.sk-toggleable__control:checked~div.sk-toggleable__content {max-height: 200px;max-width: 100%;overflow: auto;}#sk-container-id-20 input.sk-toggleable__control:checked~label.sk-toggleable__label-arrow:before {content: \"▾\";}#sk-container-id-20 div.sk-estimator input.sk-toggleable__control:checked~label.sk-toggleable__label {background-color: #d4ebff;}#sk-container-id-20 div.sk-label input.sk-toggleable__control:checked~label.sk-toggleable__label {background-color: #d4ebff;}#sk-container-id-20 input.sk-hidden--visually {border: 0;clip: rect(1px 1px 1px 1px);clip: rect(1px, 1px, 1px, 1px);height: 1px;margin: -1px;overflow: hidden;padding: 0;position: absolute;width: 1px;}#sk-container-id-20 div.sk-estimator {font-family: monospace;background-color: #f0f8ff;border: 1px dotted black;border-radius: 0.25em;box-sizing: border-box;margin-bottom: 0.5em;}#sk-container-id-20 div.sk-estimator:hover {background-color: #d4ebff;}#sk-container-id-20 div.sk-parallel-item::after {content: \"\";width: 100%;border-bottom: 1px solid gray;flex-grow: 1;}#sk-container-id-20 div.sk-label:hover label.sk-toggleable__label {background-color: #d4ebff;}#sk-container-id-20 div.sk-serial::before {content: \"\";position: absolute;border-left: 1px solid gray;box-sizing: border-box;top: 0;bottom: 0;left: 50%;z-index: 0;}#sk-container-id-20 div.sk-serial {display: flex;flex-direction: column;align-items: center;background-color: white;padding-right: 0.2em;padding-left: 0.2em;position: relative;}#sk-container-id-20 div.sk-item {position: relative;z-index: 1;}#sk-container-id-20 div.sk-parallel {display: flex;align-items: stretch;justify-content: center;background-color: white;position: relative;}#sk-container-id-20 div.sk-item::before, #sk-container-id-20 div.sk-parallel-item::before {content: \"\";position: absolute;border-left: 1px solid gray;box-sizing: border-box;top: 0;bottom: 0;left: 50%;z-index: -1;}#sk-container-id-20 div.sk-parallel-item {display: flex;flex-direction: column;z-index: 1;position: relative;background-color: white;}#sk-container-id-20 div.sk-parallel-item:first-child::after {align-self: flex-end;width: 50%;}#sk-container-id-20 div.sk-parallel-item:last-child::after {align-self: flex-start;width: 50%;}#sk-container-id-20 div.sk-parallel-item:only-child::after {width: 0;}#sk-container-id-20 div.sk-dashed-wrapped {border: 1px dashed gray;margin: 0 0.4em 0.5em 0.4em;box-sizing: border-box;padding-bottom: 0.4em;background-color: white;}#sk-container-id-20 div.sk-label label {font-family: monospace;font-weight: bold;display: inline-block;line-height: 1.2em;}#sk-container-id-20 div.sk-label-container {text-align: center;}#sk-container-id-20 div.sk-container {/* jupyter's `normalize.less` sets `[hidden] { display: none; }` but bootstrap.min.css set `[hidden] { display: none !important; }` so we also need the `!important` here to be able to override the default hidden behavior on the sphinx rendered scikit-learn.org. See: https://github.com/scikit-learn/scikit-learn/issues/21755 */display: inline-block !important;position: relative;}#sk-container-id-20 div.sk-text-repr-fallback {display: none;}</style><div id=\"sk-container-id-20\" class=\"sk-top-container\"><div class=\"sk-text-repr-fallback\"><pre>Pipeline(steps=[(&#x27;pipeline-1&#x27;,\n",
       "                 Pipeline(steps=[(&#x27;add_col&#x27;, AddColumn()),\n",
       "                                 (&#x27;impute&#x27;, Impute_na()),\n",
       "                                 (&#x27;drop_col&#x27;, Drop_col())])),\n",
       "                (&#x27;pipeline-2&#x27;,\n",
       "                 Pipeline(steps=[(&#x27;ordinal&#x27;, Ordinal()),\n",
       "                                 (&#x27;sscale&#x27;, SScale())]))])</pre><b>In a Jupyter environment, please rerun this cell to show the HTML representation or trust the notebook. <br />On GitHub, the HTML representation is unable to render, please try loading this page with nbviewer.org.</b></div><div class=\"sk-container\" hidden><div class=\"sk-item sk-dashed-wrapped\"><div class=\"sk-label-container\"><div class=\"sk-label sk-toggleable\"><input class=\"sk-toggleable__control sk-hidden--visually\" id=\"sk-estimator-id-108\" type=\"checkbox\" ><label for=\"sk-estimator-id-108\" class=\"sk-toggleable__label sk-toggleable__label-arrow\">Pipeline</label><div class=\"sk-toggleable__content\"><pre>Pipeline(steps=[(&#x27;pipeline-1&#x27;,\n",
       "                 Pipeline(steps=[(&#x27;add_col&#x27;, AddColumn()),\n",
       "                                 (&#x27;impute&#x27;, Impute_na()),\n",
       "                                 (&#x27;drop_col&#x27;, Drop_col())])),\n",
       "                (&#x27;pipeline-2&#x27;,\n",
       "                 Pipeline(steps=[(&#x27;ordinal&#x27;, Ordinal()),\n",
       "                                 (&#x27;sscale&#x27;, SScale())]))])</pre></div></div></div><div class=\"sk-serial\"><div class=\"sk-item\"><div class=\"sk-label-container\"><div class=\"sk-label sk-toggleable\"><input class=\"sk-toggleable__control sk-hidden--visually\" id=\"sk-estimator-id-109\" type=\"checkbox\" ><label for=\"sk-estimator-id-109\" class=\"sk-toggleable__label sk-toggleable__label-arrow\">pipeline-1: Pipeline</label><div class=\"sk-toggleable__content\"><pre>Pipeline(steps=[(&#x27;add_col&#x27;, AddColumn()), (&#x27;impute&#x27;, Impute_na()),\n",
       "                (&#x27;drop_col&#x27;, Drop_col())])</pre></div></div></div><div class=\"sk-serial\"><div class=\"sk-item\"><div class=\"sk-estimator sk-toggleable\"><input class=\"sk-toggleable__control sk-hidden--visually\" id=\"sk-estimator-id-110\" type=\"checkbox\" ><label for=\"sk-estimator-id-110\" class=\"sk-toggleable__label sk-toggleable__label-arrow\">AddColumn</label><div class=\"sk-toggleable__content\"><pre>AddColumn()</pre></div></div></div><div class=\"sk-item\"><div class=\"sk-estimator sk-toggleable\"><input class=\"sk-toggleable__control sk-hidden--visually\" id=\"sk-estimator-id-111\" type=\"checkbox\" ><label for=\"sk-estimator-id-111\" class=\"sk-toggleable__label sk-toggleable__label-arrow\">Impute_na</label><div class=\"sk-toggleable__content\"><pre>Impute_na()</pre></div></div></div><div class=\"sk-item\"><div class=\"sk-estimator sk-toggleable\"><input class=\"sk-toggleable__control sk-hidden--visually\" id=\"sk-estimator-id-112\" type=\"checkbox\" ><label for=\"sk-estimator-id-112\" class=\"sk-toggleable__label sk-toggleable__label-arrow\">Drop_col</label><div class=\"sk-toggleable__content\"><pre>Drop_col()</pre></div></div></div></div></div><div class=\"sk-item\"><div class=\"sk-label-container\"><div class=\"sk-label sk-toggleable\"><input class=\"sk-toggleable__control sk-hidden--visually\" id=\"sk-estimator-id-113\" type=\"checkbox\" ><label for=\"sk-estimator-id-113\" class=\"sk-toggleable__label sk-toggleable__label-arrow\">pipeline-2: Pipeline</label><div class=\"sk-toggleable__content\"><pre>Pipeline(steps=[(&#x27;ordinal&#x27;, Ordinal()), (&#x27;sscale&#x27;, SScale())])</pre></div></div></div><div class=\"sk-serial\"><div class=\"sk-item\"><div class=\"sk-estimator sk-toggleable\"><input class=\"sk-toggleable__control sk-hidden--visually\" id=\"sk-estimator-id-114\" type=\"checkbox\" ><label for=\"sk-estimator-id-114\" class=\"sk-toggleable__label sk-toggleable__label-arrow\">Ordinal</label><div class=\"sk-toggleable__content\"><pre>Ordinal()</pre></div></div></div><div class=\"sk-item\"><div class=\"sk-estimator sk-toggleable\"><input class=\"sk-toggleable__control sk-hidden--visually\" id=\"sk-estimator-id-115\" type=\"checkbox\" ><label for=\"sk-estimator-id-115\" class=\"sk-toggleable__label sk-toggleable__label-arrow\">SScale</label><div class=\"sk-toggleable__content\"><pre>SScale()</pre></div></div></div></div></div></div></div></div></div>"
      ],
      "text/plain": [
       "Pipeline(steps=[('pipeline-1',\n",
       "                 Pipeline(steps=[('add_col', AddColumn()),\n",
       "                                 ('impute', Impute_na()),\n",
       "                                 ('drop_col', Drop_col())])),\n",
       "                ('pipeline-2',\n",
       "                 Pipeline(steps=[('ordinal', Ordinal()),\n",
       "                                 ('sscale', SScale())]))])"
      ]
     },
     "execution_count": 533,
     "metadata": {},
     "output_type": "execute_result"
    }
   ],
   "source": [
    "data_pipe1"
   ]
  },
  {
   "cell_type": "code",
   "execution_count": 534,
   "id": "f931a2ef",
   "metadata": {},
   "outputs": [
    {
     "data": {
      "text/html": [
       "<style>#sk-container-id-21 {color: black;background-color: white;}#sk-container-id-21 pre{padding: 0;}#sk-container-id-21 div.sk-toggleable {background-color: white;}#sk-container-id-21 label.sk-toggleable__label {cursor: pointer;display: block;width: 100%;margin-bottom: 0;padding: 0.3em;box-sizing: border-box;text-align: center;}#sk-container-id-21 label.sk-toggleable__label-arrow:before {content: \"▸\";float: left;margin-right: 0.25em;color: #696969;}#sk-container-id-21 label.sk-toggleable__label-arrow:hover:before {color: black;}#sk-container-id-21 div.sk-estimator:hover label.sk-toggleable__label-arrow:before {color: black;}#sk-container-id-21 div.sk-toggleable__content {max-height: 0;max-width: 0;overflow: hidden;text-align: left;background-color: #f0f8ff;}#sk-container-id-21 div.sk-toggleable__content pre {margin: 0.2em;color: black;border-radius: 0.25em;background-color: #f0f8ff;}#sk-container-id-21 input.sk-toggleable__control:checked~div.sk-toggleable__content {max-height: 200px;max-width: 100%;overflow: auto;}#sk-container-id-21 input.sk-toggleable__control:checked~label.sk-toggleable__label-arrow:before {content: \"▾\";}#sk-container-id-21 div.sk-estimator input.sk-toggleable__control:checked~label.sk-toggleable__label {background-color: #d4ebff;}#sk-container-id-21 div.sk-label input.sk-toggleable__control:checked~label.sk-toggleable__label {background-color: #d4ebff;}#sk-container-id-21 input.sk-hidden--visually {border: 0;clip: rect(1px 1px 1px 1px);clip: rect(1px, 1px, 1px, 1px);height: 1px;margin: -1px;overflow: hidden;padding: 0;position: absolute;width: 1px;}#sk-container-id-21 div.sk-estimator {font-family: monospace;background-color: #f0f8ff;border: 1px dotted black;border-radius: 0.25em;box-sizing: border-box;margin-bottom: 0.5em;}#sk-container-id-21 div.sk-estimator:hover {background-color: #d4ebff;}#sk-container-id-21 div.sk-parallel-item::after {content: \"\";width: 100%;border-bottom: 1px solid gray;flex-grow: 1;}#sk-container-id-21 div.sk-label:hover label.sk-toggleable__label {background-color: #d4ebff;}#sk-container-id-21 div.sk-serial::before {content: \"\";position: absolute;border-left: 1px solid gray;box-sizing: border-box;top: 0;bottom: 0;left: 50%;z-index: 0;}#sk-container-id-21 div.sk-serial {display: flex;flex-direction: column;align-items: center;background-color: white;padding-right: 0.2em;padding-left: 0.2em;position: relative;}#sk-container-id-21 div.sk-item {position: relative;z-index: 1;}#sk-container-id-21 div.sk-parallel {display: flex;align-items: stretch;justify-content: center;background-color: white;position: relative;}#sk-container-id-21 div.sk-item::before, #sk-container-id-21 div.sk-parallel-item::before {content: \"\";position: absolute;border-left: 1px solid gray;box-sizing: border-box;top: 0;bottom: 0;left: 50%;z-index: -1;}#sk-container-id-21 div.sk-parallel-item {display: flex;flex-direction: column;z-index: 1;position: relative;background-color: white;}#sk-container-id-21 div.sk-parallel-item:first-child::after {align-self: flex-end;width: 50%;}#sk-container-id-21 div.sk-parallel-item:last-child::after {align-self: flex-start;width: 50%;}#sk-container-id-21 div.sk-parallel-item:only-child::after {width: 0;}#sk-container-id-21 div.sk-dashed-wrapped {border: 1px dashed gray;margin: 0 0.4em 0.5em 0.4em;box-sizing: border-box;padding-bottom: 0.4em;background-color: white;}#sk-container-id-21 div.sk-label label {font-family: monospace;font-weight: bold;display: inline-block;line-height: 1.2em;}#sk-container-id-21 div.sk-label-container {text-align: center;}#sk-container-id-21 div.sk-container {/* jupyter's `normalize.less` sets `[hidden] { display: none; }` but bootstrap.min.css set `[hidden] { display: none !important; }` so we also need the `!important` here to be able to override the default hidden behavior on the sphinx rendered scikit-learn.org. See: https://github.com/scikit-learn/scikit-learn/issues/21755 */display: inline-block !important;position: relative;}#sk-container-id-21 div.sk-text-repr-fallback {display: none;}</style><div id=\"sk-container-id-21\" class=\"sk-top-container\"><div class=\"sk-text-repr-fallback\"><pre>Pipeline(steps=[(&#x27;pipeline-1&#x27;,\n",
       "                 Pipeline(steps=[(&#x27;add_col&#x27;, AddColumn()),\n",
       "                                 (&#x27;impute&#x27;, Impute_na()),\n",
       "                                 (&#x27;drop_col&#x27;, Drop_col())])),\n",
       "                (&#x27;pipeline-2&#x27;,\n",
       "                 Pipeline(steps=[(&#x27;onehotcoder&#x27;, Onehotcoder()),\n",
       "                                 (&#x27;sscale&#x27;, SScale())]))])</pre><b>In a Jupyter environment, please rerun this cell to show the HTML representation or trust the notebook. <br />On GitHub, the HTML representation is unable to render, please try loading this page with nbviewer.org.</b></div><div class=\"sk-container\" hidden><div class=\"sk-item sk-dashed-wrapped\"><div class=\"sk-label-container\"><div class=\"sk-label sk-toggleable\"><input class=\"sk-toggleable__control sk-hidden--visually\" id=\"sk-estimator-id-116\" type=\"checkbox\" ><label for=\"sk-estimator-id-116\" class=\"sk-toggleable__label sk-toggleable__label-arrow\">Pipeline</label><div class=\"sk-toggleable__content\"><pre>Pipeline(steps=[(&#x27;pipeline-1&#x27;,\n",
       "                 Pipeline(steps=[(&#x27;add_col&#x27;, AddColumn()),\n",
       "                                 (&#x27;impute&#x27;, Impute_na()),\n",
       "                                 (&#x27;drop_col&#x27;, Drop_col())])),\n",
       "                (&#x27;pipeline-2&#x27;,\n",
       "                 Pipeline(steps=[(&#x27;onehotcoder&#x27;, Onehotcoder()),\n",
       "                                 (&#x27;sscale&#x27;, SScale())]))])</pre></div></div></div><div class=\"sk-serial\"><div class=\"sk-item\"><div class=\"sk-label-container\"><div class=\"sk-label sk-toggleable\"><input class=\"sk-toggleable__control sk-hidden--visually\" id=\"sk-estimator-id-117\" type=\"checkbox\" ><label for=\"sk-estimator-id-117\" class=\"sk-toggleable__label sk-toggleable__label-arrow\">pipeline-1: Pipeline</label><div class=\"sk-toggleable__content\"><pre>Pipeline(steps=[(&#x27;add_col&#x27;, AddColumn()), (&#x27;impute&#x27;, Impute_na()),\n",
       "                (&#x27;drop_col&#x27;, Drop_col())])</pre></div></div></div><div class=\"sk-serial\"><div class=\"sk-item\"><div class=\"sk-estimator sk-toggleable\"><input class=\"sk-toggleable__control sk-hidden--visually\" id=\"sk-estimator-id-118\" type=\"checkbox\" ><label for=\"sk-estimator-id-118\" class=\"sk-toggleable__label sk-toggleable__label-arrow\">AddColumn</label><div class=\"sk-toggleable__content\"><pre>AddColumn()</pre></div></div></div><div class=\"sk-item\"><div class=\"sk-estimator sk-toggleable\"><input class=\"sk-toggleable__control sk-hidden--visually\" id=\"sk-estimator-id-119\" type=\"checkbox\" ><label for=\"sk-estimator-id-119\" class=\"sk-toggleable__label sk-toggleable__label-arrow\">Impute_na</label><div class=\"sk-toggleable__content\"><pre>Impute_na()</pre></div></div></div><div class=\"sk-item\"><div class=\"sk-estimator sk-toggleable\"><input class=\"sk-toggleable__control sk-hidden--visually\" id=\"sk-estimator-id-120\" type=\"checkbox\" ><label for=\"sk-estimator-id-120\" class=\"sk-toggleable__label sk-toggleable__label-arrow\">Drop_col</label><div class=\"sk-toggleable__content\"><pre>Drop_col()</pre></div></div></div></div></div><div class=\"sk-item\"><div class=\"sk-label-container\"><div class=\"sk-label sk-toggleable\"><input class=\"sk-toggleable__control sk-hidden--visually\" id=\"sk-estimator-id-121\" type=\"checkbox\" ><label for=\"sk-estimator-id-121\" class=\"sk-toggleable__label sk-toggleable__label-arrow\">pipeline-2: Pipeline</label><div class=\"sk-toggleable__content\"><pre>Pipeline(steps=[(&#x27;onehotcoder&#x27;, Onehotcoder()), (&#x27;sscale&#x27;, SScale())])</pre></div></div></div><div class=\"sk-serial\"><div class=\"sk-item\"><div class=\"sk-estimator sk-toggleable\"><input class=\"sk-toggleable__control sk-hidden--visually\" id=\"sk-estimator-id-122\" type=\"checkbox\" ><label for=\"sk-estimator-id-122\" class=\"sk-toggleable__label sk-toggleable__label-arrow\">Onehotcoder</label><div class=\"sk-toggleable__content\"><pre>Onehotcoder()</pre></div></div></div><div class=\"sk-item\"><div class=\"sk-estimator sk-toggleable\"><input class=\"sk-toggleable__control sk-hidden--visually\" id=\"sk-estimator-id-123\" type=\"checkbox\" ><label for=\"sk-estimator-id-123\" class=\"sk-toggleable__label sk-toggleable__label-arrow\">SScale</label><div class=\"sk-toggleable__content\"><pre>SScale()</pre></div></div></div></div></div></div></div></div></div>"
      ],
      "text/plain": [
       "Pipeline(steps=[('pipeline-1',\n",
       "                 Pipeline(steps=[('add_col', AddColumn()),\n",
       "                                 ('impute', Impute_na()),\n",
       "                                 ('drop_col', Drop_col())])),\n",
       "                ('pipeline-2',\n",
       "                 Pipeline(steps=[('onehotcoder', Onehotcoder()),\n",
       "                                 ('sscale', SScale())]))])"
      ]
     },
     "execution_count": 534,
     "metadata": {},
     "output_type": "execute_result"
    }
   ],
   "source": [
    "data_pipe2"
   ]
  },
  {
   "cell_type": "markdown",
   "id": "abe60cd7",
   "metadata": {},
   "source": [
    "## 6. 모델 선택과 훈련"
   ]
  },
  {
   "cell_type": "markdown",
   "id": "c5a4167c",
   "metadata": {},
   "source": [
    "### 분류 모델\n",
    "- 로지스틱\n",
    "- 나이브 베이즈 \n",
    "- 결정트리\n",
    "- 서포트 벡터머신SVM\n",
    "- KNN 알고리즘\n",
    "- 랜덤 포레스트\n",
    "- 결정트리\n",
    "- 확률적 경사하강법\n",
    "\n"
   ]
  },
  {
   "cell_type": "code",
   "execution_count": 535,
   "id": "13944e7e",
   "metadata": {},
   "outputs": [],
   "source": [
    "from sklearn.linear_model import  LogisticRegression,SGDClassifier\n",
    "from sklearn.neighbors import KNeighborsClassifier\n",
    "from sklearn.svm import SVC\n",
    "from sklearn.tree import DecisionTreeClassifier\n",
    "from sklearn.ensemble import RandomForestClassifier\n",
    "from sklearn.naive_bayes import GaussianNB\n",
    "from sklearn.preprocessing import PolynomialFeatures\n",
    "from sklearn.model_selection import train_test_split,GridSearchCV, RandomizedSearchCV, StratifiedKFold,KFold, cross_val_score\n",
    "from sklearn.metrics import accuracy_score, confusion_matrix, recall_score, precision_score, f1_score\n",
    "from sklearn.ensemble import VotingClassifier\n",
    "from sklearn.ensemble import BaggingClassifier\n",
    "from sklearn.metrics import classification_report\n",
    "from sklearn.ensemble import GradientBoostingClassifier\n",
    "import random\n",
    "import catboost as ctb\n",
    "import graphviz\n",
    "from sklearn.tree import export_graphviz\n"
   ]
  },
  {
   "cell_type": "code",
   "execution_count": 536,
   "id": "651c6286",
   "metadata": {},
   "outputs": [],
   "source": [
    "X_o=pd.read_csv('./spaceship-titanic/train.csv')\n",
    "test=pd.read_csv('./spaceship-titanic/test.csv')"
   ]
  },
  {
   "cell_type": "code",
   "execution_count": 537,
   "id": "99e63f59",
   "metadata": {
    "scrolled": true
   },
   "outputs": [],
   "source": [
    "#자료준비\n",
    "y_train= X_o.Transported.copy()\n",
    "X=X_o.drop('Transported',axis=1).copy()\n",
    "# X_train=prepro(X)\n",
    "# X_test=prepro(test)\n"
   ]
  },
  {
   "cell_type": "code",
   "execution_count": 538,
   "id": "a0005a1c",
   "metadata": {
    "scrolled": true
   },
   "outputs": [
    {
     "data": {
      "text/plain": [
       "((8693, 14), (8693, 28), (8693, 28))"
      ]
     },
     "execution_count": 538,
     "metadata": {},
     "output_type": "execute_result"
    }
   ],
   "source": [
    "data_pipe1.fit_transform(X).shape,data_pipe2.fit_transform(X).shape,data_pipe3.fit_transform(X).shape"
   ]
  },
  {
   "cell_type": "code",
   "execution_count": 539,
   "id": "1c313444",
   "metadata": {},
   "outputs": [],
   "source": [
    "# #원핫 후 정규화 \n",
    "# std(onencode(X_train))\n",
    "# #정규화 후 원핫\n",
    "# onencode(std(X_train))"
   ]
  },
  {
   "cell_type": "code",
   "execution_count": 540,
   "id": "684460d2",
   "metadata": {
    "scrolled": true
   },
   "outputs": [],
   "source": [
    "# #ordinal 후 정규화 \n",
    "# std(orencode(X_train))\n",
    "# #정규화 후 원핫\n",
    "# orencode(std(X_train))"
   ]
  },
  {
   "cell_type": "code",
   "execution_count": 541,
   "id": "f0155604",
   "metadata": {},
   "outputs": [],
   "source": [
    "lg=LogisticRegression()\n",
    "kn=KNeighborsClassifier()\n",
    "svc=SVC(kernel = 'linear')\n",
    "rf=RandomForestClassifier()\n",
    "dt=DecisionTreeClassifier()\n",
    "sgd=SGDClassifier()\n",
    "GB=GradientBoostingClassifier()"
   ]
  },
  {
   "cell_type": "code",
   "execution_count": 542,
   "id": "5309ce54",
   "metadata": {},
   "outputs": [],
   "source": [
    "# X_train=onencode(std(X_train)).copy()\n",
    "# X_test=onencode(std(X_test)).copy()\n",
    "X_train=data_pipe2.fit_transform(X)\n",
    "X_test=data_pipe2.fit_transform(test)"
   ]
  },
  {
   "cell_type": "code",
   "execution_count": 543,
   "id": "b643d839",
   "metadata": {},
   "outputs": [
    {
     "data": {
      "text/plain": [
       "((8693, 28), (8693,), (4277, 28))"
      ]
     },
     "execution_count": 543,
     "metadata": {},
     "output_type": "execute_result"
    }
   ],
   "source": [
    "X_train.shape, y_train.shape,X_test.shape"
   ]
  },
  {
   "cell_type": "code",
   "execution_count": 544,
   "id": "05201290",
   "metadata": {},
   "outputs": [],
   "source": [
    "# y_train.astype('int')\n",
    "# y_train=y_train.astype('int').copy()\n",
    "# X_train"
   ]
  },
  {
   "cell_type": "markdown",
   "id": "625071f4",
   "metadata": {},
   "source": [
    "## K Fold 검증"
   ]
  },
  {
   "cell_type": "code",
   "execution_count": 545,
   "id": "b4bda53d",
   "metadata": {
    "scrolled": false
   },
   "outputs": [
    {
     "name": "stdout",
     "output_type": "stream",
     "text": [
      "LogisticRegression()\n",
      "평균 정확도 :  0.7896021747085576\n",
      "KNeighborsClassifier()\n",
      "평균 정확도 :  0.7617608230858972\n",
      "SVC()\n",
      "평균 정확도 :  0.7978832589659415\n",
      "RandomForestClassifier()\n",
      "평균 정확도 :  0.7885651780615422\n",
      "DecisionTreeClassifier()\n",
      "평균 정확도 :  0.7280577372416854\n",
      "SGDClassifier()\n",
      "평균 정확도 :  0.7786720540289083\n",
      "GaussianNB()\n",
      "평균 정확도 :  0.7109196653500451\n",
      "GradientBoostingClassifier()\n",
      "평균 정확도 :  0.800416492686894\n"
     ]
    }
   ],
   "source": [
    "random.seed=42\n",
    "models={'lg': 'LogisticRegression()','kn':'KNeighborsClassifier()','svc':'SVC()','rf':'RandomForestClassifier()'\n",
    "        ,'dt':'DecisionTreeClassifier()','sgd':'SGDClassifier()','gaussian':'GaussianNB()','GB':'GradientBoostingClassifier()'}\n",
    "\n",
    "for i,v in models.items():\n",
    "    accuracy_list = []\n",
    "\n",
    "    i = v\n",
    "    t=eval(i)\n",
    "    kfold = KFold(n_splits=5, shuffle=True)\n",
    "    for train_index, valid_index in kfold.split(X_train):  #  <--------변수 위치 \n",
    "        # 훈련(학습)\n",
    "            \n",
    "        X_t, y_t = X_train.loc[train_index], y_train.loc[train_index] # 4/5\n",
    "        X_v, y_v = X_train.loc[valid_index], y_train.loc[valid_index] # 1/5 \n",
    "        t.fit(X_t, y_t)\n",
    "\n",
    "\n",
    "        # 예측과 평가(정확도)\n",
    "        pred = t.predict(X_v)\n",
    "        accuracy = accuracy_score(y_v, pred)\n",
    "        accuracy_list.append(accuracy)\n",
    "    print(i)    \n",
    "    print(\"평균 정확도 : \", np.mean(accuracy_list))"
   ]
  },
  {
   "cell_type": "markdown",
   "id": "bc2bd9bd",
   "metadata": {},
   "source": [
    "## StratifiedKFold"
   ]
  },
  {
   "cell_type": "code",
   "execution_count": 546,
   "id": "09ce2439",
   "metadata": {},
   "outputs": [
    {
     "name": "stdout",
     "output_type": "stream",
     "text": [
      "LogisticRegression()\n",
      "평균 정확도 :  0.791209847067644\n",
      "KNeighborsClassifier()\n",
      "평균 정확도 :  0.8361897999657224\n",
      "SVC()\n",
      "평균 정확도 :  0.8124942512230419\n",
      "RandomForestClassifier()\n",
      "평균 정확도 :  0.9648000153521294\n",
      "DecisionTreeClassifier()\n",
      "평균 정확도 :  0.9646851390724269\n",
      "SGDClassifier()\n",
      "평균 정확도 :  0.7893688488086548\n",
      "GaussianNB()\n",
      "평균 정확도 :  0.7327732894121259\n",
      "GradientBoostingClassifier()\n",
      "평균 정확도 :  0.8161725420545782\n"
     ]
    }
   ],
   "source": [
    "random.seed=42\n",
    "models={'lg': 'LogisticRegression()','kn':'KNeighborsClassifier()','svc':'SVC()','rf':'RandomForestClassifier()'\n",
    "        ,'dt':'DecisionTreeClassifier()','sgd':'SGDClassifier()','gaussian':'GaussianNB()','GB':'GradientBoostingClassifier()'}\n",
    "for i,v in models.items():\n",
    "    accuracy_list = []\n",
    "\n",
    "    i = v\n",
    "    t=eval(i)\n",
    "    \n",
    "    skfold = StratifiedKFold(n_splits=5, shuffle=True)\n",
    "    for train_index, valid_index in skfold.split(X_train, y_train):\n",
    "        # 훈련(학습)\n",
    "        X_t, y_t = X_train.loc[train_index], y_train.loc[train_index] # 4/5\n",
    "        X_v, y_v = X_train.loc[valid_index], y_train.loc[valid_index] # 1/5\n",
    "        t.fit(X_train, y_train)\n",
    "\n",
    "\n",
    "        # 예측과 평가(정확도)\n",
    "        pred = t.predict(X_v)\n",
    "        accuracy = accuracy_score(y_v, pred)\n",
    "        accuracy_list.append(accuracy)\n",
    "\n",
    "    \n",
    "    print(i) \n",
    "    print(\"평균 정확도 : \", np.mean(accuracy_list))"
   ]
  },
  {
   "cell_type": "markdown",
   "id": "e2fb26e3",
   "metadata": {},
   "source": [
    "##  cross_val_score"
   ]
  },
  {
   "cell_type": "code",
   "execution_count": 547,
   "id": "66bab6c7",
   "metadata": {},
   "outputs": [
    {
     "name": "stdout",
     "output_type": "stream",
     "text": [
      "LogisticRegression()\n",
      "평균 정확도 :  0.7868408427525044\n",
      "KNeighborsClassifier()\n",
      "평균 정확도 :  0.7588864676933624\n",
      "SVC()\n",
      "평균 정확도 :  0.7904082276826687\n",
      "RandomForestClassifier()\n",
      "평균 정확도 :  0.7830444993386012\n",
      "DecisionTreeClassifier()\n",
      "평균 정확도 :  0.7293229644697461\n",
      "SGDClassifier()\n",
      "평균 정확도 :  0.7789041226423397\n",
      "GaussianNB()\n",
      "평균 정확도 :  0.7102341133582717\n",
      "GradientBoostingClassifier()\n",
      "평균 정확도 :  0.7968503650432011\n"
     ]
    }
   ],
   "source": [
    "random.seed=42\n",
    "models={'lg': 'LogisticRegression()','kn':'KNeighborsClassifier()','svc':'SVC()','rf':'RandomForestClassifier()'\n",
    "        ,'dt':'DecisionTreeClassifier()','sgd':'SGDClassifier()','gaussian':'GaussianNB()','GB':'GradientBoostingClassifier()'}\n",
    "for i,v in models.items():\n",
    "    accuracy_list = []\n",
    "\n",
    "    i = v\n",
    "    t=eval(i)\n",
    "    scores = cross_val_score(t, X_train, y_train, scoring=\"accuracy\", cv=5) # scoring은 검증 데이터를 어떤 성능 지표로 평가할지\n",
    "\n",
    "    print(i)\n",
    "    print(\"평균 정확도 : \", np.mean(scores))"
   ]
  },
  {
   "cell_type": "markdown",
   "id": "b3fcdd4f",
   "metadata": {},
   "source": [
    "##  하드보팅"
   ]
  },
  {
   "cell_type": "code",
   "execution_count": 548,
   "id": "512fd36c",
   "metadata": {},
   "outputs": [
    {
     "name": "stdout",
     "output_type": "stream",
     "text": [
      "LogisticRegression 0.7955964508708512\n",
      "RandomForestClassifier 0.7767006243838317\n",
      "SVC 0.7817942819585935\n",
      "VotingClassifier 0.7985540584949063\n"
     ]
    }
   ],
   "source": [
    "log_clf = LogisticRegression(random_state=42)\n",
    "rnd_clf = RandomForestClassifier(random_state=42)\n",
    "svm_clf = SVC(probability=True, random_state=42)\n",
    "voting_clf = VotingClassifier(\n",
    "                estimators=[('lr', log_clf), ('rf', rnd_clf), ('svm', svm_clf)],\n",
    "                voting='hard'    \n",
    ")\n",
    "\n",
    "X_tt,X_td,y_tt,y_td=train_test_split(X_train,y_train,train_size=0.3,shuffle=True)\n",
    "\n",
    "for clf in (log_clf, rnd_clf, svm_clf, voting_clf):\n",
    "  clf.fit(X_tt, y_tt)\n",
    "  y_pred = clf.predict(X_td)\n",
    "  print(clf.__class__.__name__, accuracy_score(y_td, y_pred))"
   ]
  },
  {
   "cell_type": "markdown",
   "id": "bac96e4c",
   "metadata": {},
   "source": [
    "## 소프트보팅\n"
   ]
  },
  {
   "cell_type": "code",
   "execution_count": 549,
   "id": "dda6d33a",
   "metadata": {},
   "outputs": [
    {
     "name": "stdout",
     "output_type": "stream",
     "text": [
      "LogisticRegression 0.7821229050279329\n",
      "RandomForestClassifier 0.7829444627012816\n",
      "SVC 0.7893526125534013\n",
      "VotingClassifier 0.8005257969109432\n"
     ]
    }
   ],
   "source": [
    "log_clf = LogisticRegression(random_state=42)\n",
    "rnd_clf = RandomForestClassifier(random_state=42)\n",
    "svm_clf = SVC(probability=True, random_state=42)\n",
    "voting_clf = VotingClassifier(\n",
    "                estimators=[('lr', log_clf), ('rf', rnd_clf), ('svm', svm_clf)],\n",
    "                voting='soft'    \n",
    ")\n",
    "\n",
    "X_tt,X_td,y_tt,y_td=train_test_split(X_train,y_train,train_size=0.3,shuffle=True)\n",
    "\n",
    "for clf in (log_clf, rnd_clf, svm_clf, voting_clf):\n",
    "  clf.fit(X_tt, y_tt)\n",
    "  y_pred = clf.predict(X_td)\n",
    "  print(clf.__class__.__name__, accuracy_score(y_td, y_pred))"
   ]
  },
  {
   "cell_type": "markdown",
   "id": "865829a6",
   "metadata": {},
   "source": [
    "## train 나눠서 하기  train_size=0.3"
   ]
  },
  {
   "cell_type": "code",
   "execution_count": 550,
   "id": "2f9e20ab",
   "metadata": {},
   "outputs": [
    {
     "name": "stdout",
     "output_type": "stream",
     "text": [
      "LogisticRegression() 0.7909957279000985\n",
      "KNeighborsClassifier() 0.7541899441340782\n",
      "SVC() 0.7909957279000985\n",
      "RandomForestClassifier() 0.7827801511666119\n",
      "DecisionTreeClassifier() 0.7209990141307919\n",
      "SGDClassifier() 0.7395662175484718\n",
      "GradientBoostingClassifier() 0.7921459086427868\n",
      "GaussianNB() 0.7346368715083799\n"
     ]
    }
   ],
   "source": [
    "#train 나눠서 하기  train_size=0.3\n",
    "\n",
    "models={'lg': 'LogisticRegression()','kn':'KNeighborsClassifier()','svc':'SVC()','rf':'RandomForestClassifier()'\n",
    "        ,'dt':'DecisionTreeClassifier()','sgd':'SGDClassifier()','GB':'GradientBoostingClassifier()','gaussian':'GaussianNB()'}\n",
    "\n",
    "estimators=[]\n",
    "for i,v in models.items():\n",
    "    \n",
    "    istr=i\n",
    "    i = v\n",
    "    t=eval(i)\n",
    "    estimators.append((istr,t))\n",
    "\n",
    "\n",
    "\n",
    "X_tt,X_td,y_tt,y_td=train_test_split(X_train,y_train,train_size=0.3,shuffle=True)\n",
    "\n",
    "for a,b in estimators:\n",
    "  b.fit(X_tt, y_tt)\n",
    "  y_pred = b.predict(X_td)\n",
    "  print(b, accuracy_score(y_td, y_pred))"
   ]
  },
  {
   "cell_type": "code",
   "execution_count": 551,
   "id": "70ee69d4",
   "metadata": {},
   "outputs": [
    {
     "name": "stdout",
     "output_type": "stream",
     "text": [
      "LogisticRegression 0.793789023989484\n",
      "RandomForestClassifier 0.7857377587906671\n",
      "SVC 0.7877094972067039\n",
      "VotingClassifier 0.799375616168255\n"
     ]
    }
   ],
   "source": [
    "## 소프트보팅\n",
    "\n",
    "\n",
    "log_clf = LogisticRegression(random_state=42)\n",
    "rnd_clf = RandomForestClassifier(random_state=42)\n",
    "svm_clf = SVC(probability=True, random_state=42)\n",
    "voting_clf = VotingClassifier(\n",
    "                estimators=[('lr', log_clf), ('rf', rnd_clf), ('svm', svm_clf)],\n",
    "                voting='soft'    \n",
    ")\n",
    "\n",
    "X_tt,X_td,y_tt,y_td=train_test_split(X_train,y_train,train_size=0.3,shuffle=True)\n",
    "\n",
    "for clf in (log_clf, rnd_clf, svm_clf, voting_clf):\n",
    "  clf.fit(X_tt, y_tt)\n",
    "  y_pred = clf.predict(X_td)\n",
    "  print(clf.__class__.__name__, accuracy_score(y_td, y_pred))"
   ]
  },
  {
   "cell_type": "code",
   "execution_count": 552,
   "id": "211f8af8",
   "metadata": {},
   "outputs": [],
   "source": [
    "#voting_clf 에 너무 많은 걸 넣으면 돌아가지 않음"
   ]
  },
  {
   "cell_type": "markdown",
   "id": "8c4826b5",
   "metadata": {},
   "source": [
    "## 배깅클래스파이어"
   ]
  },
  {
   "cell_type": "code",
   "execution_count": 553,
   "id": "6d8432ac",
   "metadata": {},
   "outputs": [
    {
     "name": "stdout",
     "output_type": "stream",
     "text": [
      "훈련 세트 정확도 : 0.794\n",
      "테스트 세트 정확도 : 0.804\n",
      "OOB 샘플의 정확도 : 0.796\n"
     ]
    }
   ],
   "source": [
    "X_tt,X_td,y_tt,y_td=train_test_split(X_train,y_train,train_size=0.3,shuffle=True)\n",
    "\n",
    "\n",
    "bag_clf = BaggingClassifier(\n",
    "            DecisionTreeClassifier(max_leaf_nodes=16,random_state=42), n_estimators=500,\n",
    "            max_samples=100, bootstrap=True, oob_score=True,random_state=42, n_jobs=-1\n",
    "            \n",
    "          )\n",
    "bag_clf.fit(X_train, y_train)\n",
    "\n",
    "print(\"훈련 세트 정확도 : {:.3f}\".format(bag_clf.score(X_tt, y_tt)))\n",
    "print(\"테스트 세트 정확도 : {:.3f}\".format(bag_clf.score(X_td, y_td)))\n",
    "print(\"OOB 샘플의 정확도 : {:.3f}\".format(bag_clf.oob_score_))"
   ]
  },
  {
   "cell_type": "markdown",
   "id": "dc565ab8",
   "metadata": {},
   "source": [
    "- Out‐of‐Bag 샘플은 부트스트랩 샘플링 과정에서 추출되지 않은 데이터"
   ]
  },
  {
   "cell_type": "code",
   "execution_count": 554,
   "id": "55a8918e",
   "metadata": {
    "scrolled": true
   },
   "outputs": [
    {
     "data": {
      "image/png": "[encoded data removed]",
      "text/plain": [
       "<Figure size 1000x500 with 1 Axes>"
      ]
     },
     "metadata": {},
     "output_type": "display_data"
    },
    {
     "name": "stdout",
     "output_type": "stream",
     "text": [
      "훈련 세트 정확도 : 0.791\n",
      "테스트 세트 정확도 : 0.776\n"
     ]
    }
   ],
   "source": [
    "#랜덤 포레스트로 정리한 컨퓨전 매트릭스\n",
    "rnd_clf = RandomForestClassifier(n_estimators=500, max_leaf_nodes=16, random_state=42, n_jobs=-1)\n",
    "X_tt,X_td,y_tt,y_td=train_test_split(X_train,y_train,train_size=0.3,shuffle=True)\n",
    "\n",
    "rnd_clf.fit(X_tt, y_tt)\n",
    "\n",
    "\n",
    "y_pred = rnd_clf.predict(X_td)\n",
    "accuracy_score(y_td, y_pred)\n",
    "plt.figure(figsize=(10,5))\n",
    "sns.heatmap(confusion_matrix(y_td,y_pred), annot=True, fmt='d', cmap='Greens',cbar=False).set_title('Confusion Matrix', fontsize=16)\n",
    "plt.show()\n",
    "\n",
    "print(\"훈련 세트 정확도 : {:.3f}\".format(rnd_clf.score(X_tt, y_tt)))\n",
    "print(\"테스트 세트 정확도 : {:.3f}\".format(rnd_clf.score(X_td, y_td)))\n"
   ]
  },
  {
   "cell_type": "code",
   "execution_count": 555,
   "id": "04daeeea",
   "metadata": {},
   "outputs": [
    {
     "data": {
      "text/plain": [
       "0       False\n",
       "1        True\n",
       "2       False\n",
       "3       False\n",
       "4        True\n",
       "        ...  \n",
       "8688    False\n",
       "8689    False\n",
       "8690     True\n",
       "8691    False\n",
       "8692     True\n",
       "Name: Transported, Length: 8693, dtype: bool"
      ]
     },
     "execution_count": 555,
     "metadata": {},
     "output_type": "execute_result"
    }
   ],
   "source": [
    "y_train"
   ]
  },
  {
   "cell_type": "code",
   "execution_count": 556,
   "id": "3e20df16",
   "metadata": {},
   "outputs": [],
   "source": [
    "# 결정트리 한번 뽑아보기"
   ]
  },
  {
   "cell_type": "code",
   "execution_count": 557,
   "id": "46c1b3b4",
   "metadata": {},
   "outputs": [
    {
     "data": {
      "image/svg+xml": [
       "<?xml version=\"1.0\" encoding=\"UTF-8\" standalone=\"no\"?>\n",
       "<!DOCTYPE svg PUBLIC \"-//W3C//DTD SVG 1.1//EN\"\n",
       " \"http://www.w3.org/Graphics/SVG/1.1/DTD/svg11.dtd\">\n",
       "<!-- Generated by graphviz version 2.50.0 (0)\n",
       " -->\n",
       "<!-- Title: Tree Pages: 1 -->\n",
       "<svg width=\"585pt\" height=\"314pt\"\n",
       " viewBox=\"0.00 0.00 585.00 314.00\" xmlns=\"http://www.w3.org/2000/svg\" xmlns:xlink=\"http://www.w3.org/1999/xlink\">\n",
       "<g id=\"graph0\" class=\"graph\" transform=\"scale(1 1) rotate(0) translate(4 310)\">\n",
       "<title>Tree</title>\n",
       "<polygon fill=\"white\" stroke=\"transparent\" points=\"-4,4 -4,-310 581,-310 581,4 -4,4\"/>\n",
       "<!-- 0 -->\n",
       "<g id=\"node1\" class=\"node\">\n",
       "<title>0</title>\n",
       "<path fill=\"#fcfeff\" stroke=\"black\" d=\"M339,-306C339,-306 223,-306 223,-306 217,-306 211,-300 211,-294 211,-294 211,-235 211,-235 211,-229 217,-223 223,-223 223,-223 339,-223 339,-223 345,-223 351,-229 351,-235 351,-235 351,-294 351,-294 351,-300 345,-306 339,-306\"/>\n",
       "<text text-anchor=\"middle\" x=\"281\" y=\"-290.8\" font-family=\"Helvetica,sans-Serif\" font-size=\"14.00\">X[11] &lt;= &#45;0.316</text>\n",
       "<text text-anchor=\"middle\" x=\"281\" y=\"-275.8\" font-family=\"Helvetica,sans-Serif\" font-size=\"14.00\">gini = 0.5</text>\n",
       "<text text-anchor=\"middle\" x=\"281\" y=\"-260.8\" font-family=\"Helvetica,sans-Serif\" font-size=\"14.00\">samples = 8693</text>\n",
       "<text text-anchor=\"middle\" x=\"281\" y=\"-245.8\" font-family=\"Helvetica,sans-Serif\" font-size=\"14.00\">value = [4315, 4378]</text>\n",
       "<text text-anchor=\"middle\" x=\"281\" y=\"-230.8\" font-family=\"Helvetica,sans-Serif\" font-size=\"14.00\">class = True</text>\n",
       "</g>\n",
       "<!-- 1 -->\n",
       "<g id=\"node2\" class=\"node\">\n",
       "<title>1</title>\n",
       "<path fill=\"#65b3eb\" stroke=\"black\" d=\"M258,-187C258,-187 150,-187 150,-187 144,-187 138,-181 138,-175 138,-175 138,-116 138,-116 138,-110 144,-104 150,-104 150,-104 258,-104 258,-104 264,-104 270,-110 270,-116 270,-116 270,-175 270,-175 270,-181 264,-187 258,-187\"/>\n",
       "<text text-anchor=\"middle\" x=\"204\" y=\"-171.8\" font-family=\"Helvetica,sans-Serif\" font-size=\"14.00\">X[8] &lt;= &#45;0.106</text>\n",
       "<text text-anchor=\"middle\" x=\"204\" y=\"-156.8\" font-family=\"Helvetica,sans-Serif\" font-size=\"14.00\">gini = 0.298</text>\n",
       "<text text-anchor=\"middle\" x=\"204\" y=\"-141.8\" font-family=\"Helvetica,sans-Serif\" font-size=\"14.00\">samples = 3037</text>\n",
       "<text text-anchor=\"middle\" x=\"204\" y=\"-126.8\" font-family=\"Helvetica,sans-Serif\" font-size=\"14.00\">value = [554, 2483]</text>\n",
       "<text text-anchor=\"middle\" x=\"204\" y=\"-111.8\" font-family=\"Helvetica,sans-Serif\" font-size=\"14.00\">class = True</text>\n",
       "</g>\n",
       "<!-- 0&#45;&gt;1 -->\n",
       "<g id=\"edge1\" class=\"edge\">\n",
       "<title>0&#45;&gt;1</title>\n",
       "<path fill=\"none\" stroke=\"black\" d=\"M254.29,-222.91C248.49,-214.1 242.3,-204.7 236.32,-195.61\"/>\n",
       "<polygon fill=\"black\" stroke=\"black\" points=\"239.09,-193.45 230.67,-187.02 233.24,-197.3 239.09,-193.45\"/>\n",
       "<text text-anchor=\"middle\" x=\"225.62\" y=\"-207.81\" font-family=\"Helvetica,sans-Serif\" font-size=\"14.00\">True</text>\n",
       "</g>\n",
       "<!-- 4 -->\n",
       "<g id=\"node5\" class=\"node\">\n",
       "<title>4</title>\n",
       "<path fill=\"#f2c09d\" stroke=\"black\" d=\"M416,-187C416,-187 300,-187 300,-187 294,-187 288,-181 288,-175 288,-175 288,-116 288,-116 288,-110 294,-104 300,-104 300,-104 416,-104 416,-104 422,-104 428,-110 428,-116 428,-116 428,-175 428,-175 428,-181 422,-187 416,-187\"/>\n",
       "<text text-anchor=\"middle\" x=\"358\" y=\"-171.8\" font-family=\"Helvetica,sans-Serif\" font-size=\"14.00\">X[1] &lt;= 0.192</text>\n",
       "<text text-anchor=\"middle\" x=\"358\" y=\"-156.8\" font-family=\"Helvetica,sans-Serif\" font-size=\"14.00\">gini = 0.446</text>\n",
       "<text text-anchor=\"middle\" x=\"358\" y=\"-141.8\" font-family=\"Helvetica,sans-Serif\" font-size=\"14.00\">samples = 5656</text>\n",
       "<text text-anchor=\"middle\" x=\"358\" y=\"-126.8\" font-family=\"Helvetica,sans-Serif\" font-size=\"14.00\">value = [3761, 1895]</text>\n",
       "<text text-anchor=\"middle\" x=\"358\" y=\"-111.8\" font-family=\"Helvetica,sans-Serif\" font-size=\"14.00\">class = False</text>\n",
       "</g>\n",
       "<!-- 0&#45;&gt;4 -->\n",
       "<g id=\"edge4\" class=\"edge\">\n",
       "<title>0&#45;&gt;4</title>\n",
       "<path fill=\"none\" stroke=\"black\" d=\"M307.71,-222.91C313.51,-214.1 319.7,-204.7 325.68,-195.61\"/>\n",
       "<polygon fill=\"black\" stroke=\"black\" points=\"328.76,-197.3 331.33,-187.02 322.91,-193.45 328.76,-197.3\"/>\n",
       "<text text-anchor=\"middle\" x=\"336.38\" y=\"-207.81\" font-family=\"Helvetica,sans-Serif\" font-size=\"14.00\">False</text>\n",
       "</g>\n",
       "<!-- 2 -->\n",
       "<g id=\"node3\" class=\"node\">\n",
       "<title>2</title>\n",
       "<path fill=\"#42a1e6\" stroke=\"black\" d=\"M112,-68C112,-68 12,-68 12,-68 6,-68 0,-62 0,-56 0,-56 0,-12 0,-12 0,-6 6,0 12,0 12,0 112,0 112,0 118,0 124,-6 124,-12 124,-12 124,-56 124,-56 124,-62 118,-68 112,-68\"/>\n",
       "<text text-anchor=\"middle\" x=\"62\" y=\"-52.8\" font-family=\"Helvetica,sans-Serif\" font-size=\"14.00\">gini = 0.084</text>\n",
       "<text text-anchor=\"middle\" x=\"62\" y=\"-37.8\" font-family=\"Helvetica,sans-Serif\" font-size=\"14.00\">samples = 1580</text>\n",
       "<text text-anchor=\"middle\" x=\"62\" y=\"-22.8\" font-family=\"Helvetica,sans-Serif\" font-size=\"14.00\">value = [69, 1511]</text>\n",
       "<text text-anchor=\"middle\" x=\"62\" y=\"-7.8\" font-family=\"Helvetica,sans-Serif\" font-size=\"14.00\">class = True</text>\n",
       "</g>\n",
       "<!-- 1&#45;&gt;2 -->\n",
       "<g id=\"edge2\" class=\"edge\">\n",
       "<title>1&#45;&gt;2</title>\n",
       "<path fill=\"none\" stroke=\"black\" d=\"M151.12,-103.73C138.71,-94.15 125.49,-83.96 113.15,-74.44\"/>\n",
       "<polygon fill=\"black\" stroke=\"black\" points=\"115.24,-71.63 105.18,-68.3 110.96,-77.18 115.24,-71.63\"/>\n",
       "</g>\n",
       "<!-- 3 -->\n",
       "<g id=\"node4\" class=\"node\">\n",
       "<title>3</title>\n",
       "<path fill=\"#9ccef2\" stroke=\"black\" d=\"M255.5,-68C255.5,-68 154.5,-68 154.5,-68 148.5,-68 142.5,-62 142.5,-56 142.5,-56 142.5,-12 142.5,-12 142.5,-6 148.5,0 154.5,0 154.5,0 255.5,0 255.5,0 261.5,0 267.5,-6 267.5,-12 267.5,-12 267.5,-56 267.5,-56 267.5,-62 261.5,-68 255.5,-68\"/>\n",
       "<text text-anchor=\"middle\" x=\"205\" y=\"-52.8\" font-family=\"Helvetica,sans-Serif\" font-size=\"14.00\">gini = 0.444</text>\n",
       "<text text-anchor=\"middle\" x=\"205\" y=\"-37.8\" font-family=\"Helvetica,sans-Serif\" font-size=\"14.00\">samples = 1457</text>\n",
       "<text text-anchor=\"middle\" x=\"205\" y=\"-22.8\" font-family=\"Helvetica,sans-Serif\" font-size=\"14.00\">value = [485, 972]</text>\n",
       "<text text-anchor=\"middle\" x=\"205\" y=\"-7.8\" font-family=\"Helvetica,sans-Serif\" font-size=\"14.00\">class = True</text>\n",
       "</g>\n",
       "<!-- 1&#45;&gt;3 -->\n",
       "<g id=\"edge3\" class=\"edge\">\n",
       "<title>1&#45;&gt;3</title>\n",
       "<path fill=\"none\" stroke=\"black\" d=\"M204.37,-103.73C204.45,-95.52 204.53,-86.86 204.6,-78.56\"/>\n",
       "<polygon fill=\"black\" stroke=\"black\" points=\"208.1,-78.33 204.7,-68.3 201.1,-78.27 208.1,-78.33\"/>\n",
       "</g>\n",
       "<!-- 5 -->\n",
       "<g id=\"node6\" class=\"node\">\n",
       "<title>5</title>\n",
       "<path fill=\"#f6d3ba\" stroke=\"black\" d=\"M415,-68C415,-68 299,-68 299,-68 293,-68 287,-62 287,-56 287,-56 287,-12 287,-12 287,-6 293,0 299,0 299,0 415,0 415,0 421,0 427,-6 427,-12 427,-12 427,-56 427,-56 427,-62 421,-68 415,-68\"/>\n",
       "<text text-anchor=\"middle\" x=\"357\" y=\"-52.8\" font-family=\"Helvetica,sans-Serif\" font-size=\"14.00\">gini = 0.478</text>\n",
       "<text text-anchor=\"middle\" x=\"357\" y=\"-37.8\" font-family=\"Helvetica,sans-Serif\" font-size=\"14.00\">samples = 4224</text>\n",
       "<text text-anchor=\"middle\" x=\"357\" y=\"-22.8\" font-family=\"Helvetica,sans-Serif\" font-size=\"14.00\">value = [2554, 1670]</text>\n",
       "<text text-anchor=\"middle\" x=\"357\" y=\"-7.8\" font-family=\"Helvetica,sans-Serif\" font-size=\"14.00\">class = False</text>\n",
       "</g>\n",
       "<!-- 4&#45;&gt;5 -->\n",
       "<g id=\"edge5\" class=\"edge\">\n",
       "<title>4&#45;&gt;5</title>\n",
       "<path fill=\"none\" stroke=\"black\" d=\"M357.63,-103.73C357.55,-95.52 357.47,-86.86 357.4,-78.56\"/>\n",
       "<polygon fill=\"black\" stroke=\"black\" points=\"360.9,-78.27 357.3,-68.3 353.9,-78.33 360.9,-78.27\"/>\n",
       "</g>\n",
       "<!-- 6 -->\n",
       "<g id=\"node7\" class=\"node\">\n",
       "<title>6</title>\n",
       "<path fill=\"#ea985e\" stroke=\"black\" d=\"M565,-68C565,-68 457,-68 457,-68 451,-68 445,-62 445,-56 445,-56 445,-12 445,-12 445,-6 451,0 457,0 457,0 565,0 565,0 571,0 577,-6 577,-12 577,-12 577,-56 577,-56 577,-62 571,-68 565,-68\"/>\n",
       "<text text-anchor=\"middle\" x=\"511\" y=\"-52.8\" font-family=\"Helvetica,sans-Serif\" font-size=\"14.00\">gini = 0.265</text>\n",
       "<text text-anchor=\"middle\" x=\"511\" y=\"-37.8\" font-family=\"Helvetica,sans-Serif\" font-size=\"14.00\">samples = 1432</text>\n",
       "<text text-anchor=\"middle\" x=\"511\" y=\"-22.8\" font-family=\"Helvetica,sans-Serif\" font-size=\"14.00\">value = [1207, 225]</text>\n",
       "<text text-anchor=\"middle\" x=\"511\" y=\"-7.8\" font-family=\"Helvetica,sans-Serif\" font-size=\"14.00\">class = False</text>\n",
       "</g>\n",
       "<!-- 4&#45;&gt;6 -->\n",
       "<g id=\"edge6\" class=\"edge\">\n",
       "<title>4&#45;&gt;6</title>\n",
       "<path fill=\"none\" stroke=\"black\" d=\"M414.97,-103.73C428.48,-94.06 442.86,-83.77 456.27,-74.17\"/>\n",
       "<polygon fill=\"black\" stroke=\"black\" points=\"458.38,-76.97 464.47,-68.3 454.3,-71.27 458.38,-76.97\"/>\n",
       "</g>\n",
       "</g>\n",
       "</svg>\n"
      ],
      "text/plain": [
       "<graphviz.sources.Source at 0x229f1ce4550>"
      ]
     },
     "execution_count": 557,
     "metadata": {},
     "output_type": "execute_result"
    }
   ],
   "source": [
    "tree_clf = DecisionTreeClassifier(max_depth=2, random_state=42)\n",
    "tree_clf.fit(X_train, y_train)\n",
    "export_graphviz(tree_clf,\n",
    "                out_file = 'aa.dot',\n",
    "                #feature_names = iris.feature_names[2:],\n",
    "                class_names = y_train.astype(str),\n",
    "                rounded = True,\n",
    "                filled = True\n",
    "               )\n",
    "with open ('aa.dot') as f:\n",
    "    dot_graph = f.read()\n",
    "    \n",
    "graphviz.Source(dot_graph)    "
   ]
  },
  {
   "cell_type": "markdown",
   "id": "344b5ee8",
   "metadata": {},
   "source": [
    "## Grid SearchCV"
   ]
  },
  {
   "cell_type": "code",
   "execution_count": 558,
   "id": "75093d47",
   "metadata": {},
   "outputs": [],
   "source": [
    "# GradientBoostingClassifier\n",
    "\n",
    "# SGDClassifier\n",
    "\n",
    "# RandomForestClassifier\n",
    "\n",
    "# LogisticRegression\n",
    "# 순서로 정리함"
   ]
  },
  {
   "cell_type": "code",
   "execution_count": 559,
   "id": "b5ff9066",
   "metadata": {},
   "outputs": [
    {
     "name": "stdout",
     "output_type": "stream",
     "text": [
      "0.8320487748763373\n",
      "{'learning_rate': 0.1, 'max_depth': 5, 'n_estimators': 50}\n"
     ]
    }
   ],
   "source": [
    "parameters = {\n",
    "#     \"learning_rate\": [0.01  ,0.1, 0.15, 0.2],\n",
    "     \"max_depth\":[3,5,8],\n",
    "#      'n_estimators' : [50,100,300, 500]\n",
    "    \n",
    "    }\n",
    "\n",
    "gb_clf = GridSearchCV(GradientBoostingClassifier(random_state=42), parameters, cv=5, n_jobs=-1)\n",
    "\n",
    "gb_clf.fit(X_train, y_train)\n",
    "print(gb_clf.score(X_train, y_train))\n",
    "print(gb_clf.best_params_)"
   ]
  },
  {
   "cell_type": "code",
   "execution_count": 560,
   "id": "585b44b3",
   "metadata": {},
   "outputs": [
    {
     "name": "stdout",
     "output_type": "stream",
     "text": [
      "0.7916714597952376\n",
      "{'alpha': 0.001, 'penalty': 'l1'}\n"
     ]
    }
   ],
   "source": [
    "parameters = {\n",
    "    \"penalty\": ['l1' ,'elasticnet'],\n",
    "#     \"alpha\":[0.0001,0.001,0.01,0.1,0.5]\n",
    "    \n",
    "    }\n",
    "\n",
    "sg_clf = GridSearchCV(SGDClassifier(), parameters, cv=5, n_jobs=-1)\n",
    "\n",
    "sg_clf.fit(X_train, y_train)\n",
    "print(sg_clf.score(X_train, y_train))\n",
    "print(sg_clf.best_params_)\n"
   ]
  },
  {
   "cell_type": "markdown",
   "id": "bea1a27c",
   "metadata": {},
   "source": [
    "SGD training을 이용한 SGD Classifier이다.\n",
    "\n",
    " \n",
    "\n",
    "주요 Parameters:\n",
    "\n",
    "- loss: 'hinge', 'log', 'modified_huber', 'squared_hinge', 'perceptron', 'squared_loss', 'huber', 'epsilon_insensitive', 'squared_epsilon_insensitive' 를 사용할 수 있다.\n",
    "\n",
    "- penalty: regularization에 사용할 penalty term의 종류. 'l1', 'l2', 'elasticnet'을 사용할 수 있다.\n",
    "\n",
    "- alpha: regularization term에 곱해줄 가중치\n",
    "\n",
    "- max_iter: training iteration을 수행할 횟수 (=epoch)"
   ]
  },
  {
   "cell_type": "code",
   "execution_count": null,
   "id": "75a0e3a5",
   "metadata": {},
   "outputs": [],
   "source": [
    "parameters = {\n",
    "    'n_estimators':[10,100,500],\n",
    "#      'max_depth':[6,8,10,12],\n",
    "#      'min_samples_leaf':[1,2,4,8,12,18],\n",
    "#      'min_samples_split':[8,16,20]\n",
    "    \n",
    "    }\n",
    "\n",
    "rf_clf = GridSearchCV(RandomForestClassifier(random_state=42), parameters, cv=5, n_jobs=-1)\n",
    "\n",
    "rf_clf.fit(X_train, y_train)\n",
    "print(rf_clf.score(X_train, y_train))\n",
    "print(rf_clf.best_params_)"
   ]
  },
  {
   "cell_type": "code",
   "execution_count": 562,
   "id": "50306505",
   "metadata": {},
   "outputs": [
    {
     "name": "stdout",
     "output_type": "stream",
     "text": [
      "0.7913263545381342\n",
      "{'C': 10, 'max_iter': 100, 'penalty': 'l2'}\n"
     ]
    }
   ],
   "source": [
    "parameters = {\n",
    "    \"penalty\": ['l1', 'l2'],\n",
    "#      'max_iter' :[100,500],\n",
    "#      'C': [0.1,1,10,100]\n",
    "    }\n",
    "\n",
    "lo_rg = GridSearchCV(LogisticRegression(), parameters, cv=5, n_jobs=-1)\n",
    "# C는 높은 수를 넣을수록 낮은 강도 alpha와 다름\n",
    "lo_rg.fit(X_train, y_train)\n",
    "print(lo_rg.score(X_train, y_train))\n",
    "print(lo_rg.best_params_)"
   ]
  },
  {
   "cell_type": "markdown",
   "id": "3a5f1103",
   "metadata": {},
   "source": [
    "SGD training을 이용한 SGD Classifier이다.\n",
    "\n",
    " \n",
    "\n",
    "주요 Parameters:\n",
    "\n",
    "- loss: 'hinge', 'log', 'modified_huber', 'squared_hinge', 'perceptron', 'squared_loss', 'huber', 'epsilon_insensitive', 'squared_epsilon_insensitive' 를 사용할 수 있다.\n",
    "\n",
    "- penalty: regularization에 사용할 penalty term의 종류. 'l1', 'l2', 'elasticnet'을 사용할 수 있다.\n",
    "\n",
    "- alpha: regularization term에 곱해줄 가중치\n",
    "\n",
    "- max_iter: training iteration을 수행할 횟수 (=epoch)"
   ]
  },
  {
   "cell_type": "code",
   "execution_count": 563,
   "id": "aef92f14",
   "metadata": {},
   "outputs": [
    {
     "data": {
      "text/plain": [
       "((8693, 28), (4277, 28))"
      ]
     },
     "execution_count": 563,
     "metadata": {},
     "output_type": "execute_result"
    }
   ],
   "source": [
    "X_train.shape,X_test.shape"
   ]
  },
  {
   "cell_type": "code",
   "execution_count": 564,
   "id": "872ef8e8",
   "metadata": {
    "scrolled": true
   },
   "outputs": [
    {
     "data": {
      "text/plain": [
       "Index(['Age', 'RoomService', 'FoodCourt', 'ShoppingMall', 'Spa', 'VRDeck',\n",
       "       'total', 'GroupSize', 'HomePlanet_Earth', 'HomePlanet_Europa',\n",
       "       'HomePlanet_Mars', 'CryoSleep_False', 'CryoSleep_True',\n",
       "       'Destination_55 Cancri e', 'Destination_PSO J318.5-22',\n",
       "       'Destination_TRAPPIST-1e', 'VIP_False', 'VIP_True', 'Front_A',\n",
       "       'Front_B', 'Front_C', 'Front_D', 'Front_E', 'Front_F', 'Front_G',\n",
       "       'Front_T', 'Back_P', 'Back_S'],\n",
       "      dtype='object')"
      ]
     },
     "execution_count": 564,
     "metadata": {},
     "output_type": "execute_result"
    }
   ],
   "source": [
    "#제출 부분\n",
    "X_train.columns"
   ]
  },
  {
   "cell_type": "code",
   "execution_count": 565,
   "id": "a1fb870d",
   "metadata": {},
   "outputs": [],
   "source": [
    "#X_train=pd.read_csv('./spaceship-titanic/1.csv')\n",
    "\n",
    "# X_test=pd.read_csv('./spaceship-titanic/2.csv')\n",
    "\n",
    "# X_train.drop('Transported',axis=1,inplace=True)"
   ]
  },
  {
   "cell_type": "code",
   "execution_count": 566,
   "id": "40885649",
   "metadata": {},
   "outputs": [],
   "source": [
    "#랜덤포레스트 예측"
   ]
  },
  {
   "cell_type": "code",
   "execution_count": 567,
   "id": "943b9226",
   "metadata": {},
   "outputs": [
    {
     "name": "stdout",
     "output_type": "stream",
     "text": [
      "정확도 : 0.8365165984538426 재현율 : 0.8403380539058931 f1 score : 0.8384229717411121\n"
     ]
    }
   ],
   "source": [
    "rf_clf=RandomForestClassifier(max_depth=12,n_estimators=100,random_state=42,min_samples_leaf=8,min_samples_split=20)\n",
    "rf_clf.fit(X_train, y_train)\n",
    "y_pred=rf_clf.predict(X_test)\n",
    "y_train_pred=rf_clf.predict(X_train)\n",
    "\n",
    "\n",
    "a=precision_score(y_train, y_train_pred)\n",
    "b=recall_score(y_train, y_train_pred)\n",
    "c=f1_score(y_train, y_train_pred)\n",
    "print(\"정확도 :\" ,a, \"재현율 :\",b,\"f1 score :\", c)\n",
    "\n",
    "\n",
    "dddd=pd.read_csv('./spaceship-titanic/test.csv')\n",
    "sub1 = pd.DataFrame({'Transported':y_pred})\n",
    "sub2=pd.DataFrame({'PassengerId':dddd.PassengerId})\n",
    "total_sub=pd.concat([sub2,sub1],axis=1).set_index('PassengerId')\n",
    "\n",
    "# total_sub.to_csv('submission.csv')"
   ]
  },
  {
   "cell_type": "code",
   "execution_count": 568,
   "id": "e36cdc3f",
   "metadata": {},
   "outputs": [],
   "source": [
    "#그레디언트 부스트"
   ]
  },
  {
   "cell_type": "code",
   "execution_count": 569,
   "id": "58440724",
   "metadata": {},
   "outputs": [
    {
     "name": "stdout",
     "output_type": "stream",
     "text": [
      "정확도 : 0.815937635339974 재현율 : 0.860666971219735 f1 score : 0.8377056469542019\n"
     ]
    }
   ],
   "source": [
    "gd_clf=GradientBoostingClassifier(n_estimators=50,max_depth=5,learning_rate=0.1,random_state=42)\n",
    "gd_clf.fit(X_train, y_train)\n",
    "y_pred=gd_clf.predict(X_test)\n",
    "y_train_pred=gd_clf.predict(X_train)\n",
    "\n",
    "\n",
    "a=precision_score(y_train, y_train_pred)\n",
    "b=recall_score(y_train, y_train_pred)\n",
    "c=f1_score(y_train, y_train_pred)\n",
    "print(\"정확도 :\" ,a, \"재현율 :\",b,\"f1 score :\", c)\n",
    "\n",
    "\n",
    "dddd=pd.read_csv('./spaceship-titanic/test.csv')\n",
    "sub1 = pd.DataFrame({'Transported':y_pred})\n",
    "sub2=pd.DataFrame({'PassengerId':dddd.PassengerId})\n",
    "total_sub=pd.concat([sub2,sub1],axis=1).set_index('PassengerId')\n",
    "\n",
    "# total_sub.to_csv('submission.csv')"
   ]
  },
  {
   "cell_type": "markdown",
   "id": "832b2408",
   "metadata": {},
   "source": [
    "- gradient boosting regression tree는 여러 개의 decision tree를 묶어 강력한 model을 만드는 ensemble기법입니다.\n",
    "\n",
    "- random forest와 달리 gradient boosting model은 이전 tree의 오차를 보완하는 방식으로 tree를 만듭니다.\n",
    "\n",
    "\n",
    "\n",
    "- gradient boosting은 무작위성이 없어 powerful한 pre-pruning이 사용되며\n",
    "\n",
    "- 1~5 정도 깊이의 tree를 사용하므로 메모리를 적게 사용하고 예측도 빠릅니다.\n",
    "\n",
    "\n",
    "\n",
    "- gradient boosting은 이런 얕은 트리들을 계속해서 연결해나가는 것입니다.\n",
    "\n",
    "\n",
    "\n",
    "- gradient boosting은 parmeter설정에 random forest보다 조금 더 민감하지만 잘 조정하면 높은 정확도를 제공합니다.\n",
    "\n",
    "\n",
    "\n",
    "- gradinet boosting에서 주요 parameter는 이전 트리의 오차를 얼마나 강하게 보정할 것인가를 제어하는\n",
    "\n",
    "- learning_rate가 있습니다.\n",
    "\n",
    "\n",
    "\n",
    "- learning_rate를 높이면 보정을 강하게 하기 때문에 복잡한 모델을 만듭니다.\n",
    "\n",
    "- n_estimator 값을 키우면 ensemble에 트리가 더 많이 추가되어 모델의 복잡도가 커지고 train 세트를 더 정확하게 fitting합니다."
   ]
  },
  {
   "cell_type": "code",
   "execution_count": 570,
   "id": "560195dd",
   "metadata": {},
   "outputs": [],
   "source": [
    "#캣부스트 패키지 깔아야가능"
   ]
  },
  {
   "cell_type": "code",
   "execution_count": 571,
   "id": "15cd5632",
   "metadata": {},
   "outputs": [],
   "source": [
    "CBC = ctb.CatBoostClassifier(silent=True,\n",
    "                             depth=6,\n",
    "                             iterations=300,\n",
    "                            )\n",
    "CBC.fit(X_train, y_train)\n",
    "y_pred = CBC.predict(X_test)\n",
    "\n",
    "\n",
    "dddd=pd.read_csv('./spaceship-titanic/test.csv')\n",
    "sub1 = pd.DataFrame({'Transported':y_pred})\n",
    "sub2=pd.DataFrame({'PassengerId':dddd.PassengerId})\n",
    "total_sub=pd.concat([sub2,sub1],axis=1).set_index('PassengerId')\n",
    "\n",
    "# total_sub.to_csv('submission.csv')"
   ]
  },
  {
   "cell_type": "code",
   "execution_count": 572,
   "id": "1effa8b6",
   "metadata": {},
   "outputs": [],
   "source": [
    "# plt.figure(figsize=(10,5))\n",
    "# sns.heatmap(confusion_matrix(y_check,ypred), annot=True, fmt='d', cmap='Greens',cbar=False).set_title('Confusion Matrix', fontsize=16)\n",
    "# plt.show()"
   ]
  },
  {
   "cell_type": "code",
   "execution_count": 573,
   "id": "d78f3524",
   "metadata": {},
   "outputs": [],
   "source": [
    "# print('Confusion Matrix'.center(70,'-'), '\\n')\n",
    "# print(confusion_matrix(y_check,ypred), '\\n')\n",
    "# print('Classification Report'.center(70,'-'), '\\n')\n",
    "# print(classification_report(yvalid,ypred))\n",
    "# print('Score'.center(70,'-'), '\\n')\n",
    "# print (f'Score of Model NLP is  {round(accuracy_score(y_check, yeprd) * 100,2)}%')"
   ]
  },
  {
   "cell_type": "code",
   "execution_count": null,
   "id": "c20e8471",
   "metadata": {},
   "outputs": [],
   "source": []
  }
 ],
 "metadata": {
  "kernelspec": {
   "display_name": "Python 3 (ipykernel)",
   "language": "python",
   "name": "python3"
  },
  "language_info": {
   "codemirror_mode": {
    "name": "ipython",
    "version": 3
   },
   "file_extension": ".py",
   "mimetype": "text/x-python",
   "name": "python",
   "nbconvert_exporter": "python",
   "pygments_lexer": "ipython3",
   "version": "3.8.15"
  }
 },
 "nbformat": 4,
 "nbformat_minor": 5
}
